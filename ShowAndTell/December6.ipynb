{
 "cells": [
  {
   "cell_type": "markdown",
   "metadata": {},
   "source": [
    "# Healthy Ride Data Exploration"
   ]
  },
  {
   "cell_type": "markdown",
   "metadata": {},
   "source": [
    "<img src='https://healthyridepgh.com/wp-content/uploads/sites/3/2016/09/Healthy-Ride-Logo.Stacked-01.png' width='50%'>\n",
    "\n",
    "<big><big><big>PGH Data Science Meetup</big></big></big>\n",
    "\n",
    "<b>Show and Tell</b>\n",
    "\n",
    "*December 6, 2017*\n",
    "\n",
    "* Robert Lucente, *Pipeline*\n",
    "* Chris Sternberger, *BAE Systems*\n",
    "* Melinda Angeles, *Allegheny County*\n",
    "* Albert DeFusco, *Anaconda, Inc.*"
   ]
  },
  {
   "cell_type": "markdown",
   "metadata": {},
   "source": [
    "# Table of Contents\n",
    "* [Healthy Ride Data Exploration](#Healthy-Ride-Data-Exploration)\n",
    "\t* [Get Data](#Get-Data)\n",
    "\t* [2016 Rides](#2016-Rides)\n",
    "\t* [Stations](#Stations)\n",
    "\t* [Harmonizing](#Harmonizing)\n",
    "\t\t* [Geocoding](#Geocoding)\n",
    "\t* [Again for 2017](#Again-for-2017)\n",
    "\t* [Popular Stations](#Popular-Stations)\n",
    "\t\t* [Cleaning](#Cleaning)\n",
    "\t* [Mapping](#Mapping)\n",
    "\t* [Ride difficulty](#Ride-difficulty)\n",
    "\t\t* [elevation](#elevation)\n",
    "\t\t* [distance](#distance)\n",
    "\t\t* [Grade](#Grade)\n",
    "\t* [More Google APIs](#More-Google-APIs)\n",
    "\t\t* [On time arrival](#On-time-arrival)\n"
   ]
  },
  {
   "cell_type": "markdown",
   "metadata": {},
   "source": [
    "## Get Data"
   ]
  },
  {
   "cell_type": "markdown",
   "metadata": {},
   "source": [
    "We'll do a little web scraping here to get the Zip files."
   ]
  },
  {
   "cell_type": "code",
   "execution_count": 1,
   "metadata": {},
   "outputs": [],
   "source": [
    "import os\n",
    "import shutil\n",
    "\n",
    "if os.path.exists('./data'):\n",
    "    shutil.rmtree('./data/')\n",
    "    \n",
    "os.mkdir('./data')"
   ]
  },
  {
   "cell_type": "markdown",
   "metadata": {},
   "source": [
    "<big><big>[Requests: HTTP for Humans](http://docs.python-requests.org/en/master/)</big></big> | <big><big>[BeautifulSoup: HTML parsing](https://www.crummy.com/software/BeautifulSoup/)</big></big>\n",
    ":-------------------------:|:-------------------------:\n",
    "<img src='http://docs.python-requests.org/en/master/_static/requests-sidebar.png' width='20%'>  |  <img src='https://singbookswithemily.files.wordpress.com/2015/03/beautiful-soup-can-w-mock-turtle-coin.jpg' width='40%'>"
   ]
  },
  {
   "cell_type": "code",
   "execution_count": 2,
   "metadata": {},
   "outputs": [
    {
     "name": "stdout",
     "output_type": "stream",
     "text": [
      "Downloading HealthyRideTripData2015Q2.zip\n",
      "Downloading HealthyRideTripData2015Q3.zip\n",
      "Downloading HealthyRideTripData2015Q4.zip\n",
      "Downloading HealthyRideTripData2016Q1.zip\n",
      "Downloading HealthyRideTripData2016Q2.zip\n",
      "Downloading HealthyRideTripData2016Q3.zip\n",
      "Downloading HealthyRideTripData2016Q4.zip\n",
      "Downloading HealthyRideTripData2017Q1.zip\n",
      "Downloading HealthyRideTripData2017Q2.zip\n"
     ]
    },
    {
     "data": {
      "text/plain": [
       "['HealthyRideTripData2016Q1.zip',\n",
       " 'HealthyRideTripData2016Q2.zip',\n",
       " 'HealthyRideTripData2016Q3.zip',\n",
       " 'HealthyRideTripData2016Q4.zip',\n",
       " 'HealthyRideTripData2017Q2.zip',\n",
       " 'HealthyRideTripData2015Q3.zip',\n",
       " 'HealthyRideTripData2017Q1.zip',\n",
       " 'HealthyRideTripData2015Q2.zip',\n",
       " 'HealthyRideTripData2015Q4.zip']"
      ]
     },
     "execution_count": 2,
     "metadata": {},
     "output_type": "execute_result"
    }
   ],
   "source": [
    "import requests\n",
    "from bs4 import BeautifulSoup\n",
    "from os.path import basename, join\n",
    "\n",
    "response = requests.get('http://healthyridepgh.com/data')\n",
    "soup = BeautifulSoup(response.content, 'lxml')\n",
    "\n",
    "buttons = soup.find_all('a', attrs={'class':'btn btn-primary'})\n",
    "links = [b.get('href') for b in buttons]\n",
    "\n",
    "for link in links:\n",
    "    response = requests.get(link)\n",
    "    if response.ok:\n",
    "        fname = basename(link)\n",
    "        print('Downloading {}'.format(fname))\n",
    "        with open(join('data',fname), 'wb') as f:\n",
    "            f.write(response.content)\n",
    "\n",
    "os.listdir('./data')"
   ]
  },
  {
   "cell_type": "markdown",
   "metadata": {},
   "source": [
    "Finally, we'll extract the archives."
   ]
  },
  {
   "cell_type": "code",
   "execution_count": 3,
   "metadata": {},
   "outputs": [],
   "source": [
    "from zipfile import ZipFile\n",
    "\n",
    "for file in os.listdir('./data'):\n",
    "    with ZipFile(join('./data',file)) as z:\n",
    "        z.extractall('./data')"
   ]
  },
  {
   "cell_type": "code",
   "execution_count": 4,
   "metadata": {},
   "outputs": [
    {
     "name": "stdout",
     "output_type": "stream",
     "text": [
      "./data/2017-Q1/\n",
      "               Healthy Ride Rentals 2017-Q1.csv\n",
      "               HealthyRideStations2017.csv\n",
      "               desktop.ini\n",
      "./data/2016-Q1/\n",
      "               HealthyRide Rentals 2016 Q1.csv\n",
      "               HealthyRideStations2016.csv\n",
      "               desktop.ini\n",
      "./data/2015-Q2/\n",
      "               HealthyRideStations2015.csv\n",
      "               HealthyRide Rentals 2015 Q2.csv\n",
      "               desktop.ini\n",
      "./data/2015-Q3/\n",
      "               HealthyRideStations2015.csv\n",
      "               HealthyRide Rentals 2015 Q3.csv\n",
      "               desktop.ini\n",
      "./data/2015-Q4/\n",
      "               HealthyRideStations2015.csv\n",
      "               HealthyRide Rentals 2015 Q4.csv\n",
      "               desktop.ini\n",
      "./data/2017-Q2/\n",
      "               Healthy Ride Rentals 2017-Q2.csv\n",
      "               HealthyRideStations2017.csv\n",
      "./data/2016-Q2/\n",
      "               HealthyRide Rentals 2016 Q2.csv\n",
      "               HealthyRideStations2016.csv\n",
      "               desktop.ini\n",
      "./data/2016-Q3/\n",
      "               HealthyRide Rentals 2016 Q3.csv\n",
      "               HealthyRideStations2016.csv\n",
      "               desktop.ini\n",
      "./data/2016-Q4/\n",
      "               HealthyRide Rentals 2016 Q4.csv\n",
      "               HealthyRideStations2016.csv\n",
      "               desktop.ini\n"
     ]
    }
   ],
   "source": [
    "for root, dirs, files in os.walk('./data'):\n",
    "    if not dirs:\n",
    "        print(root+'/')\n",
    "        for f in files:\n",
    "            print(' '*14,f)"
   ]
  },
  {
   "cell_type": "markdown",
   "metadata": {},
   "source": [
    "## 2016 Rides"
   ]
  },
  {
   "cell_type": "markdown",
   "metadata": {},
   "source": [
    "\n",
    "<img src='https://pandas.pydata.org/_static/pandas_logo.png' width='80%'>\n",
    "\n",
    "http://pandas.pydata.org\n",
    "\n",
    "\"Python and data analysis\" and \"panel data\""
   ]
  },
  {
   "cell_type": "markdown",
   "metadata": {},
   "source": [
    "Read all of the 2016 data into a single Pandas DataFrame object it's only 70,000 rows."
   ]
  },
  {
   "cell_type": "code",
   "execution_count": 5,
   "metadata": {},
   "outputs": [
    {
     "data": {
      "text/html": [
       "<div>\n",
       "<style scoped>\n",
       "    .dataframe tbody tr th:only-of-type {\n",
       "        vertical-align: middle;\n",
       "    }\n",
       "\n",
       "    .dataframe tbody tr th {\n",
       "        vertical-align: top;\n",
       "    }\n",
       "\n",
       "    .dataframe thead th {\n",
       "        text-align: right;\n",
       "    }\n",
       "</style>\n",
       "<table border=\"1\" class=\"dataframe\">\n",
       "  <thead>\n",
       "    <tr style=\"text-align: right;\">\n",
       "      <th></th>\n",
       "      <th>Trip id</th>\n",
       "      <th>Starttime</th>\n",
       "      <th>Stoptime</th>\n",
       "      <th>Bikeid</th>\n",
       "      <th>Tripduration</th>\n",
       "      <th>From station id</th>\n",
       "      <th>From station name</th>\n",
       "      <th>To station id</th>\n",
       "      <th>To station name</th>\n",
       "      <th>Usertype</th>\n",
       "    </tr>\n",
       "  </thead>\n",
       "  <tbody>\n",
       "    <tr>\n",
       "      <th>0</th>\n",
       "      <td>15335599</td>\n",
       "      <td>2016-01-01 01:44:00</td>\n",
       "      <td>2016-01-01 02:01:00</td>\n",
       "      <td>70294</td>\n",
       "      <td>1068</td>\n",
       "      <td>1026</td>\n",
       "      <td>Penn Ave &amp; S Whitfield St</td>\n",
       "      <td>1032</td>\n",
       "      <td>Walnut St &amp; College St</td>\n",
       "      <td>NaN</td>\n",
       "    </tr>\n",
       "    <tr>\n",
       "      <th>1</th>\n",
       "      <td>15335629</td>\n",
       "      <td>2016-01-01 02:39:00</td>\n",
       "      <td>2016-01-01 02:53:00</td>\n",
       "      <td>70360</td>\n",
       "      <td>892</td>\n",
       "      <td>1029</td>\n",
       "      <td>Alder St &amp; S Highland Ave</td>\n",
       "      <td>1021</td>\n",
       "      <td>Taylor St &amp; Liberty Ave</td>\n",
       "      <td>NaN</td>\n",
       "    </tr>\n",
       "    <tr>\n",
       "      <th>2</th>\n",
       "      <td>15336195</td>\n",
       "      <td>2016-01-01 10:02:00</td>\n",
       "      <td>2016-01-01 10:06:00</td>\n",
       "      <td>70369</td>\n",
       "      <td>245</td>\n",
       "      <td>1029</td>\n",
       "      <td>Alder St &amp; S Highland Ave</td>\n",
       "      <td>1028</td>\n",
       "      <td>Penn Ave &amp; Putnam St (Bakery Square)</td>\n",
       "      <td>NaN</td>\n",
       "    </tr>\n",
       "    <tr>\n",
       "      <th>3</th>\n",
       "      <td>15336282</td>\n",
       "      <td>2016-01-01 10:39:00</td>\n",
       "      <td>2016-01-01 10:50:00</td>\n",
       "      <td>70304</td>\n",
       "      <td>683</td>\n",
       "      <td>1041</td>\n",
       "      <td>Fifth Ave &amp; S Bouquet St</td>\n",
       "      <td>1047</td>\n",
       "      <td>S 22nd St &amp; E Carson St</td>\n",
       "      <td>NaN</td>\n",
       "    </tr>\n",
       "    <tr>\n",
       "      <th>4</th>\n",
       "      <td>15336307</td>\n",
       "      <td>2016-01-01 10:51:00</td>\n",
       "      <td>2016-01-01 11:14:00</td>\n",
       "      <td>70345</td>\n",
       "      <td>1346</td>\n",
       "      <td>1047</td>\n",
       "      <td>S 22nd St &amp; E Carson St</td>\n",
       "      <td>1002</td>\n",
       "      <td>Third Ave &amp; Wood St</td>\n",
       "      <td>NaN</td>\n",
       "    </tr>\n",
       "  </tbody>\n",
       "</table>\n",
       "</div>"
      ],
      "text/plain": [
       "    Trip id           Starttime            Stoptime  Bikeid  Tripduration  \\\n",
       "0  15335599 2016-01-01 01:44:00 2016-01-01 02:01:00   70294          1068   \n",
       "1  15335629 2016-01-01 02:39:00 2016-01-01 02:53:00   70360           892   \n",
       "2  15336195 2016-01-01 10:02:00 2016-01-01 10:06:00   70369           245   \n",
       "3  15336282 2016-01-01 10:39:00 2016-01-01 10:50:00   70304           683   \n",
       "4  15336307 2016-01-01 10:51:00 2016-01-01 11:14:00   70345          1346   \n",
       "\n",
       "   From station id          From station name  To station id  \\\n",
       "0             1026  Penn Ave & S Whitfield St           1032   \n",
       "1             1029  Alder St & S Highland Ave           1021   \n",
       "2             1029  Alder St & S Highland Ave           1028   \n",
       "3             1041   Fifth Ave & S Bouquet St           1047   \n",
       "4             1047    S 22nd St & E Carson St           1002   \n",
       "\n",
       "                        To station name  Usertype  \n",
       "0                Walnut St & College St       NaN  \n",
       "1               Taylor St & Liberty Ave       NaN  \n",
       "2  Penn Ave & Putnam St (Bakery Square)       NaN  \n",
       "3               S 22nd St & E Carson St       NaN  \n",
       "4                   Third Ave & Wood St       NaN  "
      ]
     },
     "execution_count": 5,
     "metadata": {},
     "output_type": "execute_result"
    }
   ],
   "source": [
    "import pandas as pd\n",
    "from glob import glob\n",
    "pd.options.display.max_rows = 8\n",
    "\n",
    "files = glob('./data/2016-Q*/HealthyRide Rentals 2016 Q*.csv')\n",
    "rides2016 = pd.concat([pd.read_csv(f) for f in files], ignore_index=True)\n",
    "\n",
    "for c in 'Starttime','Stoptime':\n",
    "    rides2016[c] = pd.to_datetime(rides2016[c], format='%m/%d/%Y %H:%M')\n",
    "    \n",
    "rides2016.head()"
   ]
  },
  {
   "cell_type": "markdown",
   "metadata": {},
   "source": [
    "## Stations"
   ]
  },
  {
   "cell_type": "markdown",
   "metadata": {},
   "source": [
    "Positions of each station are stored separately. 2017 probably has the most up to date stations."
   ]
  },
  {
   "cell_type": "code",
   "execution_count": 6,
   "metadata": {},
   "outputs": [
    {
     "data": {
      "text/html": [
       "<div>\n",
       "<style scoped>\n",
       "    .dataframe tbody tr th:only-of-type {\n",
       "        vertical-align: middle;\n",
       "    }\n",
       "\n",
       "    .dataframe tbody tr th {\n",
       "        vertical-align: top;\n",
       "    }\n",
       "\n",
       "    .dataframe thead th {\n",
       "        text-align: right;\n",
       "    }\n",
       "</style>\n",
       "<table border=\"1\" class=\"dataframe\">\n",
       "  <thead>\n",
       "    <tr style=\"text-align: right;\">\n",
       "      <th></th>\n",
       "      <th>Station Name</th>\n",
       "      <th># of Racks</th>\n",
       "      <th>Latitude</th>\n",
       "      <th>Longitude</th>\n",
       "    </tr>\n",
       "    <tr>\n",
       "      <th>Station #</th>\n",
       "      <th></th>\n",
       "      <th></th>\n",
       "      <th></th>\n",
       "      <th></th>\n",
       "    </tr>\n",
       "  </thead>\n",
       "  <tbody>\n",
       "    <tr>\n",
       "      <th>1000</th>\n",
       "      <td>Liberty Ave &amp; Stanwix St</td>\n",
       "      <td>16</td>\n",
       "      <td>40.441326</td>\n",
       "      <td>-80.004679</td>\n",
       "    </tr>\n",
       "    <tr>\n",
       "      <th>1001</th>\n",
       "      <td>Forbes Ave &amp; Market Square</td>\n",
       "      <td>19</td>\n",
       "      <td>40.440877</td>\n",
       "      <td>-80.003080</td>\n",
       "    </tr>\n",
       "    <tr>\n",
       "      <th>1002</th>\n",
       "      <td>Third Ave &amp; Wood St</td>\n",
       "      <td>15</td>\n",
       "      <td>40.439030</td>\n",
       "      <td>-80.001860</td>\n",
       "    </tr>\n",
       "    <tr>\n",
       "      <th>1003</th>\n",
       "      <td>First Ave &amp; Smithfield St (Art Institute)</td>\n",
       "      <td>15</td>\n",
       "      <td>40.437200</td>\n",
       "      <td>-80.000375</td>\n",
       "    </tr>\n",
       "    <tr>\n",
       "      <th>...</th>\n",
       "      <td>...</td>\n",
       "      <td>...</td>\n",
       "      <td>...</td>\n",
       "      <td>...</td>\n",
       "    </tr>\n",
       "    <tr>\n",
       "      <th>1048</th>\n",
       "      <td>S 18th St &amp; Sidney St</td>\n",
       "      <td>16</td>\n",
       "      <td>40.429338</td>\n",
       "      <td>-79.980684</td>\n",
       "    </tr>\n",
       "    <tr>\n",
       "      <th>1049</th>\n",
       "      <td>S 12th St &amp; E Carson St</td>\n",
       "      <td>19</td>\n",
       "      <td>40.428661</td>\n",
       "      <td>-79.986358</td>\n",
       "    </tr>\n",
       "    <tr>\n",
       "      <th>1050</th>\n",
       "      <td>Healthy Ride Hub</td>\n",
       "      <td>2</td>\n",
       "      <td>40.461817</td>\n",
       "      <td>-79.968002</td>\n",
       "    </tr>\n",
       "    <tr>\n",
       "      <th>1061</th>\n",
       "      <td>33rd St and Penn Ave</td>\n",
       "      <td>2</td>\n",
       "      <td>40.462026</td>\n",
       "      <td>-79.968114</td>\n",
       "    </tr>\n",
       "  </tbody>\n",
       "</table>\n",
       "<p>52 rows × 4 columns</p>\n",
       "</div>"
      ],
      "text/plain": [
       "                                        Station Name  # of Racks   Latitude  \\\n",
       "Station #                                                                     \n",
       "1000                        Liberty Ave & Stanwix St          16  40.441326   \n",
       "1001                      Forbes Ave & Market Square          19  40.440877   \n",
       "1002                             Third Ave & Wood St          15  40.439030   \n",
       "1003       First Ave & Smithfield St (Art Institute)          15  40.437200   \n",
       "...                                              ...         ...        ...   \n",
       "1048                           S 18th St & Sidney St          16  40.429338   \n",
       "1049                         S 12th St & E Carson St          19  40.428661   \n",
       "1050                                Healthy Ride Hub           2  40.461817   \n",
       "1061                            33rd St and Penn Ave           2  40.462026   \n",
       "\n",
       "           Longitude  \n",
       "Station #             \n",
       "1000      -80.004679  \n",
       "1001      -80.003080  \n",
       "1002      -80.001860  \n",
       "1003      -80.000375  \n",
       "...              ...  \n",
       "1048      -79.980684  \n",
       "1049      -79.986358  \n",
       "1050      -79.968002  \n",
       "1061      -79.968114  \n",
       "\n",
       "[52 rows x 4 columns]"
      ]
     },
     "execution_count": 6,
     "metadata": {},
     "output_type": "execute_result"
    }
   ],
   "source": [
    "stations = pd.read_csv('data/2017-Q1/HealthyRideStations2017.csv',encoding='iso-8859-1', index_col=0).sort_index()\n",
    "stations"
   ]
  },
  {
   "cell_type": "markdown",
   "metadata": {},
   "source": [
    "## Harmonizing"
   ]
  },
  {
   "cell_type": "markdown",
   "metadata": {},
   "source": [
    "The rides file has *MORE* station IDs than are listed in the stations file."
   ]
  },
  {
   "cell_type": "code",
   "execution_count": 7,
   "metadata": {},
   "outputs": [
    {
     "data": {
      "text/plain": [
       "53"
      ]
     },
     "execution_count": 7,
     "metadata": {},
     "output_type": "execute_result"
    }
   ],
   "source": [
    "from_ids = rides2016['From station id'].drop_duplicates()\n",
    "to_ids = rides2016['To station id'].drop_duplicates()\n",
    "\n",
    "station_ids = pd.concat([from_ids, to_ids]).drop_duplicates()\n",
    "len(station_ids)"
   ]
  },
  {
   "cell_type": "markdown",
   "metadata": {},
   "source": [
    "What is station 1060???"
   ]
  },
  {
   "cell_type": "code",
   "execution_count": 8,
   "metadata": {},
   "outputs": [
    {
     "data": {
      "text/plain": [
       "[1060]"
      ]
     },
     "execution_count": 8,
     "metadata": {},
     "output_type": "execute_result"
    }
   ],
   "source": [
    "missing_stations = station_ids[~station_ids.isin(stations.index)].tolist()\n",
    "missing_stations"
   ]
  },
  {
   "cell_type": "markdown",
   "metadata": {},
   "source": [
    "Let's go get its name."
   ]
  },
  {
   "cell_type": "code",
   "execution_count": 9,
   "metadata": {
    "scrolled": true
   },
   "outputs": [
    {
     "data": {
      "text/plain": [
       "46569    Open Streets West End\n",
       "Name: From station name, dtype: object"
      ]
     },
     "execution_count": 9,
     "metadata": {},
     "output_type": "execute_result"
    }
   ],
   "source": [
    "missing_names = rides2016.loc[rides2016['From station id'].isin(missing_stations), 'From station name'].drop_duplicates()\n",
    "missing_names"
   ]
  },
  {
   "cell_type": "markdown",
   "metadata": {},
   "source": [
    "### Geocoding "
   ]
  },
  {
   "cell_type": "markdown",
   "metadata": {},
   "source": [
    "<img src='img/gmaps.png'>\n",
    "\n",
    "\n",
    "Open Streets West End looks like a [temporary station](http://openstreetspgh.org/schedule-july-2016/#WABASH).\n",
    "\n",
    "*Let's got find it!*\n",
    "\n",
    "[GoogleMaps](https://github.com/googlemaps/google-maps-services-python) makes interacting with the API easy once you have a key.\n",
    "\n",
    "**Note**: you will not be able to install `my_secrets`. These are my private API keys."
   ]
  },
  {
   "cell_type": "code",
   "execution_count": 10,
   "metadata": {},
   "outputs": [],
   "source": [
    "import googlemaps\n",
    "from my_secrets.keys import google_gmap\n",
    "\n",
    "c_map = googlemaps.Client(key=google_gmap)\n",
    "wabash_and_main = c_map.geocode('Wabash and Main St. West End Pittsburgh, PA')[0]['geometry']['location']"
   ]
  },
  {
   "cell_type": "code",
   "execution_count": 11,
   "metadata": {},
   "outputs": [],
   "source": [
    "import numpy as np\n",
    "\n",
    "new_station = {\n",
    "    'Station Name':'Open Streets West End',\n",
    "    '# of Racks':np.nan,\n",
    "    'Latitude':wabash_and_main['lat'],\n",
    "    'Longitude':wabash_and_main['lng']\n",
    "}\n",
    "\n",
    "stations.loc[1060] = new_station"
   ]
  },
  {
   "cell_type": "code",
   "execution_count": 12,
   "metadata": {},
   "outputs": [
    {
     "data": {
      "text/html": [
       "<div>\n",
       "<style scoped>\n",
       "    .dataframe tbody tr th:only-of-type {\n",
       "        vertical-align: middle;\n",
       "    }\n",
       "\n",
       "    .dataframe tbody tr th {\n",
       "        vertical-align: top;\n",
       "    }\n",
       "\n",
       "    .dataframe thead th {\n",
       "        text-align: right;\n",
       "    }\n",
       "</style>\n",
       "<table border=\"1\" class=\"dataframe\">\n",
       "  <thead>\n",
       "    <tr style=\"text-align: right;\">\n",
       "      <th></th>\n",
       "      <th>Station Name</th>\n",
       "      <th># of Racks</th>\n",
       "      <th>Latitude</th>\n",
       "      <th>Longitude</th>\n",
       "    </tr>\n",
       "    <tr>\n",
       "      <th>Station #</th>\n",
       "      <th></th>\n",
       "      <th></th>\n",
       "      <th></th>\n",
       "      <th></th>\n",
       "    </tr>\n",
       "  </thead>\n",
       "  <tbody>\n",
       "    <tr>\n",
       "      <th>1000</th>\n",
       "      <td>Liberty Ave &amp; Stanwix St</td>\n",
       "      <td>16.0</td>\n",
       "      <td>40.441326</td>\n",
       "      <td>-80.004679</td>\n",
       "    </tr>\n",
       "    <tr>\n",
       "      <th>1001</th>\n",
       "      <td>Forbes Ave &amp; Market Square</td>\n",
       "      <td>19.0</td>\n",
       "      <td>40.440877</td>\n",
       "      <td>-80.003080</td>\n",
       "    </tr>\n",
       "    <tr>\n",
       "      <th>1002</th>\n",
       "      <td>Third Ave &amp; Wood St</td>\n",
       "      <td>15.0</td>\n",
       "      <td>40.439030</td>\n",
       "      <td>-80.001860</td>\n",
       "    </tr>\n",
       "    <tr>\n",
       "      <th>1003</th>\n",
       "      <td>First Ave &amp; Smithfield St (Art Institute)</td>\n",
       "      <td>15.0</td>\n",
       "      <td>40.437200</td>\n",
       "      <td>-80.000375</td>\n",
       "    </tr>\n",
       "    <tr>\n",
       "      <th>...</th>\n",
       "      <td>...</td>\n",
       "      <td>...</td>\n",
       "      <td>...</td>\n",
       "      <td>...</td>\n",
       "    </tr>\n",
       "    <tr>\n",
       "      <th>1049</th>\n",
       "      <td>S 12th St &amp; E Carson St</td>\n",
       "      <td>19.0</td>\n",
       "      <td>40.428661</td>\n",
       "      <td>-79.986358</td>\n",
       "    </tr>\n",
       "    <tr>\n",
       "      <th>1050</th>\n",
       "      <td>Healthy Ride Hub</td>\n",
       "      <td>2.0</td>\n",
       "      <td>40.461817</td>\n",
       "      <td>-79.968002</td>\n",
       "    </tr>\n",
       "    <tr>\n",
       "      <th>1061</th>\n",
       "      <td>33rd St and Penn Ave</td>\n",
       "      <td>2.0</td>\n",
       "      <td>40.462026</td>\n",
       "      <td>-79.968114</td>\n",
       "    </tr>\n",
       "    <tr>\n",
       "      <th>1060</th>\n",
       "      <td>Open Streets West End</td>\n",
       "      <td>NaN</td>\n",
       "      <td>40.440910</td>\n",
       "      <td>-80.034810</td>\n",
       "    </tr>\n",
       "  </tbody>\n",
       "</table>\n",
       "<p>53 rows × 4 columns</p>\n",
       "</div>"
      ],
      "text/plain": [
       "                                        Station Name  # of Racks   Latitude  \\\n",
       "Station #                                                                     \n",
       "1000                        Liberty Ave & Stanwix St        16.0  40.441326   \n",
       "1001                      Forbes Ave & Market Square        19.0  40.440877   \n",
       "1002                             Third Ave & Wood St        15.0  40.439030   \n",
       "1003       First Ave & Smithfield St (Art Institute)        15.0  40.437200   \n",
       "...                                              ...         ...        ...   \n",
       "1049                         S 12th St & E Carson St        19.0  40.428661   \n",
       "1050                                Healthy Ride Hub         2.0  40.461817   \n",
       "1061                            33rd St and Penn Ave         2.0  40.462026   \n",
       "1060                           Open Streets West End         NaN  40.440910   \n",
       "\n",
       "           Longitude  \n",
       "Station #             \n",
       "1000      -80.004679  \n",
       "1001      -80.003080  \n",
       "1002      -80.001860  \n",
       "1003      -80.000375  \n",
       "...              ...  \n",
       "1049      -79.986358  \n",
       "1050      -79.968002  \n",
       "1061      -79.968114  \n",
       "1060      -80.034810  \n",
       "\n",
       "[53 rows x 4 columns]"
      ]
     },
     "execution_count": 12,
     "metadata": {},
     "output_type": "execute_result"
    }
   ],
   "source": [
    "stations"
   ]
  },
  {
   "cell_type": "markdown",
   "metadata": {},
   "source": [
    "## Again for 2017"
   ]
  },
  {
   "cell_type": "code",
   "execution_count": 13,
   "metadata": {},
   "outputs": [],
   "source": [
    "files = glob('./data/2017-Q*/Healthy Ride Rentals 2017-Q*.csv')\n",
    "rides2017 = pd.concat([pd.read_csv(f, encoding='iso-8859-1') for f in files], ignore_index=True)\n",
    "\n",
    "\n",
    "for c in 'Starttime','Stoptime':\n",
    "    rides2017[c] = pd.to_datetime(rides2017[c], format='%m/%d/%Y %H:%M')\n",
    "\n",
    "from_ids = rides2017['From station id'].drop_duplicates()\n",
    "to_ids = rides2017['To station id'].drop_duplicates()\n",
    "\n",
    "station_ids2017 = pd.concat([from_ids, to_ids]).drop_duplicates()"
   ]
  },
  {
   "cell_type": "markdown",
   "metadata": {},
   "source": [
    "<big><big><big><i>Whoa!!!</i></big></big></big>\n",
    "\n",
    "There are 32 missing stations."
   ]
  },
  {
   "cell_type": "code",
   "execution_count": 14,
   "metadata": {},
   "outputs": [
    {
     "data": {
      "text/plain": [
       "32"
      ]
     },
     "execution_count": 14,
     "metadata": {},
     "output_type": "execute_result"
    }
   ],
   "source": [
    "missing_stations = station_ids2017[~station_ids2017.isin(stations.index)]\n",
    "len(missing_stations)"
   ]
  },
  {
   "cell_type": "markdown",
   "metadata": {},
   "source": [
    "Some of these don't look like Pittsburgh stations.\n",
    "\n",
    "Let's just ignore 2017 data for now. There are other data issues as well."
   ]
  },
  {
   "cell_type": "code",
   "execution_count": 15,
   "metadata": {},
   "outputs": [
    {
     "data": {
      "text/plain": [
       "['Transit',\n",
       " 'Missing',\n",
       " 'Willmar-Schwabe-Str. / Jahnallee (LVB Mobilitätsstation 9) ',\n",
       " 'Hauptbahnhof / Westhalle',\n",
       " 'Straßenbhf. Angerbrücke (LVB Mobilitätsstation 14) ',\n",
       " 'Jahnallee / Thomasiusstr. / Denkmal',\n",
       " 'Am Hallischen Tor / Brühl',\n",
       " 'Schillerstr. / Universitätsstr. / Mensa',\n",
       " 'Scheffelstr. / Karl-Liebknecht-Str. (LVB Mobilitätsstation 16) ',\n",
       " 'nextbike IT Peter Touch',\n",
       " 'S-Bhf. Gohlis (LVB Mobilitätsstation 13) ',\n",
       " 'Hauptbahnhof / Westseite (LVB Mobilitätsstation 4)',\n",
       " 'Nordplatz (LVB Mobilitätsstation 8)',\n",
       " 'Industriestr. / Karlbrücke',\n",
       " 'Lene-Voigt-Park / Albert-Schweitzer-Str.',\n",
       " 'Forbes and Gist (Open Streets May 2017)',\n",
       " 'Westplatz ',\n",
       " 'Leipzig International School (Könneritzstr. / Alfred-Frank-Str.)',\n",
       " 'Markgrafenstr. / LVB Servicecenter (LVB Mobilitätsstation 1) ',\n",
       " 'nextbike IT Daniel Desk',\n",
       " 'Healthy Hauler',\n",
       " 'ASCEND Pittsburgh',\n",
       " 'nextbike IT Elsterstr.',\n",
       " 'Western Ave & Bidwell Street',\n",
       " 'S Main St & Alexander St',\n",
       " 'Highmark Stadium']"
      ]
     },
     "execution_count": 15,
     "metadata": {},
     "output_type": "execute_result"
    }
   ],
   "source": [
    "rides2017.loc[rides2017['From station id'].isin(missing_stations), 'From station name'].drop_duplicates().tolist()"
   ]
  },
  {
   "cell_type": "markdown",
   "metadata": {},
   "source": [
    "## Popular Stations"
   ]
  },
  {
   "cell_type": "markdown",
   "metadata": {},
   "source": [
    "We'll define popularity as average daily turnover.\n",
    "\n",
    "Turnover is the daily number of leaving bikes subtracted from the daily number of arriving bikes."
   ]
  },
  {
   "cell_type": "markdown",
   "metadata": {},
   "source": [
    "### Cleaning"
   ]
  },
  {
   "cell_type": "markdown",
   "metadata": {},
   "source": [
    "A 5-minute round trip seems a little suspicious to me."
   ]
  },
  {
   "cell_type": "code",
   "execution_count": 16,
   "metadata": {},
   "outputs": [
    {
     "data": {
      "text/plain": [
       "1985"
      ]
     },
     "execution_count": 16,
     "metadata": {},
     "output_type": "execute_result"
    }
   ],
   "source": [
    "one_way = rides2016['From station id'] == rides2016['To station id']\n",
    "five_minute = rides2016['Tripduration'] < 300\n",
    "\n",
    "failed = one_way & five_minute\n",
    "failed.sum()"
   ]
  },
  {
   "cell_type": "code",
   "execution_count": 17,
   "metadata": {},
   "outputs": [],
   "source": [
    "rides2016 = rides2016.loc[~failed]"
   ]
  },
  {
   "cell_type": "code",
   "execution_count": 18,
   "metadata": {},
   "outputs": [
    {
     "data": {
      "text/plain": [
       "station\n",
       "1000    1.680782\n",
       "1001    2.519355\n",
       "1002   -0.248000\n",
       "1003    0.068259\n",
       "1004   -0.278169\n",
       "Name: turnover, dtype: float64"
      ]
     },
     "execution_count": 18,
     "metadata": {},
     "output_type": "execute_result"
    }
   ],
   "source": [
    "leaving  = rides2016.groupby(['From station id', pd.Grouper(key='Starttime', freq='D')])['Trip id'].count()\n",
    "arriving = rides2016.groupby(['To station id',   pd.Grouper(key='Stoptime' , freq='D')])['Trip id'].count()\n",
    "\n",
    "leaving.index.names = arriving.index.names = ['station', 'date']\n",
    "\n",
    "turnover = (arriving - leaving).mean(level='station')\n",
    "turnover.name = 'turnover'\n",
    "turnover.head()"
   ]
  },
  {
   "cell_type": "code",
   "execution_count": 19,
   "metadata": {},
   "outputs": [
    {
     "data": {
      "text/html": [
       "<div>\n",
       "<style scoped>\n",
       "    .dataframe tbody tr th:only-of-type {\n",
       "        vertical-align: middle;\n",
       "    }\n",
       "\n",
       "    .dataframe tbody tr th {\n",
       "        vertical-align: top;\n",
       "    }\n",
       "\n",
       "    .dataframe thead th {\n",
       "        text-align: right;\n",
       "    }\n",
       "</style>\n",
       "<table border=\"1\" class=\"dataframe\">\n",
       "  <thead>\n",
       "    <tr style=\"text-align: right;\">\n",
       "      <th></th>\n",
       "      <th>Station Name</th>\n",
       "      <th># of Racks</th>\n",
       "      <th>Latitude</th>\n",
       "      <th>Longitude</th>\n",
       "      <th>turnover</th>\n",
       "    </tr>\n",
       "    <tr>\n",
       "      <th>Station #</th>\n",
       "      <th></th>\n",
       "      <th></th>\n",
       "      <th></th>\n",
       "      <th></th>\n",
       "      <th></th>\n",
       "    </tr>\n",
       "  </thead>\n",
       "  <tbody>\n",
       "    <tr>\n",
       "      <th>1000</th>\n",
       "      <td>Liberty Ave &amp; Stanwix St</td>\n",
       "      <td>16.0</td>\n",
       "      <td>40.441326</td>\n",
       "      <td>-80.004679</td>\n",
       "      <td>1.680782</td>\n",
       "    </tr>\n",
       "    <tr>\n",
       "      <th>1001</th>\n",
       "      <td>Forbes Ave &amp; Market Square</td>\n",
       "      <td>19.0</td>\n",
       "      <td>40.440877</td>\n",
       "      <td>-80.003080</td>\n",
       "      <td>2.519355</td>\n",
       "    </tr>\n",
       "    <tr>\n",
       "      <th>1002</th>\n",
       "      <td>Third Ave &amp; Wood St</td>\n",
       "      <td>15.0</td>\n",
       "      <td>40.439030</td>\n",
       "      <td>-80.001860</td>\n",
       "      <td>-0.248000</td>\n",
       "    </tr>\n",
       "    <tr>\n",
       "      <th>1003</th>\n",
       "      <td>First Ave &amp; Smithfield St (Art Institute)</td>\n",
       "      <td>15.0</td>\n",
       "      <td>40.437200</td>\n",
       "      <td>-80.000375</td>\n",
       "      <td>0.068259</td>\n",
       "    </tr>\n",
       "    <tr>\n",
       "      <th>...</th>\n",
       "      <td>...</td>\n",
       "      <td>...</td>\n",
       "      <td>...</td>\n",
       "      <td>...</td>\n",
       "      <td>...</td>\n",
       "    </tr>\n",
       "    <tr>\n",
       "      <th>1049</th>\n",
       "      <td>S 12th St &amp; E Carson St</td>\n",
       "      <td>19.0</td>\n",
       "      <td>40.428661</td>\n",
       "      <td>-79.986358</td>\n",
       "      <td>0.208075</td>\n",
       "    </tr>\n",
       "    <tr>\n",
       "      <th>1050</th>\n",
       "      <td>Healthy Ride Hub</td>\n",
       "      <td>2.0</td>\n",
       "      <td>40.461817</td>\n",
       "      <td>-79.968002</td>\n",
       "      <td>-0.025641</td>\n",
       "    </tr>\n",
       "    <tr>\n",
       "      <th>1061</th>\n",
       "      <td>33rd St and Penn Ave</td>\n",
       "      <td>2.0</td>\n",
       "      <td>40.462026</td>\n",
       "      <td>-79.968114</td>\n",
       "      <td>-0.500000</td>\n",
       "    </tr>\n",
       "    <tr>\n",
       "      <th>1060</th>\n",
       "      <td>Open Streets West End</td>\n",
       "      <td>NaN</td>\n",
       "      <td>40.440910</td>\n",
       "      <td>-80.034810</td>\n",
       "      <td>-9.000000</td>\n",
       "    </tr>\n",
       "  </tbody>\n",
       "</table>\n",
       "<p>53 rows × 5 columns</p>\n",
       "</div>"
      ],
      "text/plain": [
       "                                        Station Name  # of Racks   Latitude  \\\n",
       "Station #                                                                     \n",
       "1000                        Liberty Ave & Stanwix St        16.0  40.441326   \n",
       "1001                      Forbes Ave & Market Square        19.0  40.440877   \n",
       "1002                             Third Ave & Wood St        15.0  40.439030   \n",
       "1003       First Ave & Smithfield St (Art Institute)        15.0  40.437200   \n",
       "...                                              ...         ...        ...   \n",
       "1049                         S 12th St & E Carson St        19.0  40.428661   \n",
       "1050                                Healthy Ride Hub         2.0  40.461817   \n",
       "1061                            33rd St and Penn Ave         2.0  40.462026   \n",
       "1060                           Open Streets West End         NaN  40.440910   \n",
       "\n",
       "           Longitude  turnover  \n",
       "Station #                       \n",
       "1000      -80.004679  1.680782  \n",
       "1001      -80.003080  2.519355  \n",
       "1002      -80.001860 -0.248000  \n",
       "1003      -80.000375  0.068259  \n",
       "...              ...       ...  \n",
       "1049      -79.986358  0.208075  \n",
       "1050      -79.968002 -0.025641  \n",
       "1061      -79.968114 -0.500000  \n",
       "1060      -80.034810 -9.000000  \n",
       "\n",
       "[53 rows x 5 columns]"
      ]
     },
     "execution_count": 19,
     "metadata": {},
     "output_type": "execute_result"
    }
   ],
   "source": [
    "stations2016 = stations.join(turnover)\n",
    "stations2016"
   ]
  },
  {
   "cell_type": "markdown",
   "metadata": {},
   "source": [
    "## Mapping"
   ]
  },
  {
   "cell_type": "markdown",
   "metadata": {},
   "source": [
    "<img src='https://www.fullstackpython.com/img/logos/bokeh.jpg' width='60%'>\n",
    "\n",
    "*[Bokeh](https://bokeh.pydata.org/en/latest/) is a Python interactive visualization library that targets modern web browsers for presentation.*"
   ]
  },
  {
   "cell_type": "markdown",
   "metadata": {},
   "source": [
    "First a little transformation I want to plot\n",
    "* Every bike station\n",
    "* The radius of each glyph is the absolute value of `'turnover'`\n",
    "* The color indicates positive and negative"
   ]
  },
  {
   "cell_type": "code",
   "execution_count": 20,
   "metadata": {},
   "outputs": [],
   "source": [
    "def scale(series):\n",
    "    a = series.abs()\n",
    "    return a / a.max() * 100\n",
    "\n",
    "stations2016['size'] = scale(stations2016['turnover'])\n",
    "stations2016['color'] = np.sign(stations2016['turnover']).map({-1:'red', 1:'green'})"
   ]
  },
  {
   "cell_type": "code",
   "execution_count": 21,
   "metadata": {},
   "outputs": [
    {
     "data": {
      "text/html": [
       "\n",
       "    <div class=\"bk-root\">\n",
       "        <a href=\"https://bokeh.pydata.org\" target=\"_blank\" class=\"bk-logo bk-logo-small bk-logo-notebook\"></a>\n",
       "        <span id=\"9447b539-cb6f-41ed-bc01-9edbed2aa7b2\">Loading BokehJS ...</span>\n",
       "    </div>"
      ]
     },
     "metadata": {},
     "output_type": "display_data"
    },
    {
     "data": {
      "application/javascript": [
       "\n",
       "(function(root) {\n",
       "  function now() {\n",
       "    return new Date();\n",
       "  }\n",
       "\n",
       "  var force = true;\n",
       "\n",
       "  if (typeof (root._bokeh_onload_callbacks) === \"undefined\" || force === true) {\n",
       "    root._bokeh_onload_callbacks = [];\n",
       "    root._bokeh_is_loading = undefined;\n",
       "  }\n",
       "\n",
       "  var JS_MIME_TYPE = 'application/javascript';\n",
       "  var HTML_MIME_TYPE = 'text/html';\n",
       "  var EXEC_MIME_TYPE = 'application/vnd.bokehjs_exec.v0+json';\n",
       "  var CLASS_NAME = 'output_bokeh rendered_html';\n",
       "\n",
       "  /**\n",
       "   * Render data to the DOM node\n",
       "   */\n",
       "  function render(props, node) {\n",
       "    var script = document.createElement(\"script\");\n",
       "    node.appendChild(script);\n",
       "  }\n",
       "\n",
       "  /**\n",
       "   * Handle when an output is cleared or removed\n",
       "   */\n",
       "  function handleClearOutput(event, handle) {\n",
       "    var cell = handle.cell;\n",
       "\n",
       "    var id = cell.output_area._bokeh_element_id;\n",
       "    var server_id = cell.output_area._bokeh_server_id;\n",
       "    // Clean up Bokeh references\n",
       "    if (id !== undefined) {\n",
       "      Bokeh.index[id].model.document.clear();\n",
       "      delete Bokeh.index[id];\n",
       "    }\n",
       "\n",
       "    if (server_id !== undefined) {\n",
       "      // Clean up Bokeh references\n",
       "      var cmd = \"from bokeh.io.state import curstate; print(curstate().uuid_to_server['\" + server_id + \"'].get_sessions()[0].document.roots[0]._id)\";\n",
       "      cell.notebook.kernel.execute(cmd, {\n",
       "        iopub: {\n",
       "          output: function(msg) {\n",
       "            var element_id = msg.content.text.trim();\n",
       "            Bokeh.index[element_id].model.document.clear();\n",
       "            delete Bokeh.index[element_id];\n",
       "          }\n",
       "        }\n",
       "      });\n",
       "      // Destroy server and session\n",
       "      var cmd = \"import bokeh.io.notebook as ion; ion.destroy_server('\" + server_id + \"')\";\n",
       "      cell.notebook.kernel.execute(cmd);\n",
       "    }\n",
       "  }\n",
       "\n",
       "  /**\n",
       "   * Handle when a new output is added\n",
       "   */\n",
       "  function handleAddOutput(event, handle) {\n",
       "    var output_area = handle.output_area;\n",
       "    var output = handle.output;\n",
       "\n",
       "    // limit handleAddOutput to display_data with EXEC_MIME_TYPE content only\n",
       "    if ((output.output_type != \"display_data\") || (!output.data.hasOwnProperty(EXEC_MIME_TYPE))) {\n",
       "      return\n",
       "    }\n",
       "\n",
       "    var toinsert = output_area.element.find(\".\" + CLASS_NAME.split(' ')[0]);\n",
       "\n",
       "    if (output.metadata[EXEC_MIME_TYPE][\"id\"] !== undefined) {\n",
       "      toinsert[0].firstChild.textContent = output.data[JS_MIME_TYPE];\n",
       "      // store reference to embed id on output_area\n",
       "      output_area._bokeh_element_id = output.metadata[EXEC_MIME_TYPE][\"id\"];\n",
       "    }\n",
       "    if (output.metadata[EXEC_MIME_TYPE][\"server_id\"] !== undefined) {\n",
       "      var bk_div = document.createElement(\"div\");\n",
       "      bk_div.innerHTML = output.data[HTML_MIME_TYPE];\n",
       "      var script_attrs = bk_div.children[0].attributes;\n",
       "      for (var i = 0; i < script_attrs.length; i++) {\n",
       "        toinsert[0].firstChild.setAttribute(script_attrs[i].name, script_attrs[i].value);\n",
       "      }\n",
       "      // store reference to server id on output_area\n",
       "      output_area._bokeh_server_id = output.metadata[EXEC_MIME_TYPE][\"server_id\"];\n",
       "    }\n",
       "  }\n",
       "\n",
       "  function register_renderer(events, OutputArea) {\n",
       "\n",
       "    function append_mime(data, metadata, element) {\n",
       "      // create a DOM node to render to\n",
       "      var toinsert = this.create_output_subarea(\n",
       "        metadata,\n",
       "        CLASS_NAME,\n",
       "        EXEC_MIME_TYPE\n",
       "      );\n",
       "      this.keyboard_manager.register_events(toinsert);\n",
       "      // Render to node\n",
       "      var props = {data: data, metadata: metadata[EXEC_MIME_TYPE]};\n",
       "      render(props, toinsert[0]);\n",
       "      element.append(toinsert);\n",
       "      return toinsert\n",
       "    }\n",
       "\n",
       "    /* Handle when an output is cleared or removed */\n",
       "    events.on('clear_output.CodeCell', handleClearOutput);\n",
       "    events.on('delete.Cell', handleClearOutput);\n",
       "\n",
       "    /* Handle when a new output is added */\n",
       "    events.on('output_added.OutputArea', handleAddOutput);\n",
       "\n",
       "    /**\n",
       "     * Register the mime type and append_mime function with output_area\n",
       "     */\n",
       "    OutputArea.prototype.register_mime_type(EXEC_MIME_TYPE, append_mime, {\n",
       "      /* Is output safe? */\n",
       "      safe: true,\n",
       "      /* Index of renderer in `output_area.display_order` */\n",
       "      index: 0\n",
       "    });\n",
       "  }\n",
       "\n",
       "  // register the mime type if in Jupyter Notebook environment and previously unregistered\n",
       "  if (root.Jupyter !== undefined) {\n",
       "    var events = require('base/js/events');\n",
       "    var OutputArea = require('notebook/js/outputarea').OutputArea;\n",
       "\n",
       "    if (OutputArea.prototype.mime_types().indexOf(EXEC_MIME_TYPE) == -1) {\n",
       "      register_renderer(events, OutputArea);\n",
       "    }\n",
       "  }\n",
       "\n",
       "  \n",
       "  if (typeof (root._bokeh_timeout) === \"undefined\" || force === true) {\n",
       "    root._bokeh_timeout = Date.now() + 5000;\n",
       "    root._bokeh_failed_load = false;\n",
       "  }\n",
       "\n",
       "  var NB_LOAD_WARNING = {'data': {'text/html':\n",
       "     \"<div style='background-color: #fdd'>\\n\"+\n",
       "     \"<p>\\n\"+\n",
       "     \"BokehJS does not appear to have successfully loaded. If loading BokehJS from CDN, this \\n\"+\n",
       "     \"may be due to a slow or bad network connection. Possible fixes:\\n\"+\n",
       "     \"</p>\\n\"+\n",
       "     \"<ul>\\n\"+\n",
       "     \"<li>re-rerun `output_notebook()` to attempt to load from CDN again, or</li>\\n\"+\n",
       "     \"<li>use INLINE resources instead, as so:</li>\\n\"+\n",
       "     \"</ul>\\n\"+\n",
       "     \"<code>\\n\"+\n",
       "     \"from bokeh.resources import INLINE\\n\"+\n",
       "     \"output_notebook(resources=INLINE)\\n\"+\n",
       "     \"</code>\\n\"+\n",
       "     \"</div>\"}};\n",
       "\n",
       "  function display_loaded() {\n",
       "    var el = document.getElementById(\"9447b539-cb6f-41ed-bc01-9edbed2aa7b2\");\n",
       "    if (el != null) {\n",
       "      el.textContent = \"BokehJS is loading...\";\n",
       "    }\n",
       "    if (root.Bokeh !== undefined) {\n",
       "      if (el != null) {\n",
       "        el.textContent = \"BokehJS \" + root.Bokeh.version + \" successfully loaded.\";\n",
       "      }\n",
       "    } else if (Date.now() < root._bokeh_timeout) {\n",
       "      setTimeout(display_loaded, 100)\n",
       "    }\n",
       "  }\n",
       "\n",
       "\n",
       "  function run_callbacks() {\n",
       "    try {\n",
       "      root._bokeh_onload_callbacks.forEach(function(callback) { callback() });\n",
       "    }\n",
       "    finally {\n",
       "      delete root._bokeh_onload_callbacks\n",
       "    }\n",
       "    console.info(\"Bokeh: all callbacks have finished\");\n",
       "  }\n",
       "\n",
       "  function load_libs(js_urls, callback) {\n",
       "    root._bokeh_onload_callbacks.push(callback);\n",
       "    if (root._bokeh_is_loading > 0) {\n",
       "      console.log(\"Bokeh: BokehJS is being loaded, scheduling callback at\", now());\n",
       "      return null;\n",
       "    }\n",
       "    if (js_urls == null || js_urls.length === 0) {\n",
       "      run_callbacks();\n",
       "      return null;\n",
       "    }\n",
       "    console.log(\"Bokeh: BokehJS not loaded, scheduling load and callback at\", now());\n",
       "    root._bokeh_is_loading = js_urls.length;\n",
       "    for (var i = 0; i < js_urls.length; i++) {\n",
       "      var url = js_urls[i];\n",
       "      var s = document.createElement('script');\n",
       "      s.src = url;\n",
       "      s.async = false;\n",
       "      s.onreadystatechange = s.onload = function() {\n",
       "        root._bokeh_is_loading--;\n",
       "        if (root._bokeh_is_loading === 0) {\n",
       "          console.log(\"Bokeh: all BokehJS libraries loaded\");\n",
       "          run_callbacks()\n",
       "        }\n",
       "      };\n",
       "      s.onerror = function() {\n",
       "        console.warn(\"failed to load library \" + url);\n",
       "      };\n",
       "      console.log(\"Bokeh: injecting script tag for BokehJS library: \", url);\n",
       "      document.getElementsByTagName(\"head\")[0].appendChild(s);\n",
       "    }\n",
       "  };var element = document.getElementById(\"9447b539-cb6f-41ed-bc01-9edbed2aa7b2\");\n",
       "  if (element == null) {\n",
       "    console.log(\"Bokeh: ERROR: autoload.js configured with elementid '9447b539-cb6f-41ed-bc01-9edbed2aa7b2' but no matching script tag was found. \")\n",
       "    return false;\n",
       "  }\n",
       "\n",
       "  var js_urls = [\"https://cdn.pydata.org/bokeh/release/bokeh-0.12.11.min.js\", \"https://cdn.pydata.org/bokeh/release/bokeh-widgets-0.12.11.min.js\", \"https://cdn.pydata.org/bokeh/release/bokeh-tables-0.12.11.min.js\", \"https://cdn.pydata.org/bokeh/release/bokeh-gl-0.12.11.min.js\"];\n",
       "\n",
       "  var inline_js = [\n",
       "    function(Bokeh) {\n",
       "      Bokeh.set_log_level(\"info\");\n",
       "    },\n",
       "    \n",
       "    function(Bokeh) {\n",
       "      \n",
       "    },\n",
       "    function(Bokeh) {\n",
       "      console.log(\"Bokeh: injecting CSS: https://cdn.pydata.org/bokeh/release/bokeh-0.12.11.min.css\");\n",
       "      Bokeh.embed.inject_css(\"https://cdn.pydata.org/bokeh/release/bokeh-0.12.11.min.css\");\n",
       "      console.log(\"Bokeh: injecting CSS: https://cdn.pydata.org/bokeh/release/bokeh-widgets-0.12.11.min.css\");\n",
       "      Bokeh.embed.inject_css(\"https://cdn.pydata.org/bokeh/release/bokeh-widgets-0.12.11.min.css\");\n",
       "      console.log(\"Bokeh: injecting CSS: https://cdn.pydata.org/bokeh/release/bokeh-tables-0.12.11.min.css\");\n",
       "      Bokeh.embed.inject_css(\"https://cdn.pydata.org/bokeh/release/bokeh-tables-0.12.11.min.css\");\n",
       "    }\n",
       "  ];\n",
       "\n",
       "  function run_inline_js() {\n",
       "    \n",
       "    if ((root.Bokeh !== undefined) || (force === true)) {\n",
       "      for (var i = 0; i < inline_js.length; i++) {\n",
       "        inline_js[i].call(root, root.Bokeh);\n",
       "      }if (force === true) {\n",
       "        display_loaded();\n",
       "      }} else if (Date.now() < root._bokeh_timeout) {\n",
       "      setTimeout(run_inline_js, 100);\n",
       "    } else if (!root._bokeh_failed_load) {\n",
       "      console.log(\"Bokeh: BokehJS failed to load within specified timeout.\");\n",
       "      root._bokeh_failed_load = true;\n",
       "    } else if (force !== true) {\n",
       "      var cell = $(document.getElementById(\"9447b539-cb6f-41ed-bc01-9edbed2aa7b2\")).parents('.cell').data().cell;\n",
       "      cell.output_area.append_execute_result(NB_LOAD_WARNING)\n",
       "    }\n",
       "\n",
       "  }\n",
       "\n",
       "  if (root._bokeh_is_loading === 0) {\n",
       "    console.log(\"Bokeh: BokehJS loaded, going straight to plotting\");\n",
       "    run_inline_js();\n",
       "  } else {\n",
       "    load_libs(js_urls, function() {\n",
       "      console.log(\"Bokeh: BokehJS plotting callback run at\", now());\n",
       "      run_inline_js();\n",
       "    });\n",
       "  }\n",
       "}(window));"
      ],
      "application/vnd.bokehjs_load.v0+json": "\n(function(root) {\n  function now() {\n    return new Date();\n  }\n\n  var force = true;\n\n  if (typeof (root._bokeh_onload_callbacks) === \"undefined\" || force === true) {\n    root._bokeh_onload_callbacks = [];\n    root._bokeh_is_loading = undefined;\n  }\n\n  \n\n  \n  if (typeof (root._bokeh_timeout) === \"undefined\" || force === true) {\n    root._bokeh_timeout = Date.now() + 5000;\n    root._bokeh_failed_load = false;\n  }\n\n  var NB_LOAD_WARNING = {'data': {'text/html':\n     \"<div style='background-color: #fdd'>\\n\"+\n     \"<p>\\n\"+\n     \"BokehJS does not appear to have successfully loaded. If loading BokehJS from CDN, this \\n\"+\n     \"may be due to a slow or bad network connection. Possible fixes:\\n\"+\n     \"</p>\\n\"+\n     \"<ul>\\n\"+\n     \"<li>re-rerun `output_notebook()` to attempt to load from CDN again, or</li>\\n\"+\n     \"<li>use INLINE resources instead, as so:</li>\\n\"+\n     \"</ul>\\n\"+\n     \"<code>\\n\"+\n     \"from bokeh.resources import INLINE\\n\"+\n     \"output_notebook(resources=INLINE)\\n\"+\n     \"</code>\\n\"+\n     \"</div>\"}};\n\n  function display_loaded() {\n    var el = document.getElementById(\"9447b539-cb6f-41ed-bc01-9edbed2aa7b2\");\n    if (el != null) {\n      el.textContent = \"BokehJS is loading...\";\n    }\n    if (root.Bokeh !== undefined) {\n      if (el != null) {\n        el.textContent = \"BokehJS \" + root.Bokeh.version + \" successfully loaded.\";\n      }\n    } else if (Date.now() < root._bokeh_timeout) {\n      setTimeout(display_loaded, 100)\n    }\n  }\n\n\n  function run_callbacks() {\n    try {\n      root._bokeh_onload_callbacks.forEach(function(callback) { callback() });\n    }\n    finally {\n      delete root._bokeh_onload_callbacks\n    }\n    console.info(\"Bokeh: all callbacks have finished\");\n  }\n\n  function load_libs(js_urls, callback) {\n    root._bokeh_onload_callbacks.push(callback);\n    if (root._bokeh_is_loading > 0) {\n      console.log(\"Bokeh: BokehJS is being loaded, scheduling callback at\", now());\n      return null;\n    }\n    if (js_urls == null || js_urls.length === 0) {\n      run_callbacks();\n      return null;\n    }\n    console.log(\"Bokeh: BokehJS not loaded, scheduling load and callback at\", now());\n    root._bokeh_is_loading = js_urls.length;\n    for (var i = 0; i < js_urls.length; i++) {\n      var url = js_urls[i];\n      var s = document.createElement('script');\n      s.src = url;\n      s.async = false;\n      s.onreadystatechange = s.onload = function() {\n        root._bokeh_is_loading--;\n        if (root._bokeh_is_loading === 0) {\n          console.log(\"Bokeh: all BokehJS libraries loaded\");\n          run_callbacks()\n        }\n      };\n      s.onerror = function() {\n        console.warn(\"failed to load library \" + url);\n      };\n      console.log(\"Bokeh: injecting script tag for BokehJS library: \", url);\n      document.getElementsByTagName(\"head\")[0].appendChild(s);\n    }\n  };var element = document.getElementById(\"9447b539-cb6f-41ed-bc01-9edbed2aa7b2\");\n  if (element == null) {\n    console.log(\"Bokeh: ERROR: autoload.js configured with elementid '9447b539-cb6f-41ed-bc01-9edbed2aa7b2' but no matching script tag was found. \")\n    return false;\n  }\n\n  var js_urls = [\"https://cdn.pydata.org/bokeh/release/bokeh-0.12.11.min.js\", \"https://cdn.pydata.org/bokeh/release/bokeh-widgets-0.12.11.min.js\", \"https://cdn.pydata.org/bokeh/release/bokeh-tables-0.12.11.min.js\", \"https://cdn.pydata.org/bokeh/release/bokeh-gl-0.12.11.min.js\"];\n\n  var inline_js = [\n    function(Bokeh) {\n      Bokeh.set_log_level(\"info\");\n    },\n    \n    function(Bokeh) {\n      \n    },\n    function(Bokeh) {\n      console.log(\"Bokeh: injecting CSS: https://cdn.pydata.org/bokeh/release/bokeh-0.12.11.min.css\");\n      Bokeh.embed.inject_css(\"https://cdn.pydata.org/bokeh/release/bokeh-0.12.11.min.css\");\n      console.log(\"Bokeh: injecting CSS: https://cdn.pydata.org/bokeh/release/bokeh-widgets-0.12.11.min.css\");\n      Bokeh.embed.inject_css(\"https://cdn.pydata.org/bokeh/release/bokeh-widgets-0.12.11.min.css\");\n      console.log(\"Bokeh: injecting CSS: https://cdn.pydata.org/bokeh/release/bokeh-tables-0.12.11.min.css\");\n      Bokeh.embed.inject_css(\"https://cdn.pydata.org/bokeh/release/bokeh-tables-0.12.11.min.css\");\n    }\n  ];\n\n  function run_inline_js() {\n    \n    if ((root.Bokeh !== undefined) || (force === true)) {\n      for (var i = 0; i < inline_js.length; i++) {\n        inline_js[i].call(root, root.Bokeh);\n      }if (force === true) {\n        display_loaded();\n      }} else if (Date.now() < root._bokeh_timeout) {\n      setTimeout(run_inline_js, 100);\n    } else if (!root._bokeh_failed_load) {\n      console.log(\"Bokeh: BokehJS failed to load within specified timeout.\");\n      root._bokeh_failed_load = true;\n    } else if (force !== true) {\n      var cell = $(document.getElementById(\"9447b539-cb6f-41ed-bc01-9edbed2aa7b2\")).parents('.cell').data().cell;\n      cell.output_area.append_execute_result(NB_LOAD_WARNING)\n    }\n\n  }\n\n  if (root._bokeh_is_loading === 0) {\n    console.log(\"Bokeh: BokehJS loaded, going straight to plotting\");\n    run_inline_js();\n  } else {\n    load_libs(js_urls, function() {\n      console.log(\"Bokeh: BokehJS plotting callback run at\", now());\n      run_inline_js();\n    });\n  }\n}(window));"
     },
     "metadata": {},
     "output_type": "display_data"
    }
   ],
   "source": [
    "from bokeh.io import output_notebook, show\n",
    "from bokeh.plotting import figure, ColumnDataSource\n",
    "from bokeh.models import HoverTool, WheelZoomTool\n",
    "from bokeh.tile_providers import STAMEN_TONER\n",
    "output_notebook()"
   ]
  },
  {
   "cell_type": "markdown",
   "metadata": {},
   "source": [
    "[Map projections are not easy](https://en.wikipedia.org/wiki/Map_projection).\n",
    "\n",
    "To plot on a map tile, we'll need to use [Web Mercator Projection](https://en.wikipedia.org/wiki/Web_Mercator)."
   ]
  },
  {
   "cell_type": "code",
   "execution_count": 22,
   "metadata": {},
   "outputs": [],
   "source": [
    "from pyproj import Proj, transform\n",
    "inProj = Proj(init='EPSG:4326')\n",
    "outProj = Proj(init='EPSG:3857')\n",
    "\n",
    "stations2016['x'], stations2016['y'] = transform(inProj, outProj,\n",
    "                                        stations2016['Longitude'].values,\n",
    "                                        stations2016['Latitude'].values)\n",
    "\n",
    "bounds = stations2016[['Longitude','Latitude']].median()\n",
    "\n",
    "x, y = transform(inProj, outProj,\n",
    "                             bounds['Longitude'],\n",
    "                             bounds['Latitude'])\n",
    "edge = 2200\n",
    "x_range = [x-edge,x+edge]\n",
    "y_range = [y-edge,y+edge]"
   ]
  },
  {
   "cell_type": "markdown",
   "metadata": {},
   "source": [
    "Use your scoll, just like Google Maps to zoom."
   ]
  },
  {
   "cell_type": "code",
   "execution_count": 23,
   "metadata": {},
   "outputs": [
    {
     "data": {
      "text/html": [
       "\n",
       "<div class=\"bk-root\">\n",
       "    <div class=\"bk-plotdiv\" id=\"037edb81-d855-44b3-8493-9e89ba1b34a2\"></div>\n",
       "</div>"
      ]
     },
     "metadata": {},
     "output_type": "display_data"
    },
    {
     "data": {
      "application/javascript": [
       "(function(root) {\n",
       "  function embed_document(root) {\n",
       "    var docs_json = {\"d7d79b68-e1db-49eb-a46f-c82ff489c8f0\":{\"roots\":{\"references\":[{\"attributes\":{\"below\":[{\"id\":\"d28e5364-0d94-42a2-a4dd-508495466436\",\"type\":\"LinearAxis\"}],\"left\":[{\"id\":\"8726d5e7-bd6f-4bd3-b4d9-197cffbb1ffb\",\"type\":\"LinearAxis\"}],\"plot_width\":700,\"renderers\":[{\"id\":\"d28e5364-0d94-42a2-a4dd-508495466436\",\"type\":\"LinearAxis\"},{\"id\":\"e49240e7-d5c9-4fc3-bdba-6455a94e8e77\",\"type\":\"Grid\"},{\"id\":\"8726d5e7-bd6f-4bd3-b4d9-197cffbb1ffb\",\"type\":\"LinearAxis\"},{\"id\":\"f170ac2a-6631-46d6-90cc-e2c25fbe1153\",\"type\":\"Grid\"},{\"id\":\"12ce9660-adb0-49b0-a1e7-b11067f13775\",\"type\":\"BoxAnnotation\"},{\"id\":\"6d189982-2af4-469b-bb34-3b2ede11130d\",\"type\":\"TileRenderer\"},{\"id\":\"d5bf5d99-b68f-4f51-a112-ca709ba3b896\",\"type\":\"GlyphRenderer\"}],\"title\":{\"id\":\"7201ed7b-2398-47c7-857b-452f5a739962\",\"type\":\"Title\"},\"toolbar\":{\"id\":\"48e2df25-7a38-4cf6-8113-4abb77eb37ca\",\"type\":\"Toolbar\"},\"x_range\":{\"id\":\"5fbc38db-f2c9-42bb-8793-8e429fd98140\",\"type\":\"Range1d\"},\"x_scale\":{\"id\":\"747c59b5-dc18-4f7e-8229-a4106333ad05\",\"type\":\"LinearScale\"},\"y_range\":{\"id\":\"d0322abc-c7d4-46de-826f-e7a06cbe11a9\",\"type\":\"Range1d\"},\"y_scale\":{\"id\":\"9fae8c49-009b-4ab3-83f8-a1581ba200b7\",\"type\":\"LinearScale\"}},\"id\":\"a4fc5f4f-b4cc-4bbc-bb4e-7522e5848fd6\",\"subtype\":\"Figure\",\"type\":\"Plot\"},{\"attributes\":{\"active_drag\":\"auto\",\"active_inspect\":\"auto\",\"active_scroll\":{\"id\":\"2f809add-401b-4c4b-99f5-22100c9b20dc\",\"type\":\"WheelZoomTool\"},\"active_tap\":\"auto\",\"tools\":[{\"id\":\"189fa4e5-b97a-4e5f-904b-156bb938739c\",\"type\":\"PanTool\"},{\"id\":\"2f809add-401b-4c4b-99f5-22100c9b20dc\",\"type\":\"WheelZoomTool\"},{\"id\":\"31bf6f69-d33d-4ae2-9b25-02472623ba3e\",\"type\":\"BoxZoomTool\"},{\"id\":\"a628cd92-6ec3-47e7-8bbc-613edc20ddd8\",\"type\":\"SaveTool\"},{\"id\":\"0428c5c3-1b40-4a1b-b8bf-d9ae5f96268d\",\"type\":\"ResetTool\"},{\"id\":\"c3abbe82-cb9b-4254-adec-16038b13965c\",\"type\":\"HelpTool\"},{\"id\":\"42451928-0da6-40df-93a9-72fe4c3ae8cc\",\"type\":\"HoverTool\"}]},\"id\":\"48e2df25-7a38-4cf6-8113-4abb77eb37ca\",\"type\":\"Toolbar\"},{\"attributes\":{\"callback\":null,\"end\":-8899586.868557883,\"start\":-8903986.868557883},\"id\":\"5fbc38db-f2c9-42bb-8793-8e429fd98140\",\"type\":\"Range1d\"},{\"attributes\":{\"callback\":null,\"tooltips\":[[\"Station\",\"@{Station Name}\"],[\"Turnover\",\"@turnover\"]]},\"id\":\"42451928-0da6-40df-93a9-72fe4c3ae8cc\",\"type\":\"HoverTool\"},{\"attributes\":{\"formatter\":{\"id\":\"1767ce81-dda9-4112-a555-906d50938c54\",\"type\":\"BasicTickFormatter\"},\"plot\":{\"id\":\"a4fc5f4f-b4cc-4bbc-bb4e-7522e5848fd6\",\"subtype\":\"Figure\",\"type\":\"Plot\"},\"ticker\":{\"id\":\"7cbeae48-52da-44a7-9a7b-cb63bb699990\",\"type\":\"BasicTicker\"},\"visible\":false},\"id\":\"d28e5364-0d94-42a2-a4dd-508495466436\",\"type\":\"LinearAxis\"},{\"attributes\":{\"plot\":null,\"text\":\"\"},\"id\":\"7201ed7b-2398-47c7-857b-452f5a739962\",\"type\":\"Title\"},{\"attributes\":{\"attribution\":\"Map tiles by <a href=\\\"http://stamen.com\\\">Stamen Design</a>, under <a href=\\\"http://creativecommons.org/licenses/by/3.0\\\">CC BY 3.0</a>. Data by <a href=\\\"http://openstreetmap.org\\\">OpenStreetMap</a>, under <a href=\\\"http://www.openstreetmap.org/copyright\\\">ODbL</a>.\",\"url\":\"http://tile.stamen.com/toner/{Z}/{X}/{Y}.png\"},\"id\":\"bf1ea59e-3c6c-4ea1-bd0a-c7d4256793e5\",\"type\":\"WMTSTileSource\"},{\"attributes\":{},\"id\":\"7cbeae48-52da-44a7-9a7b-cb63bb699990\",\"type\":\"BasicTicker\"},{\"attributes\":{\"plot\":{\"id\":\"a4fc5f4f-b4cc-4bbc-bb4e-7522e5848fd6\",\"subtype\":\"Figure\",\"type\":\"Plot\"},\"ticker\":{\"id\":\"7cbeae48-52da-44a7-9a7b-cb63bb699990\",\"type\":\"BasicTicker\"},\"visible\":false},\"id\":\"e49240e7-d5c9-4fc3-bdba-6455a94e8e77\",\"type\":\"Grid\"},{\"attributes\":{},\"id\":\"fa2b66b5-97a8-44d8-8f51-f8274ffd19d0\",\"type\":\"BasicTickFormatter\"},{\"attributes\":{\"dimension\":1,\"plot\":{\"id\":\"a4fc5f4f-b4cc-4bbc-bb4e-7522e5848fd6\",\"subtype\":\"Figure\",\"type\":\"Plot\"},\"ticker\":{\"id\":\"8d4fc71b-833f-4468-9f30-27c14d7171ea\",\"type\":\"BasicTicker\"},\"visible\":false},\"id\":\"f170ac2a-6631-46d6-90cc-e2c25fbe1153\",\"type\":\"Grid\"},{\"attributes\":{},\"id\":\"8d4fc71b-833f-4468-9f30-27c14d7171ea\",\"type\":\"BasicTicker\"},{\"attributes\":{},\"id\":\"1767ce81-dda9-4112-a555-906d50938c54\",\"type\":\"BasicTickFormatter\"},{\"attributes\":{\"callback\":null,\"end\":4933142.7526188465,\"start\":4928742.7526188465},\"id\":\"d0322abc-c7d4-46de-826f-e7a06cbe11a9\",\"type\":\"Range1d\"},{\"attributes\":{\"bottom_units\":\"screen\",\"fill_alpha\":{\"value\":0.5},\"fill_color\":{\"value\":\"lightgrey\"},\"left_units\":\"screen\",\"level\":\"overlay\",\"line_alpha\":{\"value\":1.0},\"line_color\":{\"value\":\"black\"},\"line_dash\":[4,4],\"line_width\":{\"value\":2},\"plot\":null,\"render_mode\":\"css\",\"right_units\":\"screen\",\"top_units\":\"screen\"},\"id\":\"12ce9660-adb0-49b0-a1e7-b11067f13775\",\"type\":\"BoxAnnotation\"},{\"attributes\":{\"callback\":null,\"column_names\":[\"Station Name\",\"# of Racks\",\"Latitude\",\"Longitude\",\"turnover\",\"size\",\"color\",\"x\",\"y\",\"Station #\"],\"data\":{\"# of Racks\":{\"__ndarray__\":\"AAAAAAAAMEAAAAAAAAAzQAAAAAAAAC5AAAAAAAAALkAAAAAAAAAuQAAAAAAAADNAAAAAAAAANUAAAAAAAAAzQAAAAAAAgEFAAAAAAAAAM0AAAAAAAAAuQAAAAAAAAC5AAAAAAACAQUAAAAAAAAAuQAAAAAAAADNAAAAAAAAAKEAAAAAAAAAzQAAAAAAAADJAAAAAAAAANUAAAAAAAAAxQAAAAAAAAC5AAAAAAAAAM0AAAAAAAAAuQAAAAAAAADNAAAAAAAAAMUAAAAAAAAAuQAAAAAAAACpAAAAAAAAAM0AAAAAAAAAzQAAAAAAAADNAAAAAAAAAKEAAAAAAAAAzQAAAAAAAACxAAAAAAAAAM0AAAAAAAAAuQAAAAAAAADNAAAAAAAAAM0AAAAAAAAA0QAAAAAAAADNAAAAAAAAAM0AAAAAAAAA1QAAAAAAAADNAAAAAAAAAKEAAAAAAAAAuQAAAAAAAADNAAAAAAAAAM0AAAAAAAAAzQAAAAAAAADNAAAAAAAAAMEAAAAAAAAAzQAAAAAAAAABAAAAAAAAAAEAAAAAAAAD4fw==\",\"dtype\":\"float64\",\"shape\":[53]},\"Latitude\":{\"__ndarray__\":\"8G/QXn04RECAR1SobjhEQD/7kSIyOERA1edqK/Y3REAz4CwlyzdEQMtmDkktOERAzXaFPlg4REBjKZKvBDhEQDsah/pdOERAFY+LahE5RECCVmDI6jhEQKqB5nPuOERA8rioFhE5REAK8Ui8PDlEQN1e0hitOURA2a3pakA6REBGIjSCjTlEQGQdjq7SOURApMhaQ6k7RECy4ivsLzxEQLk3v2GiO0RAI028Azw7REB4J58e2zpEQPG6fsFuOkRA0hvuI7c6RECW7UPecjtEQCVens4VO0RAzeMwmL86REA+6q9XWDpEQJXZIJOMOkRAEAcJUb46REDR6A5iZzpEQCtM32sIOkRAL6hvmdM5REDY8zXLZTlEQJXXSuguOURAbOhmf6A4RECnPpC8czhEQH20OGOYN0RAXYlA9Q84REBXRE30+ThEQAKaCBueOERAPYBFfv04REDpf7kWLThEQMbBpWPON0RA3H75ZMU2REBYBP9byTZEQN3sD5TbNkRADHcujPQ2REALCRhd3jZEQG48jtUcO0RAF/WkpyM7REDHfVC8bzhEQA==\",\"dtype\":\"float64\",\"shape\":[53]},\"Longitude\":{\"__ndarray__\":\"mP4lqUwAVMBk0XR2MgBUwOrKZ3keAFTAGy/dJAYAVMCtMeiE0P9TwBSwHYzY/1PAdjHNdK//U8AcCMkCJv9TwH3p7c9F/1PAF01nJ4P/U8AF24gnu/9TwKx0d50NAFTAeuHOhZEAVMAqWONsOgBUwEoLl1XYAFTAATz9+2cAVMC+FvTeGP9TwMP3/gbt/lPAlDMUd7z9U8B5dwGCe/1TwMZvCisV/VPAH/ZCAdv8U8AWM8Lbg/xTwLtGy4Ee/FPAzhd7L777U8BCQSlauftTwCIZcmw9+1PAOsrBbAL7U8Cu7lhsk/pTwKXap+Mx+1PAiL1QwHb7U8Bm9KPhlPtTwD3QCgxZ+1PAqFFIMqv7U8CnzM03ovxTwNJY+zvb/FPALPUsCOX8U8ABT1q4rPxTwCI0go3r/FPASEvl7Qj9U8DrO78oQf1TwDShSWJJ/VPAkga3tYX+U8CW056Sc/1TwM6KqIk+/VPAexFtx9T9U8BiLNMvEf5TwHBBtixf/lPAeO3ShsP+U8B4CU59IP9TwCRR/b3z/VPAIxKFlvX9U8DiY2ZVOgJUwA==\",\"dtype\":\"float64\",\"shape\":[53]},\"Station #\":[1000,1001,1002,1003,1004,1005,1006,1007,1008,1009,1010,1011,1012,1013,1014,1015,1016,1017,1018,1019,1020,1021,1022,1023,1024,1025,1026,1027,1028,1029,1030,1031,1032,1033,1034,1035,1036,1037,1038,1039,1040,1041,1042,1043,1044,1045,1046,1047,1048,1049,1050,1061,1060],\"Station Name\":[\"Liberty Ave & Stanwix St\",\"Forbes Ave & Market Square\",\"Third Ave & Wood St\",\"First Ave & Smithfield St (Art Institute)\",\"First Ave & B St (T Station)\",\"Forbes Ave & Grant St\",\"Ross St & Sixth Ave (Steel Plaza T Station)\",\"Stevenson St & Forbes Ave\",\"Centre Ave & PPG Paints Arena\",\"12th St & Penn Ave\",\"10th St & Penn Ave (David L. Lawrence Convention Center)\",\"Fort Duquesne Blvd & 7th\",\"North Shore Trail & Ft Duquesne Bridge\",\"Isabella St & Federal St (PNC Park)\",\"Ridge Ave & Brighton Rd (CCAC)\",\"Federal St & E North Ave\",\"17th St & Penn Ave\",\"21st St & Penn Ave\",\"37th St & Butler St\",\"42nd St & Butler St\",\"42nd St & Penn Ave (Children's Hospital)\",\"Taylor St & Liberty Ave\",\"Liberty Ave & S Millvale (West Penn Hospital)\",\"Liberty Ave & Baum Blvd\",\"S Negley Ave & Baum Blvd\",\"Penn Ave & N Fairmount St\",\"Penn Ave & S Whitfield St\",\"Shady Ave & Ellsworth Ave\",\"Penn Ave & Putnam St (Bakery Square)\",\"Alder St & S Higland Ave\",\"S Euclid Ave & Centre Ave\",\"Maryland Ave & Ellsworth Ave\",\"Walnut St & College St\",\"Ivy St & Walnut St\",\"Ellsworth Ave & N Neville St\",\"Fifth Ave & S Dithridge St\",\"Schenley Dr at Schenley Plaza (Carnegie Library Main)\",\"Frew St & Schenley Dr\",\"Boulevard of the Allies & Parkview Ave\",\"Atwood St & Bates\",\"O'Hara St and University Place (Soldiers and Sailors Memorial)\",\"Fifth Ave & S Bouquet St\",\"Centre Ave & Kirkpatrick St\",\"Coltart Ave & Forbes Ave\",\"Zulema St & Coltart Ave\",\"S 27th St & Sidney St. (Southside Works)\",\"S 25th St & E Carson St\",\"S 22nd St & E Carson St\",\"S 18th St & Sidney St\",\"S 12th St & E Carson St\",\"Healthy Ride Hub\",\"33rd St and Penn Ave\",\"Open Streets West End\"],\"color\":[\"green\",\"green\",\"red\",\"green\",\"red\",\"red\",\"red\",\"red\",\"red\",\"red\",\"green\",\"green\",\"green\",\"green\",\"red\",\"green\",\"green\",\"green\",\"green\",\"green\",\"red\",\"red\",\"red\",\"red\",\"green\",\"red\",\"green\",\"red\",\"green\",\"red\",\"green\",\"green\",\"red\",\"red\",\"red\",\"red\",\"red\",\"red\",\"red\",\"red\",\"red\",\"red\",\"red\",\"red\",\"red\",\"green\",\"red\",\"green\",\"green\",\"green\",\"red\",\"red\",\"red\"],\"size\":{\"__ndarray__\":\"VEsZ7eOsMkCp+Dc1Kv47QLZgC7ZgCwZAbT7x9x5F6D8gUMj047kIQN7UTd3UTQ1A0rUVOGadBkB2e6xl6ID9P8YCvIEVcSdAqzNfPFioHkAU8Z81SefwP5nlyM8Vs+w/VVVVVVU1LkCAeRdafMgoQOM/RUmMPhRA5eCHePFM6D8Y5S5PfVEiQNSk2+406TJAs7D7fNeWKUA83yFVy8MwQMxWiYvZKjFAe/7GlDtpJ0BNaV78iYQrQLJnl4TQy+4/q2x1AcLK9j9wzm//ie4xQF1K7zSHhAdAdzkoHHrV+z+Jdekxf68dQAhQfl5UixVA2o0l9lSX0j9aKR1aKR0SQAYF1MBoKxRATHAyN17RBEDemh8WKYMQQBy/p8+AZx1ARTxn/yQKC0DA8tJmKpAAQAswwAADDChATGgvob2EIkCXk1GI6kcSQCb5O7OfChtA0ugRFWQbIkBuF8JsF8IcQFmWZVmWZfk/Pfjggw8+OEBWJDqQs4UfQOMHdPQMmuE/HnzwwQcfHECJBuMD2n4CQLwjkWfOO9I/juM4juM4FkAAAAAAAABZQA==\",\"dtype\":\"float64\",\"shape\":[53]},\"turnover\":{\"__ndarray__\":\"1fvmaXvk+j8oOHqCoycEQFg5tMh2vs+/dxgUdXJ5sT+xOZBohc3Rv5VRGZVRGdW/36vmE15I0L+7/Ej3Fz7Fv+F8DM7H4PC/UqrJ484S5r/Vop6zSle4P0+lkL7mqbQ/AAAAAADA9T9mqQadB9jxP8JR/X3eJt2/P1pNQhR/sT8Opshn3WDqP1rtrHZWO/s/bbLJJpts8j/wVfMJLyT4P6vExWyVuPi/lkaPqCDb8L9CiQZuEdDzv4vFYrFYLLa/kAZpkAZpwD+W4RtRYNL5v3aHtr/H7tA/YClQ61cKxL8vF6hCo1/lP841bhcTBt+/G3DFGnDFmj86gxU6gxXaP3oRJypPC92/ofMAO0r6zb9yHMdxHMfXv0fRT2LNK+W/UX2mrfF307/r7Iuo1tnHv1BBBRVUUPG/q6qqqqqq6r/uOmtJFFPav0QuKwZKeOO/L6G9hPYS6r+1tLS0tLTkv5IkSZIkScK/dNFFF110AUCQgJpdL7Lmv3qQu362WKk/P9T0Q00/5D8YUa2zL6LKPxqkQRqkQZq/AAAAAAAA4L8AAAAAAAAiwA==\",\"dtype\":\"float64\",\"shape\":[53]},\"x\":{\"__ndarray__\":\"1FMTBKz8YMFQbRTElfxgwSW4KsqE/GDBaMFDIHD8YMFqQhuVQvxgwd2ZmGZJ/GDB1P6JgCb8YMGAXAvFsftgwVcSUsfM+2DB0kBJ4AD8YMFCfvdvMPxgwYCAo3h2/GDBFQsagOb8YMEwDVKHnPxgwZNXCKQi/WDBx8TLOMP8YMGDFiScpvtgwX9doV+B+2DBDjF0tX76YMGFdWCKR/pgwR9ulp/w+WDB1oaxOb/5YMFEvzk2dflgwa1KTyIf+WDBKR//U834YMHN/CM5yfhgwf7/evhf+GDBLrTp3C34YMHB6NiWz/dgwX7LrCxW+GDBwIKzqJD4YMGGb6E/qvhgwS2/Y253+GDBdRlhM734YMGLrgb/jvlgwVaJkGu/+WDBND3Gvcf5YMHNV2nql/lgwYQWikfN+WDBOkSbOub5YMEshCj8FfpgwVUCZfgc+mDBxmU/oCn7YMEv4B7NQPpgwVTVM8IT+mDB5znLW5P6YMF+cLapxvpgwQPC5eUI+2DBJIeEIF77YMGkMpMUrftgwZai06et+mDBJZYlOa/6YMEE5NxKT/5gwQ==\",\"dtype\":\"float64\",\"shape\":[53]},\"y\":{\"__ndarray__\":\"N3761rrOUkFmdd1rqs5SQZn6SuJmzlJBSQlT+CPOUkEM3hf2881SQWGr5nhhzlJBpjT1aJHOUkGuYQsrNM5SQfZRH8+XzlJBPOXIDWDPUkEPdGvwNM9SQZkO6gg5z1JBPegqsF/PUkFx7xdmkM9SQT013cwN0FJBVPNMOrLQUkH/A5mL6s9SQREOmr830FJByclbBUXSUkFn7upZ29JSQaUCz1Y90lJBNXrDEMvRUkFo987nXtFSQRmI8fLl0FJBwreXvjbRUkFS4WpMCNJSQSxVWWqg0VJB6+FhLkDRUkHNE4zuzNBSQUlpgzsH0VJBZEk0wT7RUkEXGzq43dBSQTlVWbpz0FJB+rrAxTjQUkFTi6k4vs9SQUhwYveAz1JBYG4kCuLOUkG2SNMWsM5SQZCTHFO7zVJBuPkWv0DOUkFFJtXeRc9SQZXExV7fzlJB3krj0UnPUkG4kLxAYc5SQS40xJT3zVJBBjQ76M/MUkEujrJU1MxSQSPnc6jozFJBIrZJhATNUkElov7D68xSQfRbcUKo0VJB4dCM36/RUkFOwtefq85SQQ==\",\"dtype\":\"float64\",\"shape\":[53]}}},\"id\":\"42fb3ce9-f8aa-453f-9eea-c991511ee882\",\"type\":\"ColumnDataSource\"},{\"attributes\":{\"fill_alpha\":{\"value\":0.1},\"fill_color\":{\"value\":\"#1f77b4\"},\"line_alpha\":{\"value\":0.1},\"line_color\":{\"value\":\"#1f77b4\"},\"size\":{\"field\":\"size\",\"units\":\"screen\"},\"x\":{\"field\":\"x\"},\"y\":{\"field\":\"y\"}},\"id\":\"7d1f2068-a92d-4853-bd38-424251bb8855\",\"type\":\"Circle\"},{\"attributes\":{\"data_source\":{\"id\":\"42fb3ce9-f8aa-453f-9eea-c991511ee882\",\"type\":\"ColumnDataSource\"},\"glyph\":{\"id\":\"7808957a-63c5-47d8-a690-ff2df837969e\",\"type\":\"Circle\"},\"hover_glyph\":null,\"muted_glyph\":null,\"nonselection_glyph\":{\"id\":\"7d1f2068-a92d-4853-bd38-424251bb8855\",\"type\":\"Circle\"},\"selection_glyph\":null,\"view\":{\"id\":\"703fccfa-11b9-4965-882e-622fb9467669\",\"type\":\"CDSView\"}},\"id\":\"d5bf5d99-b68f-4f51-a112-ca709ba3b896\",\"type\":\"GlyphRenderer\"},{\"attributes\":{\"source\":{\"id\":\"42fb3ce9-f8aa-453f-9eea-c991511ee882\",\"type\":\"ColumnDataSource\"}},\"id\":\"703fccfa-11b9-4965-882e-622fb9467669\",\"type\":\"CDSView\"},{\"attributes\":{},\"id\":\"189fa4e5-b97a-4e5f-904b-156bb938739c\",\"type\":\"PanTool\"},{\"attributes\":{\"formatter\":{\"id\":\"fa2b66b5-97a8-44d8-8f51-f8274ffd19d0\",\"type\":\"BasicTickFormatter\"},\"plot\":{\"id\":\"a4fc5f4f-b4cc-4bbc-bb4e-7522e5848fd6\",\"subtype\":\"Figure\",\"type\":\"Plot\"},\"ticker\":{\"id\":\"8d4fc71b-833f-4468-9f30-27c14d7171ea\",\"type\":\"BasicTicker\"},\"visible\":false},\"id\":\"8726d5e7-bd6f-4bd3-b4d9-197cffbb1ffb\",\"type\":\"LinearAxis\"},{\"attributes\":{\"fill_alpha\":{\"value\":0.8},\"fill_color\":{\"field\":\"color\"},\"line_alpha\":{\"value\":0.8},\"line_color\":{\"field\":\"color\"},\"size\":{\"field\":\"size\",\"units\":\"screen\"},\"x\":{\"field\":\"x\"},\"y\":{\"field\":\"y\"}},\"id\":\"7808957a-63c5-47d8-a690-ff2df837969e\",\"type\":\"Circle\"},{\"attributes\":{},\"id\":\"2f809add-401b-4c4b-99f5-22100c9b20dc\",\"type\":\"WheelZoomTool\"},{\"attributes\":{\"overlay\":{\"id\":\"12ce9660-adb0-49b0-a1e7-b11067f13775\",\"type\":\"BoxAnnotation\"}},\"id\":\"31bf6f69-d33d-4ae2-9b25-02472623ba3e\",\"type\":\"BoxZoomTool\"},{\"attributes\":{},\"id\":\"9fae8c49-009b-4ab3-83f8-a1581ba200b7\",\"type\":\"LinearScale\"},{\"attributes\":{},\"id\":\"a628cd92-6ec3-47e7-8bbc-613edc20ddd8\",\"type\":\"SaveTool\"},{\"attributes\":{\"alpha\":0.4,\"tile_source\":{\"id\":\"bf1ea59e-3c6c-4ea1-bd0a-c7d4256793e5\",\"type\":\"WMTSTileSource\"}},\"id\":\"6d189982-2af4-469b-bb34-3b2ede11130d\",\"type\":\"TileRenderer\"},{\"attributes\":{},\"id\":\"0428c5c3-1b40-4a1b-b8bf-d9ae5f96268d\",\"type\":\"ResetTool\"},{\"attributes\":{},\"id\":\"747c59b5-dc18-4f7e-8229-a4106333ad05\",\"type\":\"LinearScale\"},{\"attributes\":{},\"id\":\"c3abbe82-cb9b-4254-adec-16038b13965c\",\"type\":\"HelpTool\"}],\"root_ids\":[\"a4fc5f4f-b4cc-4bbc-bb4e-7522e5848fd6\"]},\"title\":\"Bokeh Application\",\"version\":\"0.12.11\"}};\n",
       "    var render_items = [{\"docid\":\"d7d79b68-e1db-49eb-a46f-c82ff489c8f0\",\"elementid\":\"037edb81-d855-44b3-8493-9e89ba1b34a2\",\"modelid\":\"a4fc5f4f-b4cc-4bbc-bb4e-7522e5848fd6\"}];\n",
       "    root.Bokeh.embed.embed_items(docs_json, render_items);\n",
       "  }\n",
       "  if (root.Bokeh !== undefined) {\n",
       "    embed_document(root);\n",
       "  } else {\n",
       "    var attempts = 0;\n",
       "    var timer = setInterval(function(root) {\n",
       "      if (root.Bokeh !== undefined) {\n",
       "        embed_document(root);\n",
       "        clearInterval(timer);\n",
       "      }\n",
       "      attempts++;\n",
       "      if (attempts > 100) {\n",
       "        console.log(\"Bokeh: ERROR: Unable to embed document because BokehJS library is missing\")\n",
       "        clearInterval(timer);\n",
       "      }\n",
       "    }, 10, root)\n",
       "  }\n",
       "})(window);"
      ],
      "application/vnd.bokehjs_exec.v0+json": ""
     },
     "metadata": {
      "application/vnd.bokehjs_exec.v0+json": {
       "id": "a4fc5f4f-b4cc-4bbc-bb4e-7522e5848fd6"
      }
     },
     "output_type": "display_data"
    }
   ],
   "source": [
    "plot = figure(x_range=x_range, y_range=y_range, plot_width=700, active_scroll='wheel_zoom')\n",
    "plot.axis.visible = False\n",
    "plot.grid.visible = False\n",
    "\n",
    "source = ColumnDataSource(stations2016)\n",
    "hover = HoverTool(tooltips = [('Station','@{Station Name}'),('Turnover','@turnover')])\n",
    "\n",
    "plot.add_tile(STAMEN_TONER, alpha=0.4)\n",
    "plot.circle('x','y', color='color', size='size', alpha=0.8, source=source)\n",
    "plot.add_tools(hover)\n",
    "show(plot)"
   ]
  },
  {
   "cell_type": "markdown",
   "metadata": {},
   "source": [
    "## Ride difficulty"
   ]
  },
  {
   "cell_type": "markdown",
   "metadata": {},
   "source": [
    "We'll compute the following quantities\n",
    "* ride distance\n",
    "* elevation change\n",
    "* deviation from expected duration"
   ]
  },
  {
   "cell_type": "markdown",
   "metadata": {},
   "source": [
    "### elevation"
   ]
  },
  {
   "cell_type": "code",
   "execution_count": 24,
   "metadata": {},
   "outputs": [],
   "source": [
    "from my_secrets.keys import google_elev\n",
    "from scipy.constants import foot\n",
    "\n",
    "c_elev = googlemaps.Client(key=google_elev)\n",
    "\n",
    "pos = stations2016[['Latitude','Longitude']].values.tolist()\n",
    "elev = [d['elevation'] / foot for d in c_elev.elevation(pos)]\n",
    "\n",
    "stations2016['elevation'] = elev "
   ]
  },
  {
   "cell_type": "markdown",
   "metadata": {},
   "source": [
    "### distance"
   ]
  },
  {
   "cell_type": "markdown",
   "metadata": {},
   "source": [
    "[Read this](https://gis.stackexchange.com/questions/84885/whats-the-difference-between-vincenty-and-great-circle-distance-calculations) for a discussion of distance algorithms."
   ]
  },
  {
   "cell_type": "markdown",
   "metadata": {},
   "source": [
    "<img src='http://numba.pydata.org/_static/numba_blue_icon_rgb.png' width='20%' align='right'>\n",
    "<big><big><big><b>[Numba](http://numba.pydata.org)</b></big></big></big>\n",
    "\n",
    "Numba will compile the function to optimized C code (using the LLVM compiler), and it understands NumPy arrays natively.\n",
    "\n",
    "It will also automatically generate and compile GPU kernels."
   ]
  },
  {
   "cell_type": "code",
   "execution_count": 25,
   "metadata": {},
   "outputs": [],
   "source": [
    "from geopy.distance import EARTH_RADIUS\n",
    "from scipy.constants import mile\n",
    "import numba\n",
    "\n",
    "@numba.jit(nopython=True)\n",
    "def _haversine(origin, destination):\n",
    "    '''the haversine distance in miles'''\n",
    "    assert origin.shape[0] == destination.shape[0]\n",
    "    \n",
    "    output = np.empty(shape=origin.shape[0], dtype=origin.dtype)\n",
    "    \n",
    "    # earth radius in miles\n",
    "    constant = EARTH_RADIUS * 1000/mile * 2\n",
    "    p = np.pi / 180\n",
    "    \n",
    "    n = origin.shape[0]\n",
    "    for i in range(n):\n",
    "        lat1 = origin[i,0]\n",
    "        lon1 = origin[i,1]\n",
    "        lat2 = destination[i,0]\n",
    "        lon2 = destination[i,1]\n",
    "    \n",
    "        a = 0.5 - np.cos((lat2 - lat1) * p) / 2  \\\n",
    "           + np.cos(lat1 * p) * np.cos(lat2 * p) \\\n",
    "           * (1 - np.cos((lon2 - lon1) * p )) / 2\n",
    "        output[i] = constant * np.arcsin(np.sqrt(a))\n",
    "    \n",
    "    return output\n",
    "\n",
    "def haversine(origin, destination):\n",
    "    '''The haversine distance in miles\n",
    "    \n",
    "    Compute the distance in miles between arrays of origin\n",
    "    and destination locations.\n",
    "    \n",
    "    Parameters\n",
    "    ----------\n",
    "    origin      : Pandas DataFrame of Latitude, Longitude positions\n",
    "    destination : Pandas DataFrame of Latitude, Longitude positions\n",
    "    \n",
    "    Returns\n",
    "    -------\n",
    "    Pandas Series on the inner joined indexes.'''\n",
    "    \n",
    "    # ensure that the two dataframes are\n",
    "    # aligned by row and column.\n",
    "    left, right = origin.align(destination, join='inner')\n",
    "    \n",
    "    out = _haversine(left.values, right.values)\n",
    "    \n",
    "    return pd.Series(out, index=left.index)"
   ]
  },
  {
   "cell_type": "code",
   "execution_count": 26,
   "metadata": {},
   "outputs": [],
   "source": [
    "start = rides2016.merge(stations2016, left_on='From station id', right_index=True)\n",
    "end = rides2016.merge(stations2016, left_on='To station id', right_index=True)\n",
    "\n",
    "distances = haversine(start[['Latitude','Longitude']], end[['Latitude','Longitude']])"
   ]
  },
  {
   "cell_type": "markdown",
   "metadata": {},
   "source": [
    "### Grade"
   ]
  },
  {
   "cell_type": "code",
   "execution_count": 27,
   "metadata": {},
   "outputs": [],
   "source": [
    "elevation_change = end['elevation'] - start['elevation']"
   ]
  },
  {
   "cell_type": "code",
   "execution_count": 28,
   "metadata": {},
   "outputs": [],
   "source": [
    "rides2016['pct_grade'] = (elevation_change / distances / 5280) * 100\n",
    "pairs = rides2016.groupby(['From station name','To station name']).agg({'Trip id':'count', 'pct_grade':'first'})"
   ]
  },
  {
   "cell_type": "markdown",
   "metadata": {},
   "source": [
    "Rides of extreme grade were less popular in 2016. Could be for any number of reasons."
   ]
  },
  {
   "cell_type": "code",
   "execution_count": 29,
   "metadata": {},
   "outputs": [
    {
     "data": {
      "text/plain": [
       "<matplotlib.axes._subplots.AxesSubplot at 0x113892240>"
      ]
     },
     "execution_count": 29,
     "metadata": {},
     "output_type": "execute_result"
    },
    {
     "data": {
      "image/png": "[encoded data removed]",
      "text/plain": [
       "<matplotlib.figure.Figure at 0x103f6ada0>"
      ]
     },
     "metadata": {},
     "output_type": "display_data"
    }
   ],
   "source": [
    "%matplotlib inline\n",
    "pairs.plot.scatter(x='Trip id', y='pct_grade', figsize=(12,8))"
   ]
  },
  {
   "cell_type": "code",
   "execution_count": 30,
   "metadata": {
    "scrolled": true
   },
   "outputs": [
    {
     "data": {
      "text/html": [
       "<div>\n",
       "<style scoped>\n",
       "    .dataframe tbody tr th:only-of-type {\n",
       "        vertical-align: middle;\n",
       "    }\n",
       "\n",
       "    .dataframe tbody tr th {\n",
       "        vertical-align: top;\n",
       "    }\n",
       "\n",
       "    .dataframe thead th {\n",
       "        text-align: right;\n",
       "    }\n",
       "</style>\n",
       "<table border=\"1\" class=\"dataframe\">\n",
       "  <thead>\n",
       "    <tr style=\"text-align: right;\">\n",
       "      <th></th>\n",
       "      <th></th>\n",
       "      <th>Trip id</th>\n",
       "      <th>pct_grade</th>\n",
       "    </tr>\n",
       "    <tr>\n",
       "      <th>From station name</th>\n",
       "      <th>To station name</th>\n",
       "      <th></th>\n",
       "      <th></th>\n",
       "    </tr>\n",
       "  </thead>\n",
       "  <tbody>\n",
       "    <tr>\n",
       "      <th>Boulevard of the Allies &amp; Parkview Ave</th>\n",
       "      <th>Fifth Ave &amp; S Bouquet St</th>\n",
       "      <td>555</td>\n",
       "      <td>0.533128</td>\n",
       "    </tr>\n",
       "    <tr>\n",
       "      <th>Alder St &amp; S Highland Ave</th>\n",
       "      <th>Penn Ave &amp; Putnam St (Bakery Square)</th>\n",
       "      <td>472</td>\n",
       "      <td>0.872817</td>\n",
       "    </tr>\n",
       "    <tr>\n",
       "      <th>Fifth Ave &amp; S Bouquet St</th>\n",
       "      <th>Boulevard of the Allies &amp; Parkview Ave</th>\n",
       "      <td>467</td>\n",
       "      <td>-0.533128</td>\n",
       "    </tr>\n",
       "  </tbody>\n",
       "</table>\n",
       "</div>"
      ],
      "text/plain": [
       "                                                                               Trip id  \\\n",
       "From station name                      To station name                                   \n",
       "Boulevard of the Allies & Parkview Ave Fifth Ave & S Bouquet St                    555   \n",
       "Alder St & S Highland Ave              Penn Ave & Putnam St (Bakery Square)        472   \n",
       "Fifth Ave & S Bouquet St               Boulevard of the Allies & Parkview Ave      467   \n",
       "\n",
       "                                                                               pct_grade  \n",
       "From station name                      To station name                                    \n",
       "Boulevard of the Allies & Parkview Ave Fifth Ave & S Bouquet St                 0.533128  \n",
       "Alder St & S Highland Ave              Penn Ave & Putnam St (Bakery Square)     0.872817  \n",
       "Fifth Ave & S Bouquet St               Boulevard of the Allies & Parkview Ave  -0.533128  "
      ]
     },
     "execution_count": 30,
     "metadata": {},
     "output_type": "execute_result"
    }
   ],
   "source": [
    "pairs.dropna().nlargest(3, 'Trip id')"
   ]
  },
  {
   "cell_type": "markdown",
   "metadata": {},
   "source": [
    "## More Google APIs"
   ]
  },
  {
   "cell_type": "markdown",
   "metadata": {},
   "source": [
    "<big><big>Google Distance Matrix</big></big>\n",
    "* actual *biking* distance\n",
    "* expected time"
   ]
  },
  {
   "cell_type": "code",
   "execution_count": 31,
   "metadata": {},
   "outputs": [
    {
     "data": {
      "text/html": [
       "<div>\n",
       "<style scoped>\n",
       "    .dataframe tbody tr th:only-of-type {\n",
       "        vertical-align: middle;\n",
       "    }\n",
       "\n",
       "    .dataframe tbody tr th {\n",
       "        vertical-align: top;\n",
       "    }\n",
       "\n",
       "    .dataframe thead th {\n",
       "        text-align: right;\n",
       "    }\n",
       "</style>\n",
       "<table border=\"1\" class=\"dataframe\">\n",
       "  <thead>\n",
       "    <tr style=\"text-align: right;\">\n",
       "      <th></th>\n",
       "      <th>From station id</th>\n",
       "      <th>To station id</th>\n",
       "      <th>Gdistance (meters)</th>\n",
       "      <th>time</th>\n",
       "    </tr>\n",
       "  </thead>\n",
       "  <tbody>\n",
       "    <tr>\n",
       "      <th>0</th>\n",
       "      <td>1026</td>\n",
       "      <td>1032</td>\n",
       "      <td>1068</td>\n",
       "      <td>00:03:47</td>\n",
       "    </tr>\n",
       "    <tr>\n",
       "      <th>1</th>\n",
       "      <td>1029</td>\n",
       "      <td>1021</td>\n",
       "      <td>2868</td>\n",
       "      <td>00:12:03</td>\n",
       "    </tr>\n",
       "    <tr>\n",
       "      <th>2</th>\n",
       "      <td>1029</td>\n",
       "      <td>1028</td>\n",
       "      <td>1080</td>\n",
       "      <td>00:04:27</td>\n",
       "    </tr>\n",
       "    <tr>\n",
       "      <th>3</th>\n",
       "      <td>1041</td>\n",
       "      <td>1047</td>\n",
       "      <td>2865</td>\n",
       "      <td>00:08:36</td>\n",
       "    </tr>\n",
       "    <tr>\n",
       "      <th>...</th>\n",
       "      <td>...</td>\n",
       "      <td>...</td>\n",
       "      <td>...</td>\n",
       "      <td>...</td>\n",
       "    </tr>\n",
       "    <tr>\n",
       "      <th>2227</th>\n",
       "      <td>1010</td>\n",
       "      <td>1042</td>\n",
       "      <td>2464</td>\n",
       "      <td>00:15:58</td>\n",
       "    </tr>\n",
       "    <tr>\n",
       "      <th>2228</th>\n",
       "      <td>1061</td>\n",
       "      <td>1016</td>\n",
       "      <td>2114</td>\n",
       "      <td>00:07:01</td>\n",
       "    </tr>\n",
       "    <tr>\n",
       "      <th>2229</th>\n",
       "      <td>1005</td>\n",
       "      <td>1033</td>\n",
       "      <td>9924</td>\n",
       "      <td>00:36:03</td>\n",
       "    </tr>\n",
       "    <tr>\n",
       "      <th>2230</th>\n",
       "      <td>1022</td>\n",
       "      <td>1061</td>\n",
       "      <td>2245</td>\n",
       "      <td>00:07:09</td>\n",
       "    </tr>\n",
       "  </tbody>\n",
       "</table>\n",
       "<p>2231 rows × 4 columns</p>\n",
       "</div>"
      ],
      "text/plain": [
       "      From station id  To station id  Gdistance (meters)     time\n",
       "0                1026           1032                1068 00:03:47\n",
       "1                1029           1021                2868 00:12:03\n",
       "2                1029           1028                1080 00:04:27\n",
       "3                1041           1047                2865 00:08:36\n",
       "...               ...            ...                 ...      ...\n",
       "2227             1010           1042                2464 00:15:58\n",
       "2228             1061           1016                2114 00:07:01\n",
       "2229             1005           1033                9924 00:36:03\n",
       "2230             1022           1061                2245 00:07:09\n",
       "\n",
       "[2231 rows x 4 columns]"
      ]
     },
     "execution_count": 31,
     "metadata": {},
     "output_type": "execute_result"
    }
   ],
   "source": [
    "# cooking show version\n",
    "gmap = pd.read_csv('gmap.csv')\n",
    "gmap['time'] = pd.to_timedelta(gmap['time'])\n",
    "gmap"
   ]
  },
  {
   "cell_type": "code",
   "execution_count": 32,
   "metadata": {},
   "outputs": [
    {
     "data": {
      "text/plain": [
       "count                      2231\n",
       "mean     0 days 00:16:44.927835\n",
       "std      0 days 00:09:38.167278\n",
       "min             0 days 00:00:00\n",
       "25%             0 days 00:08:56\n",
       "50%             0 days 00:15:54\n",
       "75%             0 days 00:23:55\n",
       "max             0 days 00:45:19\n",
       "Name: time, dtype: object"
      ]
     },
     "execution_count": 32,
     "metadata": {},
     "output_type": "execute_result"
    }
   ],
   "source": [
    "gmap['time'].describe()"
   ]
  },
  {
   "cell_type": "markdown",
   "metadata": {},
   "source": [
    "### On time arrival"
   ]
  },
  {
   "cell_type": "markdown",
   "metadata": {},
   "source": [
    "I don't trust the Starttime and Stoptime columns."
   ]
  },
  {
   "cell_type": "code",
   "execution_count": 33,
   "metadata": {},
   "outputs": [],
   "source": [
    "gmap_rides = rides2016.merge(gmap)"
   ]
  },
  {
   "cell_type": "code",
   "execution_count": 34,
   "metadata": {},
   "outputs": [
    {
     "data": {
      "text/plain": [
       "count     74434.000000\n",
       "mean       2923.737338\n",
       "std        9404.711734\n",
       "min       -1403.000000\n",
       "25%          99.000000\n",
       "50%         538.000000\n",
       "75%        2749.000000\n",
       "max      168239.000000\n",
       "Name: deviation, dtype: float64"
      ]
     },
     "execution_count": 34,
     "metadata": {},
     "output_type": "execute_result"
    }
   ],
   "source": [
    "gmap_rides['deviation'] = gmap_rides['Tripduration'] - gmap_rides['time'].dt.total_seconds()\n",
    "gmap_rides['deviation'].describe()"
   ]
  },
  {
   "cell_type": "code",
   "execution_count": 35,
   "metadata": {},
   "outputs": [
    {
     "data": {
      "text/html": [
       "<div>\n",
       "<style scoped>\n",
       "    .dataframe tbody tr th:only-of-type {\n",
       "        vertical-align: middle;\n",
       "    }\n",
       "\n",
       "    .dataframe tbody tr th {\n",
       "        vertical-align: top;\n",
       "    }\n",
       "\n",
       "    .dataframe thead th {\n",
       "        text-align: right;\n",
       "    }\n",
       "</style>\n",
       "<table border=\"1\" class=\"dataframe\">\n",
       "  <thead>\n",
       "    <tr style=\"text-align: right;\">\n",
       "      <th></th>\n",
       "      <th>From station name</th>\n",
       "      <th>To station name</th>\n",
       "      <th>pct_grade</th>\n",
       "      <th>deviation</th>\n",
       "    </tr>\n",
       "  </thead>\n",
       "  <tbody>\n",
       "    <tr>\n",
       "      <th>69237</th>\n",
       "      <td>Fort Duquesne Blvd &amp; 7th St</td>\n",
       "      <td>S 27th St &amp; Sidney St. (Southside Works)</td>\n",
       "      <td>0.126110</td>\n",
       "      <td>-1403.0</td>\n",
       "    </tr>\n",
       "    <tr>\n",
       "      <th>72691</th>\n",
       "      <td>Liberty Ave &amp; Stanwix St</td>\n",
       "      <td>Coltart Ave &amp; Forbes Ave</td>\n",
       "      <td>1.390559</td>\n",
       "      <td>-1367.0</td>\n",
       "    </tr>\n",
       "    <tr>\n",
       "      <th>73942</th>\n",
       "      <td>Third Ave &amp; Wood St</td>\n",
       "      <td>Penn Ave &amp; Putnam St (Bakery Square)</td>\n",
       "      <td>0.816549</td>\n",
       "      <td>-1300.0</td>\n",
       "    </tr>\n",
       "    <tr>\n",
       "      <th>73684</th>\n",
       "      <td>Liberty Ave &amp; Stanwix St</td>\n",
       "      <td>S Negley Ave &amp; Baum Blvd</td>\n",
       "      <td>0.797791</td>\n",
       "      <td>-1257.0</td>\n",
       "    </tr>\n",
       "    <tr>\n",
       "      <th>72782</th>\n",
       "      <td>S 22nd St &amp; E Carson St</td>\n",
       "      <td>42nd &amp; Penn Ave.</td>\n",
       "      <td>1.234615</td>\n",
       "      <td>-1180.0</td>\n",
       "    </tr>\n",
       "  </tbody>\n",
       "</table>\n",
       "</div>"
      ],
      "text/plain": [
       "                 From station name                           To station name  \\\n",
       "69237  Fort Duquesne Blvd & 7th St  S 27th St & Sidney St. (Southside Works)   \n",
       "72691     Liberty Ave & Stanwix St                  Coltart Ave & Forbes Ave   \n",
       "73942          Third Ave & Wood St      Penn Ave & Putnam St (Bakery Square)   \n",
       "73684     Liberty Ave & Stanwix St                  S Negley Ave & Baum Blvd   \n",
       "72782      S 22nd St & E Carson St                          42nd & Penn Ave.   \n",
       "\n",
       "       pct_grade  deviation  \n",
       "69237   0.126110    -1403.0  \n",
       "72691   1.390559    -1367.0  \n",
       "73942   0.816549    -1300.0  \n",
       "73684   0.797791    -1257.0  \n",
       "72782   1.234615    -1180.0  "
      ]
     },
     "execution_count": 35,
     "metadata": {},
     "output_type": "execute_result"
    }
   ],
   "source": [
    "fast_rides = gmap_rides.loc[gmap_rides['deviation'] < 0]\n",
    "fast_rides[['From station name','To station name','pct_grade','deviation']].nsmallest(5, 'deviation')"
   ]
  }
 ],
 "metadata": {
  "kernelspec": {
   "display_name": "Python 3",
   "language": "python",
   "name": "python3"
  },
  "language_info": {
   "codemirror_mode": {
    "name": "ipython",
    "version": 3
   },
   "file_extension": ".py",
   "mimetype": "text/x-python",
   "name": "python",
   "nbconvert_exporter": "python",
   "pygments_lexer": "ipython3",
   "version": "3.6.3"
  }
 },
 "nbformat": 4,
 "nbformat_minor": 2
}
