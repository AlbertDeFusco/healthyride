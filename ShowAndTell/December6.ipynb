{
 "cells": [
  {
   "cell_type": "markdown",
   "metadata": {},
   "source": [
    "# Healthy Ride Data Exploration"
   ]
  },
  {
   "cell_type": "markdown",
   "metadata": {},
   "source": [
    "<img src='https://healthyridepgh.com/wp-content/uploads/sites/3/2016/09/Healthy-Ride-Logo.Stacked-01.png' width='50%'>\n",
    "\n",
    "<big><big><big>PGH Data Science Meetup</big></big></big>\n",
    "\n",
    "<b>Show and Tell</b>\n",
    "\n",
    "*December 6, 2017*\n",
    "\n",
    "* Robert Lucente, *Pipeline*\n",
    "* Chris Sternberger, *BAE Systems*\n",
    "* Melinda Angeles, *Allegheny County*\n",
    "* Albert DeFusco, *Anaconda, Inc.*"
   ]
  },
  {
   "cell_type": "markdown",
   "metadata": {},
   "source": [
    "# Table of Contents\n",
    "* [Healthy Ride Data Exploration](#Healthy-Ride-Data-Exploration)\n",
    "\t* [Get Data](#Get-Data)\n",
    "\t* [2016 Rides](#2016-Rides)\n",
    "\t* [Stations](#Stations)\n",
    "\t* [Harmonizing](#Harmonizing)\n",
    "\t\t* [Geocoding](#Geocoding)\n",
    "\t* [Again for 2017](#Again-for-2017)\n",
    "\t* [Popular Stations](#Popular-Stations)\n",
    "\t\t* [Cleaning](#Cleaning)\n",
    "\t* [Mapping](#Mapping)\n",
    "\t* [Ride difficulty](#Ride-difficulty)\n",
    "\t\t* [elevation](#elevation)\n",
    "\t\t* [distance](#distance)\n",
    "\t\t* [Grade](#Grade)\n",
    "\t* [More Google APIs](#More-Google-APIs)\n",
    "\t\t* [On time arrival](#On-time-arrival)\n",
    "\t* [Where can I go in 15 minutes?](#Where-can-I-go-in-15-minutes?)\n"
   ]
  },
  {
   "cell_type": "markdown",
   "metadata": {},
   "source": [
    "## Get Data"
   ]
  },
  {
   "cell_type": "markdown",
   "metadata": {},
   "source": [
    "We'll do a little web scraping here to get the Zip files."
   ]
  },
  {
   "cell_type": "code",
   "execution_count": 1,
   "metadata": {},
   "outputs": [],
   "source": [
    "import os\n",
    "import shutil\n",
    "\n",
    "if os.path.exists('./data'):\n",
    "    shutil.rmtree('./data/')\n",
    "    \n",
    "os.mkdir('./data')"
   ]
  },
  {
   "cell_type": "markdown",
   "metadata": {},
   "source": [
    "<big><big>[Requests: HTTP for Humans](http://docs.python-requests.org/en/master/)</big></big> | <big><big>[BeautifulSoup: HTML parsing](https://www.crummy.com/software/BeautifulSoup/)</big></big>\n",
    ":-------------------------:|:-------------------------:\n",
    "<img src='http://docs.python-requests.org/en/master/_static/requests-sidebar.png' width='20%'>  |  <img src='https://singbookswithemily.files.wordpress.com/2015/03/beautiful-soup-can-w-mock-turtle-coin.jpg' width='40%'>"
   ]
  },
  {
   "cell_type": "code",
   "execution_count": 2,
   "metadata": {},
   "outputs": [
    {
     "name": "stdout",
     "output_type": "stream",
     "text": [
      "Downloading HealthyRideTripData2015Q2.zip\n",
      "Downloading HealthyRideTripData2015Q3.zip\n",
      "Downloading HealthyRideTripData2015Q4.zip\n",
      "Downloading HealthyRideTripData2016Q1.zip\n",
      "Downloading HealthyRideTripData2016Q2.zip\n",
      "Downloading HealthyRideTripData2016Q3.zip\n",
      "Downloading HealthyRideTripData2016Q4.zip\n",
      "Downloading HealthyRideTripData2017Q1.zip\n",
      "Downloading HealthyRideTripData2017Q2.zip\n"
     ]
    },
    {
     "data": {
      "text/plain": [
       "['HealthyRideTripData2016Q1.zip',\n",
       " 'HealthyRideTripData2016Q2.zip',\n",
       " 'HealthyRideTripData2016Q3.zip',\n",
       " 'HealthyRideTripData2016Q4.zip',\n",
       " 'HealthyRideTripData2017Q2.zip',\n",
       " 'HealthyRideTripData2015Q3.zip',\n",
       " 'HealthyRideTripData2017Q1.zip',\n",
       " 'HealthyRideTripData2015Q2.zip',\n",
       " 'HealthyRideTripData2015Q4.zip']"
      ]
     },
     "execution_count": 2,
     "metadata": {},
     "output_type": "execute_result"
    }
   ],
   "source": [
    "import requests\n",
    "from bs4 import BeautifulSoup\n",
    "from os.path import basename, join\n",
    "\n",
    "response = requests.get('http://healthyridepgh.com/data')\n",
    "soup = BeautifulSoup(response.content, 'lxml')\n",
    "\n",
    "buttons = soup.find_all('a', attrs={'class':'btn btn-primary'})\n",
    "links = [b.get('href') for b in buttons]\n",
    "\n",
    "for link in links:\n",
    "    response = requests.get(link)\n",
    "    if response.ok:\n",
    "        fname = basename(link)\n",
    "        print('Downloading {}'.format(fname))\n",
    "        with open(join('data',fname), 'wb') as f:\n",
    "            f.write(response.content)\n",
    "\n",
    "os.listdir('./data')"
   ]
  },
  {
   "cell_type": "markdown",
   "metadata": {},
   "source": [
    "Finally, we'll extract the archives."
   ]
  },
  {
   "cell_type": "code",
   "execution_count": 3,
   "metadata": {},
   "outputs": [],
   "source": [
    "from zipfile import ZipFile\n",
    "\n",
    "for file in os.listdir('./data'):\n",
    "    with ZipFile(join('./data',file)) as z:\n",
    "        z.extractall('./data')"
   ]
  },
  {
   "cell_type": "code",
   "execution_count": 4,
   "metadata": {},
   "outputs": [
    {
     "name": "stdout",
     "output_type": "stream",
     "text": [
      "./data/2017-Q1/\n",
      "               Healthy Ride Rentals 2017-Q1.csv\n",
      "               HealthyRideStations2017.csv\n",
      "               desktop.ini\n",
      "./data/2016-Q1/\n",
      "               HealthyRide Rentals 2016 Q1.csv\n",
      "               HealthyRideStations2016.csv\n",
      "               desktop.ini\n",
      "./data/2015-Q2/\n",
      "               HealthyRideStations2015.csv\n",
      "               HealthyRide Rentals 2015 Q2.csv\n",
      "               desktop.ini\n",
      "./data/2015-Q3/\n",
      "               HealthyRideStations2015.csv\n",
      "               HealthyRide Rentals 2015 Q3.csv\n",
      "               desktop.ini\n",
      "./data/2015-Q4/\n",
      "               HealthyRideStations2015.csv\n",
      "               HealthyRide Rentals 2015 Q4.csv\n",
      "               desktop.ini\n",
      "./data/2017-Q2/\n",
      "               Healthy Ride Rentals 2017-Q2.csv\n",
      "               HealthyRideStations2017.csv\n",
      "./data/2016-Q2/\n",
      "               HealthyRide Rentals 2016 Q2.csv\n",
      "               HealthyRideStations2016.csv\n",
      "               desktop.ini\n",
      "./data/2016-Q3/\n",
      "               HealthyRide Rentals 2016 Q3.csv\n",
      "               HealthyRideStations2016.csv\n",
      "               desktop.ini\n",
      "./data/2016-Q4/\n",
      "               HealthyRide Rentals 2016 Q4.csv\n",
      "               HealthyRideStations2016.csv\n",
      "               desktop.ini\n"
     ]
    }
   ],
   "source": [
    "for root, dirs, files in os.walk('./data'):\n",
    "    if not dirs:\n",
    "        print(root+'/')\n",
    "        for f in files:\n",
    "            print(' '*14,f)"
   ]
  },
  {
   "cell_type": "markdown",
   "metadata": {},
   "source": [
    "## 2016 Rides"
   ]
  },
  {
   "cell_type": "markdown",
   "metadata": {},
   "source": [
    "\n",
    "<img src='https://pandas.pydata.org/_static/pandas_logo.png' width='80%'>\n",
    "\n",
    "http://pandas.pydata.org\n",
    "\n",
    "\"Python and data analysis\" and \"panel data\""
   ]
  },
  {
   "cell_type": "markdown",
   "metadata": {},
   "source": [
    "Read all of the 2016 data into a single Pandas DataFrame object it's only 70,000 rows."
   ]
  },
  {
   "cell_type": "code",
   "execution_count": 5,
   "metadata": {},
   "outputs": [
    {
     "data": {
      "text/html": [
       "<div>\n",
       "<style scoped>\n",
       "    .dataframe tbody tr th:only-of-type {\n",
       "        vertical-align: middle;\n",
       "    }\n",
       "\n",
       "    .dataframe tbody tr th {\n",
       "        vertical-align: top;\n",
       "    }\n",
       "\n",
       "    .dataframe thead th {\n",
       "        text-align: right;\n",
       "    }\n",
       "</style>\n",
       "<table border=\"1\" class=\"dataframe\">\n",
       "  <thead>\n",
       "    <tr style=\"text-align: right;\">\n",
       "      <th></th>\n",
       "      <th>Trip id</th>\n",
       "      <th>Starttime</th>\n",
       "      <th>Stoptime</th>\n",
       "      <th>Bikeid</th>\n",
       "      <th>Tripduration</th>\n",
       "      <th>From station id</th>\n",
       "      <th>From station name</th>\n",
       "      <th>To station id</th>\n",
       "      <th>To station name</th>\n",
       "      <th>Usertype</th>\n",
       "    </tr>\n",
       "  </thead>\n",
       "  <tbody>\n",
       "    <tr>\n",
       "      <th>0</th>\n",
       "      <td>15335599</td>\n",
       "      <td>2016-01-01 01:44:00</td>\n",
       "      <td>2016-01-01 02:01:00</td>\n",
       "      <td>70294</td>\n",
       "      <td>1068</td>\n",
       "      <td>1026</td>\n",
       "      <td>Penn Ave &amp; S Whitfield St</td>\n",
       "      <td>1032</td>\n",
       "      <td>Walnut St &amp; College St</td>\n",
       "      <td>NaN</td>\n",
       "    </tr>\n",
       "    <tr>\n",
       "      <th>1</th>\n",
       "      <td>15335629</td>\n",
       "      <td>2016-01-01 02:39:00</td>\n",
       "      <td>2016-01-01 02:53:00</td>\n",
       "      <td>70360</td>\n",
       "      <td>892</td>\n",
       "      <td>1029</td>\n",
       "      <td>Alder St &amp; S Highland Ave</td>\n",
       "      <td>1021</td>\n",
       "      <td>Taylor St &amp; Liberty Ave</td>\n",
       "      <td>NaN</td>\n",
       "    </tr>\n",
       "    <tr>\n",
       "      <th>2</th>\n",
       "      <td>15336195</td>\n",
       "      <td>2016-01-01 10:02:00</td>\n",
       "      <td>2016-01-01 10:06:00</td>\n",
       "      <td>70369</td>\n",
       "      <td>245</td>\n",
       "      <td>1029</td>\n",
       "      <td>Alder St &amp; S Highland Ave</td>\n",
       "      <td>1028</td>\n",
       "      <td>Penn Ave &amp; Putnam St (Bakery Square)</td>\n",
       "      <td>NaN</td>\n",
       "    </tr>\n",
       "    <tr>\n",
       "      <th>3</th>\n",
       "      <td>15336282</td>\n",
       "      <td>2016-01-01 10:39:00</td>\n",
       "      <td>2016-01-01 10:50:00</td>\n",
       "      <td>70304</td>\n",
       "      <td>683</td>\n",
       "      <td>1041</td>\n",
       "      <td>Fifth Ave &amp; S Bouquet St</td>\n",
       "      <td>1047</td>\n",
       "      <td>S 22nd St &amp; E Carson St</td>\n",
       "      <td>NaN</td>\n",
       "    </tr>\n",
       "    <tr>\n",
       "      <th>4</th>\n",
       "      <td>15336307</td>\n",
       "      <td>2016-01-01 10:51:00</td>\n",
       "      <td>2016-01-01 11:14:00</td>\n",
       "      <td>70345</td>\n",
       "      <td>1346</td>\n",
       "      <td>1047</td>\n",
       "      <td>S 22nd St &amp; E Carson St</td>\n",
       "      <td>1002</td>\n",
       "      <td>Third Ave &amp; Wood St</td>\n",
       "      <td>NaN</td>\n",
       "    </tr>\n",
       "  </tbody>\n",
       "</table>\n",
       "</div>"
      ],
      "text/plain": [
       "    Trip id           Starttime            Stoptime  Bikeid  Tripduration  \\\n",
       "0  15335599 2016-01-01 01:44:00 2016-01-01 02:01:00   70294          1068   \n",
       "1  15335629 2016-01-01 02:39:00 2016-01-01 02:53:00   70360           892   \n",
       "2  15336195 2016-01-01 10:02:00 2016-01-01 10:06:00   70369           245   \n",
       "3  15336282 2016-01-01 10:39:00 2016-01-01 10:50:00   70304           683   \n",
       "4  15336307 2016-01-01 10:51:00 2016-01-01 11:14:00   70345          1346   \n",
       "\n",
       "   From station id          From station name  To station id  \\\n",
       "0             1026  Penn Ave & S Whitfield St           1032   \n",
       "1             1029  Alder St & S Highland Ave           1021   \n",
       "2             1029  Alder St & S Highland Ave           1028   \n",
       "3             1041   Fifth Ave & S Bouquet St           1047   \n",
       "4             1047    S 22nd St & E Carson St           1002   \n",
       "\n",
       "                        To station name  Usertype  \n",
       "0                Walnut St & College St       NaN  \n",
       "1               Taylor St & Liberty Ave       NaN  \n",
       "2  Penn Ave & Putnam St (Bakery Square)       NaN  \n",
       "3               S 22nd St & E Carson St       NaN  \n",
       "4                   Third Ave & Wood St       NaN  "
      ]
     },
     "execution_count": 5,
     "metadata": {},
     "output_type": "execute_result"
    }
   ],
   "source": [
    "import pandas as pd\n",
    "from glob import glob\n",
    "pd.options.display.max_rows = 8\n",
    "pd.options.display.max_columns = 10\n",
    "\n",
    "files = glob('./data/2016-Q*/HealthyRide Rentals 2016 Q*.csv')\n",
    "rides2016 = pd.concat([pd.read_csv(f) for f in files], ignore_index=True)\n",
    "\n",
    "for c in 'Starttime','Stoptime':\n",
    "    rides2016[c] = pd.to_datetime(rides2016[c], format='%m/%d/%Y %H:%M')\n",
    "    \n",
    "rides2016.head()"
   ]
  },
  {
   "cell_type": "markdown",
   "metadata": {},
   "source": [
    "## Stations"
   ]
  },
  {
   "cell_type": "markdown",
   "metadata": {},
   "source": [
    "Positions of each station are stored separately. 2017 probably has the most up to date stations."
   ]
  },
  {
   "cell_type": "code",
   "execution_count": 6,
   "metadata": {},
   "outputs": [
    {
     "data": {
      "text/html": [
       "<div>\n",
       "<style scoped>\n",
       "    .dataframe tbody tr th:only-of-type {\n",
       "        vertical-align: middle;\n",
       "    }\n",
       "\n",
       "    .dataframe tbody tr th {\n",
       "        vertical-align: top;\n",
       "    }\n",
       "\n",
       "    .dataframe thead th {\n",
       "        text-align: right;\n",
       "    }\n",
       "</style>\n",
       "<table border=\"1\" class=\"dataframe\">\n",
       "  <thead>\n",
       "    <tr style=\"text-align: right;\">\n",
       "      <th></th>\n",
       "      <th>Station Name</th>\n",
       "      <th># of Racks</th>\n",
       "      <th>Latitude</th>\n",
       "      <th>Longitude</th>\n",
       "    </tr>\n",
       "    <tr>\n",
       "      <th>Station #</th>\n",
       "      <th></th>\n",
       "      <th></th>\n",
       "      <th></th>\n",
       "      <th></th>\n",
       "    </tr>\n",
       "  </thead>\n",
       "  <tbody>\n",
       "    <tr>\n",
       "      <th>1000</th>\n",
       "      <td>Liberty Ave &amp; Stanwix St</td>\n",
       "      <td>16</td>\n",
       "      <td>40.441326</td>\n",
       "      <td>-80.004679</td>\n",
       "    </tr>\n",
       "    <tr>\n",
       "      <th>1001</th>\n",
       "      <td>Forbes Ave &amp; Market Square</td>\n",
       "      <td>19</td>\n",
       "      <td>40.440877</td>\n",
       "      <td>-80.003080</td>\n",
       "    </tr>\n",
       "    <tr>\n",
       "      <th>1002</th>\n",
       "      <td>Third Ave &amp; Wood St</td>\n",
       "      <td>15</td>\n",
       "      <td>40.439030</td>\n",
       "      <td>-80.001860</td>\n",
       "    </tr>\n",
       "    <tr>\n",
       "      <th>1003</th>\n",
       "      <td>First Ave &amp; Smithfield St (Art Institute)</td>\n",
       "      <td>15</td>\n",
       "      <td>40.437200</td>\n",
       "      <td>-80.000375</td>\n",
       "    </tr>\n",
       "    <tr>\n",
       "      <th>...</th>\n",
       "      <td>...</td>\n",
       "      <td>...</td>\n",
       "      <td>...</td>\n",
       "      <td>...</td>\n",
       "    </tr>\n",
       "    <tr>\n",
       "      <th>1048</th>\n",
       "      <td>S 18th St &amp; Sidney St</td>\n",
       "      <td>16</td>\n",
       "      <td>40.429338</td>\n",
       "      <td>-79.980684</td>\n",
       "    </tr>\n",
       "    <tr>\n",
       "      <th>1049</th>\n",
       "      <td>S 12th St &amp; E Carson St</td>\n",
       "      <td>19</td>\n",
       "      <td>40.428661</td>\n",
       "      <td>-79.986358</td>\n",
       "    </tr>\n",
       "    <tr>\n",
       "      <th>1050</th>\n",
       "      <td>Healthy Ride Hub</td>\n",
       "      <td>2</td>\n",
       "      <td>40.461817</td>\n",
       "      <td>-79.968002</td>\n",
       "    </tr>\n",
       "    <tr>\n",
       "      <th>1061</th>\n",
       "      <td>33rd St and Penn Ave</td>\n",
       "      <td>2</td>\n",
       "      <td>40.462026</td>\n",
       "      <td>-79.968114</td>\n",
       "    </tr>\n",
       "  </tbody>\n",
       "</table>\n",
       "<p>52 rows × 4 columns</p>\n",
       "</div>"
      ],
      "text/plain": [
       "                                        Station Name  # of Racks   Latitude  \\\n",
       "Station #                                                                     \n",
       "1000                        Liberty Ave & Stanwix St          16  40.441326   \n",
       "1001                      Forbes Ave & Market Square          19  40.440877   \n",
       "1002                             Third Ave & Wood St          15  40.439030   \n",
       "1003       First Ave & Smithfield St (Art Institute)          15  40.437200   \n",
       "...                                              ...         ...        ...   \n",
       "1048                           S 18th St & Sidney St          16  40.429338   \n",
       "1049                         S 12th St & E Carson St          19  40.428661   \n",
       "1050                                Healthy Ride Hub           2  40.461817   \n",
       "1061                            33rd St and Penn Ave           2  40.462026   \n",
       "\n",
       "           Longitude  \n",
       "Station #             \n",
       "1000      -80.004679  \n",
       "1001      -80.003080  \n",
       "1002      -80.001860  \n",
       "1003      -80.000375  \n",
       "...              ...  \n",
       "1048      -79.980684  \n",
       "1049      -79.986358  \n",
       "1050      -79.968002  \n",
       "1061      -79.968114  \n",
       "\n",
       "[52 rows x 4 columns]"
      ]
     },
     "execution_count": 6,
     "metadata": {},
     "output_type": "execute_result"
    }
   ],
   "source": [
    "stations = pd.read_csv('data/2017-Q1/HealthyRideStations2017.csv',encoding='iso-8859-1', index_col=0).sort_index()\n",
    "stations"
   ]
  },
  {
   "cell_type": "markdown",
   "metadata": {},
   "source": [
    "## Harmonizing"
   ]
  },
  {
   "cell_type": "markdown",
   "metadata": {},
   "source": [
    "The rides file has *MORE* station IDs than are listed in the stations file."
   ]
  },
  {
   "cell_type": "code",
   "execution_count": 7,
   "metadata": {},
   "outputs": [
    {
     "data": {
      "text/plain": [
       "53"
      ]
     },
     "execution_count": 7,
     "metadata": {},
     "output_type": "execute_result"
    }
   ],
   "source": [
    "from_ids = rides2016['From station id'].drop_duplicates()\n",
    "to_ids = rides2016['To station id'].drop_duplicates()\n",
    "\n",
    "station_ids = pd.concat([from_ids, to_ids]).drop_duplicates()\n",
    "len(station_ids)"
   ]
  },
  {
   "cell_type": "markdown",
   "metadata": {},
   "source": [
    "What is station 1060???"
   ]
  },
  {
   "cell_type": "code",
   "execution_count": 8,
   "metadata": {},
   "outputs": [
    {
     "data": {
      "text/plain": [
       "[1060]"
      ]
     },
     "execution_count": 8,
     "metadata": {},
     "output_type": "execute_result"
    }
   ],
   "source": [
    "missing_stations = station_ids[~station_ids.isin(stations.index)].tolist()\n",
    "missing_stations"
   ]
  },
  {
   "cell_type": "markdown",
   "metadata": {},
   "source": [
    "Let's go get its name."
   ]
  },
  {
   "cell_type": "code",
   "execution_count": 9,
   "metadata": {
    "scrolled": true
   },
   "outputs": [
    {
     "data": {
      "text/plain": [
       "46569    Open Streets West End\n",
       "Name: From station name, dtype: object"
      ]
     },
     "execution_count": 9,
     "metadata": {},
     "output_type": "execute_result"
    }
   ],
   "source": [
    "missing_names = rides2016.loc[rides2016['From station id'].isin(missing_stations), 'From station name'].drop_duplicates()\n",
    "missing_names"
   ]
  },
  {
   "cell_type": "markdown",
   "metadata": {},
   "source": [
    "### Geocoding "
   ]
  },
  {
   "cell_type": "markdown",
   "metadata": {},
   "source": [
    "<img src='img/gmaps.png'>\n",
    "\n",
    "\n",
    "Open Streets West End looks like a [temporary station](http://openstreetspgh.org/schedule-july-2016/#WABASH).\n",
    "\n",
    "*Let's got find it!*\n",
    "\n",
    "[GoogleMaps](https://github.com/googlemaps/google-maps-services-python) makes interacting with the API easy once you have a key.\n",
    "\n",
    "**Note**: you will not be able to install `my_secrets`. These are my private API keys."
   ]
  },
  {
   "cell_type": "code",
   "execution_count": 10,
   "metadata": {},
   "outputs": [],
   "source": [
    "import googlemaps\n",
    "from my_secrets.keys import google_gmap\n",
    "\n",
    "c_map = googlemaps.Client(key=google_gmap)\n",
    "wabash_and_main = c_map.geocode('Wabash and Main St. West End Pittsburgh, PA')[0]['geometry']['location']"
   ]
  },
  {
   "cell_type": "code",
   "execution_count": 11,
   "metadata": {},
   "outputs": [],
   "source": [
    "import numpy as np\n",
    "\n",
    "new_station = {\n",
    "    'Station Name':'Open Streets West End',\n",
    "    '# of Racks':np.nan,\n",
    "    'Latitude':wabash_and_main['lat'],\n",
    "    'Longitude':wabash_and_main['lng']\n",
    "}\n",
    "\n",
    "stations.loc[1060] = new_station"
   ]
  },
  {
   "cell_type": "code",
   "execution_count": 12,
   "metadata": {},
   "outputs": [
    {
     "data": {
      "text/html": [
       "<div>\n",
       "<style scoped>\n",
       "    .dataframe tbody tr th:only-of-type {\n",
       "        vertical-align: middle;\n",
       "    }\n",
       "\n",
       "    .dataframe tbody tr th {\n",
       "        vertical-align: top;\n",
       "    }\n",
       "\n",
       "    .dataframe thead th {\n",
       "        text-align: right;\n",
       "    }\n",
       "</style>\n",
       "<table border=\"1\" class=\"dataframe\">\n",
       "  <thead>\n",
       "    <tr style=\"text-align: right;\">\n",
       "      <th></th>\n",
       "      <th>Station Name</th>\n",
       "      <th># of Racks</th>\n",
       "      <th>Latitude</th>\n",
       "      <th>Longitude</th>\n",
       "    </tr>\n",
       "    <tr>\n",
       "      <th>Station #</th>\n",
       "      <th></th>\n",
       "      <th></th>\n",
       "      <th></th>\n",
       "      <th></th>\n",
       "    </tr>\n",
       "  </thead>\n",
       "  <tbody>\n",
       "    <tr>\n",
       "      <th>1000</th>\n",
       "      <td>Liberty Ave &amp; Stanwix St</td>\n",
       "      <td>16.0</td>\n",
       "      <td>40.441326</td>\n",
       "      <td>-80.004679</td>\n",
       "    </tr>\n",
       "    <tr>\n",
       "      <th>1001</th>\n",
       "      <td>Forbes Ave &amp; Market Square</td>\n",
       "      <td>19.0</td>\n",
       "      <td>40.440877</td>\n",
       "      <td>-80.003080</td>\n",
       "    </tr>\n",
       "    <tr>\n",
       "      <th>1002</th>\n",
       "      <td>Third Ave &amp; Wood St</td>\n",
       "      <td>15.0</td>\n",
       "      <td>40.439030</td>\n",
       "      <td>-80.001860</td>\n",
       "    </tr>\n",
       "    <tr>\n",
       "      <th>1003</th>\n",
       "      <td>First Ave &amp; Smithfield St (Art Institute)</td>\n",
       "      <td>15.0</td>\n",
       "      <td>40.437200</td>\n",
       "      <td>-80.000375</td>\n",
       "    </tr>\n",
       "    <tr>\n",
       "      <th>...</th>\n",
       "      <td>...</td>\n",
       "      <td>...</td>\n",
       "      <td>...</td>\n",
       "      <td>...</td>\n",
       "    </tr>\n",
       "    <tr>\n",
       "      <th>1049</th>\n",
       "      <td>S 12th St &amp; E Carson St</td>\n",
       "      <td>19.0</td>\n",
       "      <td>40.428661</td>\n",
       "      <td>-79.986358</td>\n",
       "    </tr>\n",
       "    <tr>\n",
       "      <th>1050</th>\n",
       "      <td>Healthy Ride Hub</td>\n",
       "      <td>2.0</td>\n",
       "      <td>40.461817</td>\n",
       "      <td>-79.968002</td>\n",
       "    </tr>\n",
       "    <tr>\n",
       "      <th>1061</th>\n",
       "      <td>33rd St and Penn Ave</td>\n",
       "      <td>2.0</td>\n",
       "      <td>40.462026</td>\n",
       "      <td>-79.968114</td>\n",
       "    </tr>\n",
       "    <tr>\n",
       "      <th>1060</th>\n",
       "      <td>Open Streets West End</td>\n",
       "      <td>NaN</td>\n",
       "      <td>40.440910</td>\n",
       "      <td>-80.034810</td>\n",
       "    </tr>\n",
       "  </tbody>\n",
       "</table>\n",
       "<p>53 rows × 4 columns</p>\n",
       "</div>"
      ],
      "text/plain": [
       "                                        Station Name  # of Racks   Latitude  \\\n",
       "Station #                                                                     \n",
       "1000                        Liberty Ave & Stanwix St        16.0  40.441326   \n",
       "1001                      Forbes Ave & Market Square        19.0  40.440877   \n",
       "1002                             Third Ave & Wood St        15.0  40.439030   \n",
       "1003       First Ave & Smithfield St (Art Institute)        15.0  40.437200   \n",
       "...                                              ...         ...        ...   \n",
       "1049                         S 12th St & E Carson St        19.0  40.428661   \n",
       "1050                                Healthy Ride Hub         2.0  40.461817   \n",
       "1061                            33rd St and Penn Ave         2.0  40.462026   \n",
       "1060                           Open Streets West End         NaN  40.440910   \n",
       "\n",
       "           Longitude  \n",
       "Station #             \n",
       "1000      -80.004679  \n",
       "1001      -80.003080  \n",
       "1002      -80.001860  \n",
       "1003      -80.000375  \n",
       "...              ...  \n",
       "1049      -79.986358  \n",
       "1050      -79.968002  \n",
       "1061      -79.968114  \n",
       "1060      -80.034810  \n",
       "\n",
       "[53 rows x 4 columns]"
      ]
     },
     "execution_count": 12,
     "metadata": {},
     "output_type": "execute_result"
    }
   ],
   "source": [
    "stations"
   ]
  },
  {
   "cell_type": "markdown",
   "metadata": {},
   "source": [
    "## Again for 2017"
   ]
  },
  {
   "cell_type": "code",
   "execution_count": 13,
   "metadata": {},
   "outputs": [],
   "source": [
    "files = glob('./data/2017-Q*/Healthy Ride Rentals 2017-Q*.csv')\n",
    "rides2017 = pd.concat([pd.read_csv(f, encoding='iso-8859-1') for f in files], ignore_index=True)\n",
    "\n",
    "\n",
    "for c in 'Starttime','Stoptime':\n",
    "    rides2017[c] = pd.to_datetime(rides2017[c], format='%m/%d/%Y %H:%M')\n",
    "\n",
    "from_ids = rides2017['From station id'].drop_duplicates()\n",
    "to_ids = rides2017['To station id'].drop_duplicates()\n",
    "\n",
    "station_ids2017 = pd.concat([from_ids, to_ids]).drop_duplicates()"
   ]
  },
  {
   "cell_type": "markdown",
   "metadata": {},
   "source": [
    "<big><big><big><i>Whoa!!!</i></big></big></big>\n",
    "\n",
    "There are 32 missing stations."
   ]
  },
  {
   "cell_type": "code",
   "execution_count": 14,
   "metadata": {},
   "outputs": [
    {
     "data": {
      "text/plain": [
       "32"
      ]
     },
     "execution_count": 14,
     "metadata": {},
     "output_type": "execute_result"
    }
   ],
   "source": [
    "missing_stations = station_ids2017[~station_ids2017.isin(stations.index)]\n",
    "len(missing_stations)"
   ]
  },
  {
   "cell_type": "markdown",
   "metadata": {},
   "source": [
    "Some of these don't look like Pittsburgh stations.\n",
    "\n",
    "Let's just ignore 2017 data for now. There are other data issues as well."
   ]
  },
  {
   "cell_type": "code",
   "execution_count": 15,
   "metadata": {},
   "outputs": [
    {
     "data": {
      "text/plain": [
       "['Transit',\n",
       " 'Missing',\n",
       " 'Willmar-Schwabe-Str. / Jahnallee (LVB Mobilitätsstation 9) ',\n",
       " 'Hauptbahnhof / Westhalle',\n",
       " 'Straßenbhf. Angerbrücke (LVB Mobilitätsstation 14) ',\n",
       " 'Jahnallee / Thomasiusstr. / Denkmal',\n",
       " 'Am Hallischen Tor / Brühl',\n",
       " 'Schillerstr. / Universitätsstr. / Mensa',\n",
       " 'Scheffelstr. / Karl-Liebknecht-Str. (LVB Mobilitätsstation 16) ',\n",
       " 'nextbike IT Peter Touch',\n",
       " 'S-Bhf. Gohlis (LVB Mobilitätsstation 13) ',\n",
       " 'Hauptbahnhof / Westseite (LVB Mobilitätsstation 4)',\n",
       " 'Nordplatz (LVB Mobilitätsstation 8)',\n",
       " 'Industriestr. / Karlbrücke',\n",
       " 'Lene-Voigt-Park / Albert-Schweitzer-Str.',\n",
       " 'Forbes and Gist (Open Streets May 2017)',\n",
       " 'Westplatz ',\n",
       " 'Leipzig International School (Könneritzstr. / Alfred-Frank-Str.)',\n",
       " 'Markgrafenstr. / LVB Servicecenter (LVB Mobilitätsstation 1) ',\n",
       " 'nextbike IT Daniel Desk',\n",
       " 'Healthy Hauler',\n",
       " 'ASCEND Pittsburgh',\n",
       " 'nextbike IT Elsterstr.',\n",
       " 'Western Ave & Bidwell Street',\n",
       " 'S Main St & Alexander St',\n",
       " 'Highmark Stadium']"
      ]
     },
     "execution_count": 15,
     "metadata": {},
     "output_type": "execute_result"
    }
   ],
   "source": [
    "rides2017.loc[rides2017['From station id'].isin(missing_stations), 'From station name'].drop_duplicates().tolist()"
   ]
  },
  {
   "cell_type": "markdown",
   "metadata": {},
   "source": [
    "## Popular Stations"
   ]
  },
  {
   "cell_type": "markdown",
   "metadata": {},
   "source": [
    "We'll define popularity as average daily turnover.\n",
    "\n",
    "Turnover is the daily number of leaving bikes subtracted from the daily number of arriving bikes."
   ]
  },
  {
   "cell_type": "markdown",
   "metadata": {},
   "source": [
    "### Cleaning"
   ]
  },
  {
   "cell_type": "markdown",
   "metadata": {},
   "source": [
    "A 5-minute round trip seems a little suspicious to me."
   ]
  },
  {
   "cell_type": "code",
   "execution_count": 16,
   "metadata": {},
   "outputs": [
    {
     "data": {
      "text/plain": [
       "1985"
      ]
     },
     "execution_count": 16,
     "metadata": {},
     "output_type": "execute_result"
    }
   ],
   "source": [
    "one_way = rides2016['From station id'] == rides2016['To station id']\n",
    "five_minute = rides2016['Tripduration'] < 300\n",
    "\n",
    "failed = one_way & five_minute\n",
    "failed.sum()"
   ]
  },
  {
   "cell_type": "code",
   "execution_count": 17,
   "metadata": {},
   "outputs": [],
   "source": [
    "rides2016 = rides2016.loc[~failed]"
   ]
  },
  {
   "cell_type": "code",
   "execution_count": 18,
   "metadata": {},
   "outputs": [
    {
     "data": {
      "text/plain": [
       "station\n",
       "1000    1.680782\n",
       "1001    2.519355\n",
       "1002   -0.248000\n",
       "1003    0.068259\n",
       "1004   -0.278169\n",
       "Name: turnover, dtype: float64"
      ]
     },
     "execution_count": 18,
     "metadata": {},
     "output_type": "execute_result"
    }
   ],
   "source": [
    "leaving  = rides2016.groupby(['From station id', pd.Grouper(key='Starttime', freq='D')])['Trip id'].count()\n",
    "arriving = rides2016.groupby(['To station id',   pd.Grouper(key='Stoptime' , freq='D')])['Trip id'].count()\n",
    "\n",
    "leaving.index.names = arriving.index.names = ['station', 'date']\n",
    "\n",
    "turnover = (arriving - leaving).mean(level='station')\n",
    "turnover.name = 'turnover'\n",
    "turnover.head()"
   ]
  },
  {
   "cell_type": "code",
   "execution_count": 19,
   "metadata": {},
   "outputs": [
    {
     "data": {
      "text/html": [
       "<div>\n",
       "<style scoped>\n",
       "    .dataframe tbody tr th:only-of-type {\n",
       "        vertical-align: middle;\n",
       "    }\n",
       "\n",
       "    .dataframe tbody tr th {\n",
       "        vertical-align: top;\n",
       "    }\n",
       "\n",
       "    .dataframe thead th {\n",
       "        text-align: right;\n",
       "    }\n",
       "</style>\n",
       "<table border=\"1\" class=\"dataframe\">\n",
       "  <thead>\n",
       "    <tr style=\"text-align: right;\">\n",
       "      <th></th>\n",
       "      <th>Station Name</th>\n",
       "      <th># of Racks</th>\n",
       "      <th>Latitude</th>\n",
       "      <th>Longitude</th>\n",
       "      <th>turnover</th>\n",
       "    </tr>\n",
       "    <tr>\n",
       "      <th>Station #</th>\n",
       "      <th></th>\n",
       "      <th></th>\n",
       "      <th></th>\n",
       "      <th></th>\n",
       "      <th></th>\n",
       "    </tr>\n",
       "  </thead>\n",
       "  <tbody>\n",
       "    <tr>\n",
       "      <th>1000</th>\n",
       "      <td>Liberty Ave &amp; Stanwix St</td>\n",
       "      <td>16.0</td>\n",
       "      <td>40.441326</td>\n",
       "      <td>-80.004679</td>\n",
       "      <td>1.680782</td>\n",
       "    </tr>\n",
       "    <tr>\n",
       "      <th>1001</th>\n",
       "      <td>Forbes Ave &amp; Market Square</td>\n",
       "      <td>19.0</td>\n",
       "      <td>40.440877</td>\n",
       "      <td>-80.003080</td>\n",
       "      <td>2.519355</td>\n",
       "    </tr>\n",
       "    <tr>\n",
       "      <th>1002</th>\n",
       "      <td>Third Ave &amp; Wood St</td>\n",
       "      <td>15.0</td>\n",
       "      <td>40.439030</td>\n",
       "      <td>-80.001860</td>\n",
       "      <td>-0.248000</td>\n",
       "    </tr>\n",
       "    <tr>\n",
       "      <th>1003</th>\n",
       "      <td>First Ave &amp; Smithfield St (Art Institute)</td>\n",
       "      <td>15.0</td>\n",
       "      <td>40.437200</td>\n",
       "      <td>-80.000375</td>\n",
       "      <td>0.068259</td>\n",
       "    </tr>\n",
       "    <tr>\n",
       "      <th>...</th>\n",
       "      <td>...</td>\n",
       "      <td>...</td>\n",
       "      <td>...</td>\n",
       "      <td>...</td>\n",
       "      <td>...</td>\n",
       "    </tr>\n",
       "    <tr>\n",
       "      <th>1049</th>\n",
       "      <td>S 12th St &amp; E Carson St</td>\n",
       "      <td>19.0</td>\n",
       "      <td>40.428661</td>\n",
       "      <td>-79.986358</td>\n",
       "      <td>0.208075</td>\n",
       "    </tr>\n",
       "    <tr>\n",
       "      <th>1050</th>\n",
       "      <td>Healthy Ride Hub</td>\n",
       "      <td>2.0</td>\n",
       "      <td>40.461817</td>\n",
       "      <td>-79.968002</td>\n",
       "      <td>-0.025641</td>\n",
       "    </tr>\n",
       "    <tr>\n",
       "      <th>1061</th>\n",
       "      <td>33rd St and Penn Ave</td>\n",
       "      <td>2.0</td>\n",
       "      <td>40.462026</td>\n",
       "      <td>-79.968114</td>\n",
       "      <td>-0.500000</td>\n",
       "    </tr>\n",
       "    <tr>\n",
       "      <th>1060</th>\n",
       "      <td>Open Streets West End</td>\n",
       "      <td>NaN</td>\n",
       "      <td>40.440910</td>\n",
       "      <td>-80.034810</td>\n",
       "      <td>-9.000000</td>\n",
       "    </tr>\n",
       "  </tbody>\n",
       "</table>\n",
       "<p>53 rows × 5 columns</p>\n",
       "</div>"
      ],
      "text/plain": [
       "                                        Station Name  # of Racks   Latitude  \\\n",
       "Station #                                                                     \n",
       "1000                        Liberty Ave & Stanwix St        16.0  40.441326   \n",
       "1001                      Forbes Ave & Market Square        19.0  40.440877   \n",
       "1002                             Third Ave & Wood St        15.0  40.439030   \n",
       "1003       First Ave & Smithfield St (Art Institute)        15.0  40.437200   \n",
       "...                                              ...         ...        ...   \n",
       "1049                         S 12th St & E Carson St        19.0  40.428661   \n",
       "1050                                Healthy Ride Hub         2.0  40.461817   \n",
       "1061                            33rd St and Penn Ave         2.0  40.462026   \n",
       "1060                           Open Streets West End         NaN  40.440910   \n",
       "\n",
       "           Longitude  turnover  \n",
       "Station #                       \n",
       "1000      -80.004679  1.680782  \n",
       "1001      -80.003080  2.519355  \n",
       "1002      -80.001860 -0.248000  \n",
       "1003      -80.000375  0.068259  \n",
       "...              ...       ...  \n",
       "1049      -79.986358  0.208075  \n",
       "1050      -79.968002 -0.025641  \n",
       "1061      -79.968114 -0.500000  \n",
       "1060      -80.034810 -9.000000  \n",
       "\n",
       "[53 rows x 5 columns]"
      ]
     },
     "execution_count": 19,
     "metadata": {},
     "output_type": "execute_result"
    }
   ],
   "source": [
    "stations2016 = stations.join(turnover)\n",
    "stations2016"
   ]
  },
  {
   "cell_type": "markdown",
   "metadata": {},
   "source": [
    "## Mapping"
   ]
  },
  {
   "cell_type": "markdown",
   "metadata": {},
   "source": [
    "<img src='https://www.fullstackpython.com/img/logos/bokeh.jpg' width='60%'>\n",
    "\n",
    "*[Bokeh](https://bokeh.pydata.org/en/latest/) is a Python interactive visualization library that targets modern web browsers for presentation.*"
   ]
  },
  {
   "cell_type": "markdown",
   "metadata": {},
   "source": [
    "First a little transformation I want to plot\n",
    "* Every bike station\n",
    "* The radius of each glyph is the absolute value of `'turnover'`\n",
    "* The color indicates positive and negative"
   ]
  },
  {
   "cell_type": "code",
   "execution_count": 20,
   "metadata": {},
   "outputs": [],
   "source": [
    "def scale(series):\n",
    "    a = series.abs()\n",
    "    return a / a.max() * 100\n",
    "\n",
    "stations2016['size'] = scale(stations2016['turnover'])\n",
    "stations2016['color'] = np.sign(stations2016['turnover']).map({-1:'red', 1:'green'})"
   ]
  },
  {
   "cell_type": "code",
   "execution_count": 21,
   "metadata": {},
   "outputs": [
    {
     "data": {
      "text/html": [
       "\n",
       "    <div class=\"bk-root\">\n",
       "        <a href=\"https://bokeh.pydata.org\" target=\"_blank\" class=\"bk-logo bk-logo-small bk-logo-notebook\"></a>\n",
       "        <span id=\"82b1146a-dbf4-47b7-9a49-36458faada6d\">Loading BokehJS ...</span>\n",
       "    </div>"
      ]
     },
     "metadata": {},
     "output_type": "display_data"
    },
    {
     "data": {
      "application/javascript": [
       "\n",
       "(function(root) {\n",
       "  function now() {\n",
       "    return new Date();\n",
       "  }\n",
       "\n",
       "  var force = true;\n",
       "\n",
       "  if (typeof (root._bokeh_onload_callbacks) === \"undefined\" || force === true) {\n",
       "    root._bokeh_onload_callbacks = [];\n",
       "    root._bokeh_is_loading = undefined;\n",
       "  }\n",
       "\n",
       "  var JS_MIME_TYPE = 'application/javascript';\n",
       "  var HTML_MIME_TYPE = 'text/html';\n",
       "  var EXEC_MIME_TYPE = 'application/vnd.bokehjs_exec.v0+json';\n",
       "  var CLASS_NAME = 'output_bokeh rendered_html';\n",
       "\n",
       "  /**\n",
       "   * Render data to the DOM node\n",
       "   */\n",
       "  function render(props, node) {\n",
       "    var script = document.createElement(\"script\");\n",
       "    node.appendChild(script);\n",
       "  }\n",
       "\n",
       "  /**\n",
       "   * Handle when an output is cleared or removed\n",
       "   */\n",
       "  function handleClearOutput(event, handle) {\n",
       "    var cell = handle.cell;\n",
       "\n",
       "    var id = cell.output_area._bokeh_element_id;\n",
       "    var server_id = cell.output_area._bokeh_server_id;\n",
       "    // Clean up Bokeh references\n",
       "    if (id !== undefined) {\n",
       "      Bokeh.index[id].model.document.clear();\n",
       "      delete Bokeh.index[id];\n",
       "    }\n",
       "\n",
       "    if (server_id !== undefined) {\n",
       "      // Clean up Bokeh references\n",
       "      var cmd = \"from bokeh.io.state import curstate; print(curstate().uuid_to_server['\" + server_id + \"'].get_sessions()[0].document.roots[0]._id)\";\n",
       "      cell.notebook.kernel.execute(cmd, {\n",
       "        iopub: {\n",
       "          output: function(msg) {\n",
       "            var element_id = msg.content.text.trim();\n",
       "            Bokeh.index[element_id].model.document.clear();\n",
       "            delete Bokeh.index[element_id];\n",
       "          }\n",
       "        }\n",
       "      });\n",
       "      // Destroy server and session\n",
       "      var cmd = \"import bokeh.io.notebook as ion; ion.destroy_server('\" + server_id + \"')\";\n",
       "      cell.notebook.kernel.execute(cmd);\n",
       "    }\n",
       "  }\n",
       "\n",
       "  /**\n",
       "   * Handle when a new output is added\n",
       "   */\n",
       "  function handleAddOutput(event, handle) {\n",
       "    var output_area = handle.output_area;\n",
       "    var output = handle.output;\n",
       "\n",
       "    // limit handleAddOutput to display_data with EXEC_MIME_TYPE content only\n",
       "    if ((output.output_type != \"display_data\") || (!output.data.hasOwnProperty(EXEC_MIME_TYPE))) {\n",
       "      return\n",
       "    }\n",
       "\n",
       "    var toinsert = output_area.element.find(\".\" + CLASS_NAME.split(' ')[0]);\n",
       "\n",
       "    if (output.metadata[EXEC_MIME_TYPE][\"id\"] !== undefined) {\n",
       "      toinsert[0].firstChild.textContent = output.data[JS_MIME_TYPE];\n",
       "      // store reference to embed id on output_area\n",
       "      output_area._bokeh_element_id = output.metadata[EXEC_MIME_TYPE][\"id\"];\n",
       "    }\n",
       "    if (output.metadata[EXEC_MIME_TYPE][\"server_id\"] !== undefined) {\n",
       "      var bk_div = document.createElement(\"div\");\n",
       "      bk_div.innerHTML = output.data[HTML_MIME_TYPE];\n",
       "      var script_attrs = bk_div.children[0].attributes;\n",
       "      for (var i = 0; i < script_attrs.length; i++) {\n",
       "        toinsert[0].firstChild.setAttribute(script_attrs[i].name, script_attrs[i].value);\n",
       "      }\n",
       "      // store reference to server id on output_area\n",
       "      output_area._bokeh_server_id = output.metadata[EXEC_MIME_TYPE][\"server_id\"];\n",
       "    }\n",
       "  }\n",
       "\n",
       "  function register_renderer(events, OutputArea) {\n",
       "\n",
       "    function append_mime(data, metadata, element) {\n",
       "      // create a DOM node to render to\n",
       "      var toinsert = this.create_output_subarea(\n",
       "        metadata,\n",
       "        CLASS_NAME,\n",
       "        EXEC_MIME_TYPE\n",
       "      );\n",
       "      this.keyboard_manager.register_events(toinsert);\n",
       "      // Render to node\n",
       "      var props = {data: data, metadata: metadata[EXEC_MIME_TYPE]};\n",
       "      render(props, toinsert[0]);\n",
       "      element.append(toinsert);\n",
       "      return toinsert\n",
       "    }\n",
       "\n",
       "    /* Handle when an output is cleared or removed */\n",
       "    events.on('clear_output.CodeCell', handleClearOutput);\n",
       "    events.on('delete.Cell', handleClearOutput);\n",
       "\n",
       "    /* Handle when a new output is added */\n",
       "    events.on('output_added.OutputArea', handleAddOutput);\n",
       "\n",
       "    /**\n",
       "     * Register the mime type and append_mime function with output_area\n",
       "     */\n",
       "    OutputArea.prototype.register_mime_type(EXEC_MIME_TYPE, append_mime, {\n",
       "      /* Is output safe? */\n",
       "      safe: true,\n",
       "      /* Index of renderer in `output_area.display_order` */\n",
       "      index: 0\n",
       "    });\n",
       "  }\n",
       "\n",
       "  // register the mime type if in Jupyter Notebook environment and previously unregistered\n",
       "  if (root.Jupyter !== undefined) {\n",
       "    var events = require('base/js/events');\n",
       "    var OutputArea = require('notebook/js/outputarea').OutputArea;\n",
       "\n",
       "    if (OutputArea.prototype.mime_types().indexOf(EXEC_MIME_TYPE) == -1) {\n",
       "      register_renderer(events, OutputArea);\n",
       "    }\n",
       "  }\n",
       "\n",
       "  \n",
       "  if (typeof (root._bokeh_timeout) === \"undefined\" || force === true) {\n",
       "    root._bokeh_timeout = Date.now() + 5000;\n",
       "    root._bokeh_failed_load = false;\n",
       "  }\n",
       "\n",
       "  var NB_LOAD_WARNING = {'data': {'text/html':\n",
       "     \"<div style='background-color: #fdd'>\\n\"+\n",
       "     \"<p>\\n\"+\n",
       "     \"BokehJS does not appear to have successfully loaded. If loading BokehJS from CDN, this \\n\"+\n",
       "     \"may be due to a slow or bad network connection. Possible fixes:\\n\"+\n",
       "     \"</p>\\n\"+\n",
       "     \"<ul>\\n\"+\n",
       "     \"<li>re-rerun `output_notebook()` to attempt to load from CDN again, or</li>\\n\"+\n",
       "     \"<li>use INLINE resources instead, as so:</li>\\n\"+\n",
       "     \"</ul>\\n\"+\n",
       "     \"<code>\\n\"+\n",
       "     \"from bokeh.resources import INLINE\\n\"+\n",
       "     \"output_notebook(resources=INLINE)\\n\"+\n",
       "     \"</code>\\n\"+\n",
       "     \"</div>\"}};\n",
       "\n",
       "  function display_loaded() {\n",
       "    var el = document.getElementById(\"82b1146a-dbf4-47b7-9a49-36458faada6d\");\n",
       "    if (el != null) {\n",
       "      el.textContent = \"BokehJS is loading...\";\n",
       "    }\n",
       "    if (root.Bokeh !== undefined) {\n",
       "      if (el != null) {\n",
       "        el.textContent = \"BokehJS \" + root.Bokeh.version + \" successfully loaded.\";\n",
       "      }\n",
       "    } else if (Date.now() < root._bokeh_timeout) {\n",
       "      setTimeout(display_loaded, 100)\n",
       "    }\n",
       "  }\n",
       "\n",
       "\n",
       "  function run_callbacks() {\n",
       "    try {\n",
       "      root._bokeh_onload_callbacks.forEach(function(callback) { callback() });\n",
       "    }\n",
       "    finally {\n",
       "      delete root._bokeh_onload_callbacks\n",
       "    }\n",
       "    console.info(\"Bokeh: all callbacks have finished\");\n",
       "  }\n",
       "\n",
       "  function load_libs(js_urls, callback) {\n",
       "    root._bokeh_onload_callbacks.push(callback);\n",
       "    if (root._bokeh_is_loading > 0) {\n",
       "      console.log(\"Bokeh: BokehJS is being loaded, scheduling callback at\", now());\n",
       "      return null;\n",
       "    }\n",
       "    if (js_urls == null || js_urls.length === 0) {\n",
       "      run_callbacks();\n",
       "      return null;\n",
       "    }\n",
       "    console.log(\"Bokeh: BokehJS not loaded, scheduling load and callback at\", now());\n",
       "    root._bokeh_is_loading = js_urls.length;\n",
       "    for (var i = 0; i < js_urls.length; i++) {\n",
       "      var url = js_urls[i];\n",
       "      var s = document.createElement('script');\n",
       "      s.src = url;\n",
       "      s.async = false;\n",
       "      s.onreadystatechange = s.onload = function() {\n",
       "        root._bokeh_is_loading--;\n",
       "        if (root._bokeh_is_loading === 0) {\n",
       "          console.log(\"Bokeh: all BokehJS libraries loaded\");\n",
       "          run_callbacks()\n",
       "        }\n",
       "      };\n",
       "      s.onerror = function() {\n",
       "        console.warn(\"failed to load library \" + url);\n",
       "      };\n",
       "      console.log(\"Bokeh: injecting script tag for BokehJS library: \", url);\n",
       "      document.getElementsByTagName(\"head\")[0].appendChild(s);\n",
       "    }\n",
       "  };var element = document.getElementById(\"82b1146a-dbf4-47b7-9a49-36458faada6d\");\n",
       "  if (element == null) {\n",
       "    console.log(\"Bokeh: ERROR: autoload.js configured with elementid '82b1146a-dbf4-47b7-9a49-36458faada6d' but no matching script tag was found. \")\n",
       "    return false;\n",
       "  }\n",
       "\n",
       "  var js_urls = [\"https://cdn.pydata.org/bokeh/release/bokeh-0.12.11.min.js\", \"https://cdn.pydata.org/bokeh/release/bokeh-widgets-0.12.11.min.js\", \"https://cdn.pydata.org/bokeh/release/bokeh-tables-0.12.11.min.js\", \"https://cdn.pydata.org/bokeh/release/bokeh-gl-0.12.11.min.js\"];\n",
       "\n",
       "  var inline_js = [\n",
       "    function(Bokeh) {\n",
       "      Bokeh.set_log_level(\"info\");\n",
       "    },\n",
       "    \n",
       "    function(Bokeh) {\n",
       "      \n",
       "    },\n",
       "    function(Bokeh) {\n",
       "      console.log(\"Bokeh: injecting CSS: https://cdn.pydata.org/bokeh/release/bokeh-0.12.11.min.css\");\n",
       "      Bokeh.embed.inject_css(\"https://cdn.pydata.org/bokeh/release/bokeh-0.12.11.min.css\");\n",
       "      console.log(\"Bokeh: injecting CSS: https://cdn.pydata.org/bokeh/release/bokeh-widgets-0.12.11.min.css\");\n",
       "      Bokeh.embed.inject_css(\"https://cdn.pydata.org/bokeh/release/bokeh-widgets-0.12.11.min.css\");\n",
       "      console.log(\"Bokeh: injecting CSS: https://cdn.pydata.org/bokeh/release/bokeh-tables-0.12.11.min.css\");\n",
       "      Bokeh.embed.inject_css(\"https://cdn.pydata.org/bokeh/release/bokeh-tables-0.12.11.min.css\");\n",
       "    }\n",
       "  ];\n",
       "\n",
       "  function run_inline_js() {\n",
       "    \n",
       "    if ((root.Bokeh !== undefined) || (force === true)) {\n",
       "      for (var i = 0; i < inline_js.length; i++) {\n",
       "        inline_js[i].call(root, root.Bokeh);\n",
       "      }if (force === true) {\n",
       "        display_loaded();\n",
       "      }} else if (Date.now() < root._bokeh_timeout) {\n",
       "      setTimeout(run_inline_js, 100);\n",
       "    } else if (!root._bokeh_failed_load) {\n",
       "      console.log(\"Bokeh: BokehJS failed to load within specified timeout.\");\n",
       "      root._bokeh_failed_load = true;\n",
       "    } else if (force !== true) {\n",
       "      var cell = $(document.getElementById(\"82b1146a-dbf4-47b7-9a49-36458faada6d\")).parents('.cell').data().cell;\n",
       "      cell.output_area.append_execute_result(NB_LOAD_WARNING)\n",
       "    }\n",
       "\n",
       "  }\n",
       "\n",
       "  if (root._bokeh_is_loading === 0) {\n",
       "    console.log(\"Bokeh: BokehJS loaded, going straight to plotting\");\n",
       "    run_inline_js();\n",
       "  } else {\n",
       "    load_libs(js_urls, function() {\n",
       "      console.log(\"Bokeh: BokehJS plotting callback run at\", now());\n",
       "      run_inline_js();\n",
       "    });\n",
       "  }\n",
       "}(window));"
      ],
      "application/vnd.bokehjs_load.v0+json": "\n(function(root) {\n  function now() {\n    return new Date();\n  }\n\n  var force = true;\n\n  if (typeof (root._bokeh_onload_callbacks) === \"undefined\" || force === true) {\n    root._bokeh_onload_callbacks = [];\n    root._bokeh_is_loading = undefined;\n  }\n\n  \n\n  \n  if (typeof (root._bokeh_timeout) === \"undefined\" || force === true) {\n    root._bokeh_timeout = Date.now() + 5000;\n    root._bokeh_failed_load = false;\n  }\n\n  var NB_LOAD_WARNING = {'data': {'text/html':\n     \"<div style='background-color: #fdd'>\\n\"+\n     \"<p>\\n\"+\n     \"BokehJS does not appear to have successfully loaded. If loading BokehJS from CDN, this \\n\"+\n     \"may be due to a slow or bad network connection. Possible fixes:\\n\"+\n     \"</p>\\n\"+\n     \"<ul>\\n\"+\n     \"<li>re-rerun `output_notebook()` to attempt to load from CDN again, or</li>\\n\"+\n     \"<li>use INLINE resources instead, as so:</li>\\n\"+\n     \"</ul>\\n\"+\n     \"<code>\\n\"+\n     \"from bokeh.resources import INLINE\\n\"+\n     \"output_notebook(resources=INLINE)\\n\"+\n     \"</code>\\n\"+\n     \"</div>\"}};\n\n  function display_loaded() {\n    var el = document.getElementById(\"82b1146a-dbf4-47b7-9a49-36458faada6d\");\n    if (el != null) {\n      el.textContent = \"BokehJS is loading...\";\n    }\n    if (root.Bokeh !== undefined) {\n      if (el != null) {\n        el.textContent = \"BokehJS \" + root.Bokeh.version + \" successfully loaded.\";\n      }\n    } else if (Date.now() < root._bokeh_timeout) {\n      setTimeout(display_loaded, 100)\n    }\n  }\n\n\n  function run_callbacks() {\n    try {\n      root._bokeh_onload_callbacks.forEach(function(callback) { callback() });\n    }\n    finally {\n      delete root._bokeh_onload_callbacks\n    }\n    console.info(\"Bokeh: all callbacks have finished\");\n  }\n\n  function load_libs(js_urls, callback) {\n    root._bokeh_onload_callbacks.push(callback);\n    if (root._bokeh_is_loading > 0) {\n      console.log(\"Bokeh: BokehJS is being loaded, scheduling callback at\", now());\n      return null;\n    }\n    if (js_urls == null || js_urls.length === 0) {\n      run_callbacks();\n      return null;\n    }\n    console.log(\"Bokeh: BokehJS not loaded, scheduling load and callback at\", now());\n    root._bokeh_is_loading = js_urls.length;\n    for (var i = 0; i < js_urls.length; i++) {\n      var url = js_urls[i];\n      var s = document.createElement('script');\n      s.src = url;\n      s.async = false;\n      s.onreadystatechange = s.onload = function() {\n        root._bokeh_is_loading--;\n        if (root._bokeh_is_loading === 0) {\n          console.log(\"Bokeh: all BokehJS libraries loaded\");\n          run_callbacks()\n        }\n      };\n      s.onerror = function() {\n        console.warn(\"failed to load library \" + url);\n      };\n      console.log(\"Bokeh: injecting script tag for BokehJS library: \", url);\n      document.getElementsByTagName(\"head\")[0].appendChild(s);\n    }\n  };var element = document.getElementById(\"82b1146a-dbf4-47b7-9a49-36458faada6d\");\n  if (element == null) {\n    console.log(\"Bokeh: ERROR: autoload.js configured with elementid '82b1146a-dbf4-47b7-9a49-36458faada6d' but no matching script tag was found. \")\n    return false;\n  }\n\n  var js_urls = [\"https://cdn.pydata.org/bokeh/release/bokeh-0.12.11.min.js\", \"https://cdn.pydata.org/bokeh/release/bokeh-widgets-0.12.11.min.js\", \"https://cdn.pydata.org/bokeh/release/bokeh-tables-0.12.11.min.js\", \"https://cdn.pydata.org/bokeh/release/bokeh-gl-0.12.11.min.js\"];\n\n  var inline_js = [\n    function(Bokeh) {\n      Bokeh.set_log_level(\"info\");\n    },\n    \n    function(Bokeh) {\n      \n    },\n    function(Bokeh) {\n      console.log(\"Bokeh: injecting CSS: https://cdn.pydata.org/bokeh/release/bokeh-0.12.11.min.css\");\n      Bokeh.embed.inject_css(\"https://cdn.pydata.org/bokeh/release/bokeh-0.12.11.min.css\");\n      console.log(\"Bokeh: injecting CSS: https://cdn.pydata.org/bokeh/release/bokeh-widgets-0.12.11.min.css\");\n      Bokeh.embed.inject_css(\"https://cdn.pydata.org/bokeh/release/bokeh-widgets-0.12.11.min.css\");\n      console.log(\"Bokeh: injecting CSS: https://cdn.pydata.org/bokeh/release/bokeh-tables-0.12.11.min.css\");\n      Bokeh.embed.inject_css(\"https://cdn.pydata.org/bokeh/release/bokeh-tables-0.12.11.min.css\");\n    }\n  ];\n\n  function run_inline_js() {\n    \n    if ((root.Bokeh !== undefined) || (force === true)) {\n      for (var i = 0; i < inline_js.length; i++) {\n        inline_js[i].call(root, root.Bokeh);\n      }if (force === true) {\n        display_loaded();\n      }} else if (Date.now() < root._bokeh_timeout) {\n      setTimeout(run_inline_js, 100);\n    } else if (!root._bokeh_failed_load) {\n      console.log(\"Bokeh: BokehJS failed to load within specified timeout.\");\n      root._bokeh_failed_load = true;\n    } else if (force !== true) {\n      var cell = $(document.getElementById(\"82b1146a-dbf4-47b7-9a49-36458faada6d\")).parents('.cell').data().cell;\n      cell.output_area.append_execute_result(NB_LOAD_WARNING)\n    }\n\n  }\n\n  if (root._bokeh_is_loading === 0) {\n    console.log(\"Bokeh: BokehJS loaded, going straight to plotting\");\n    run_inline_js();\n  } else {\n    load_libs(js_urls, function() {\n      console.log(\"Bokeh: BokehJS plotting callback run at\", now());\n      run_inline_js();\n    });\n  }\n}(window));"
     },
     "metadata": {},
     "output_type": "display_data"
    }
   ],
   "source": [
    "from bokeh.io import output_notebook, show\n",
    "from bokeh.plotting import figure, ColumnDataSource\n",
    "from bokeh.models import HoverTool, WheelZoomTool\n",
    "from bokeh.tile_providers import STAMEN_TONER\n",
    "output_notebook()"
   ]
  },
  {
   "cell_type": "markdown",
   "metadata": {},
   "source": [
    "[Map projections are not easy](https://en.wikipedia.org/wiki/Map_projection).\n",
    "\n",
    "To plot on a map tile, we'll need to use [Web Mercator Projection](https://en.wikipedia.org/wiki/Web_Mercator)."
   ]
  },
  {
   "cell_type": "code",
   "execution_count": 22,
   "metadata": {},
   "outputs": [],
   "source": [
    "from pyproj import Proj, transform\n",
    "inProj = Proj(init='EPSG:4326')\n",
    "outProj = Proj(init='EPSG:3857')\n",
    "\n",
    "stations2016['x'], stations2016['y'] = transform(inProj, outProj,\n",
    "                                        stations2016['Longitude'].values,\n",
    "                                        stations2016['Latitude'].values)\n",
    "\n",
    "bounds = stations2016[['Longitude','Latitude']].median()\n",
    "\n",
    "x, y = transform(inProj, outProj,\n",
    "                             bounds['Longitude'],\n",
    "                             bounds['Latitude'])\n",
    "edge = 2200\n",
    "x_range = [x-edge,x+edge]\n",
    "y_range = [y-edge,y+edge]"
   ]
  },
  {
   "cell_type": "markdown",
   "metadata": {},
   "source": [
    "Use your scoll, just like Google Maps to zoom."
   ]
  },
  {
   "cell_type": "code",
   "execution_count": 23,
   "metadata": {},
   "outputs": [
    {
     "data": {
      "text/html": [
       "\n",
       "<div class=\"bk-root\">\n",
       "    <div class=\"bk-plotdiv\" id=\"e7369580-6a19-4c02-bb12-94fc3b34d528\"></div>\n",
       "</div>"
      ]
     },
     "metadata": {},
     "output_type": "display_data"
    },
    {
     "data": {
      "application/javascript": [
       "(function(root) {\n",
       "  function embed_document(root) {\n",
       "    var docs_json = {\"74f9c9cb-f6eb-480e-872d-40dfb6b4800d\":{\"roots\":{\"references\":[{\"attributes\":{},\"id\":\"e6111a34-0a2e-4081-8463-406b39dc48cb\",\"type\":\"BasicTicker\"},{\"attributes\":{\"dimension\":1,\"plot\":{\"id\":\"c8009c64-8311-4659-9a33-c4b5b6f64947\",\"subtype\":\"Figure\",\"type\":\"Plot\"},\"ticker\":{\"id\":\"e6111a34-0a2e-4081-8463-406b39dc48cb\",\"type\":\"BasicTicker\"},\"visible\":false},\"id\":\"b59b8203-9f0a-4b04-b43a-893b885cb62a\",\"type\":\"Grid\"},{\"attributes\":{\"plot\":{\"id\":\"c8009c64-8311-4659-9a33-c4b5b6f64947\",\"subtype\":\"Figure\",\"type\":\"Plot\"},\"ticker\":{\"id\":\"84c0dffb-256f-4612-86cd-2171d7a2b4c4\",\"type\":\"BasicTicker\"},\"visible\":false},\"id\":\"1ad3f291-b1b1-4fe2-bbbf-0becaa1ce06c\",\"type\":\"Grid\"},{\"attributes\":{\"plot\":null,\"text\":\"\"},\"id\":\"c3fea74e-7332-471c-9e4b-8741c442bd3d\",\"type\":\"Title\"},{\"attributes\":{\"bottom_units\":\"screen\",\"fill_alpha\":{\"value\":0.5},\"fill_color\":{\"value\":\"lightgrey\"},\"left_units\":\"screen\",\"level\":\"overlay\",\"line_alpha\":{\"value\":1.0},\"line_color\":{\"value\":\"black\"},\"line_dash\":[4,4],\"line_width\":{\"value\":2},\"plot\":null,\"render_mode\":\"css\",\"right_units\":\"screen\",\"top_units\":\"screen\"},\"id\":\"2dcf21dd-f792-4be7-9ed7-79c3f3721303\",\"type\":\"BoxAnnotation\"},{\"attributes\":{\"active_drag\":\"auto\",\"active_inspect\":\"auto\",\"active_scroll\":{\"id\":\"7fbef619-ed28-439b-b038-8f6da20977fb\",\"type\":\"WheelZoomTool\"},\"active_tap\":\"auto\",\"tools\":[{\"id\":\"71841454-e58e-4f0b-ad1b-54de0f38a214\",\"type\":\"PanTool\"},{\"id\":\"7fbef619-ed28-439b-b038-8f6da20977fb\",\"type\":\"WheelZoomTool\"},{\"id\":\"c5e078bf-ca3c-4f8a-aca2-596edc3fac10\",\"type\":\"BoxZoomTool\"},{\"id\":\"5985ef35-54c6-4861-874f-f5f40c1e5cc1\",\"type\":\"SaveTool\"},{\"id\":\"527ae193-205f-40c3-b45e-5d29eddfda9a\",\"type\":\"ResetTool\"},{\"id\":\"0bd22ab6-b42a-4edf-8327-7ce303c683da\",\"type\":\"HelpTool\"},{\"id\":\"1ea3620e-f7af-4abf-abf3-0d1fdd4b1751\",\"type\":\"HoverTool\"}]},\"id\":\"e54338a6-6b31-492c-9a0e-4b16dccf421c\",\"type\":\"Toolbar\"},{\"attributes\":{},\"id\":\"ec41ee8c-f26f-42f4-bdff-4be74580c348\",\"type\":\"BasicTickFormatter\"},{\"attributes\":{},\"id\":\"71841454-e58e-4f0b-ad1b-54de0f38a214\",\"type\":\"PanTool\"},{\"attributes\":{},\"id\":\"bf64b985-f96f-4165-b794-ec120d71df6b\",\"type\":\"LinearScale\"},{\"attributes\":{},\"id\":\"7fbef619-ed28-439b-b038-8f6da20977fb\",\"type\":\"WheelZoomTool\"},{\"attributes\":{\"below\":[{\"id\":\"0d82d354-49a8-4b53-9970-6449f97d620e\",\"type\":\"LinearAxis\"}],\"left\":[{\"id\":\"f5e6ebb5-6870-4b2f-871b-0fa214c4568c\",\"type\":\"LinearAxis\"}],\"plot_width\":700,\"renderers\":[{\"id\":\"0d82d354-49a8-4b53-9970-6449f97d620e\",\"type\":\"LinearAxis\"},{\"id\":\"1ad3f291-b1b1-4fe2-bbbf-0becaa1ce06c\",\"type\":\"Grid\"},{\"id\":\"f5e6ebb5-6870-4b2f-871b-0fa214c4568c\",\"type\":\"LinearAxis\"},{\"id\":\"b59b8203-9f0a-4b04-b43a-893b885cb62a\",\"type\":\"Grid\"},{\"id\":\"2dcf21dd-f792-4be7-9ed7-79c3f3721303\",\"type\":\"BoxAnnotation\"},{\"id\":\"a665a30e-00e9-4bfd-8b44-9b90710364bd\",\"type\":\"TileRenderer\"},{\"id\":\"5fb6c20b-0b29-495d-9bad-88fb89f46f18\",\"type\":\"GlyphRenderer\"}],\"title\":{\"id\":\"c3fea74e-7332-471c-9e4b-8741c442bd3d\",\"type\":\"Title\"},\"toolbar\":{\"id\":\"e54338a6-6b31-492c-9a0e-4b16dccf421c\",\"type\":\"Toolbar\"},\"x_range\":{\"id\":\"3d3c555e-3fc7-4781-adad-593f5d350271\",\"type\":\"Range1d\"},\"x_scale\":{\"id\":\"857fcf22-b829-4a48-8e8a-88e1b77cd6df\",\"type\":\"LinearScale\"},\"y_range\":{\"id\":\"80c130f8-cb1a-4213-9470-8b43e3e48477\",\"type\":\"Range1d\"},\"y_scale\":{\"id\":\"bf64b985-f96f-4165-b794-ec120d71df6b\",\"type\":\"LinearScale\"}},\"id\":\"c8009c64-8311-4659-9a33-c4b5b6f64947\",\"subtype\":\"Figure\",\"type\":\"Plot\"},{\"attributes\":{},\"id\":\"84c0dffb-256f-4612-86cd-2171d7a2b4c4\",\"type\":\"BasicTicker\"},{\"attributes\":{\"fill_alpha\":{\"value\":0.1},\"fill_color\":{\"value\":\"#1f77b4\"},\"line_alpha\":{\"value\":0.1},\"line_color\":{\"value\":\"#1f77b4\"},\"size\":{\"field\":\"size\",\"units\":\"screen\"},\"x\":{\"field\":\"x\"},\"y\":{\"field\":\"y\"}},\"id\":\"6173192b-1597-442a-9575-c332f1dc461c\",\"type\":\"Circle\"},{\"attributes\":{\"callback\":null,\"column_names\":[\"Station Name\",\"# of Racks\",\"Latitude\",\"Longitude\",\"turnover\",\"size\",\"color\",\"x\",\"y\",\"Station #\"],\"data\":{\"# of Racks\":{\"__ndarray__\":\"AAAAAAAAMEAAAAAAAAAzQAAAAAAAAC5AAAAAAAAALkAAAAAAAAAuQAAAAAAAADNAAAAAAAAANUAAAAAAAAAzQAAAAAAAgEFAAAAAAAAAM0AAAAAAAAAuQAAAAAAAAC5AAAAAAACAQUAAAAAAAAAuQAAAAAAAADNAAAAAAAAAKEAAAAAAAAAzQAAAAAAAADJAAAAAAAAANUAAAAAAAAAxQAAAAAAAAC5AAAAAAAAAM0AAAAAAAAAuQAAAAAAAADNAAAAAAAAAMUAAAAAAAAAuQAAAAAAAACpAAAAAAAAAM0AAAAAAAAAzQAAAAAAAADNAAAAAAAAAKEAAAAAAAAAzQAAAAAAAACxAAAAAAAAAM0AAAAAAAAAuQAAAAAAAADNAAAAAAAAAM0AAAAAAAAA0QAAAAAAAADNAAAAAAAAAM0AAAAAAAAA1QAAAAAAAADNAAAAAAAAAKEAAAAAAAAAuQAAAAAAAADNAAAAAAAAAM0AAAAAAAAAzQAAAAAAAADNAAAAAAAAAMEAAAAAAAAAzQAAAAAAAAABAAAAAAAAAAEAAAAAAAAD4fw==\",\"dtype\":\"float64\",\"shape\":[53]},\"Latitude\":{\"__ndarray__\":\"8G/QXn04RECAR1SobjhEQD/7kSIyOERA1edqK/Y3REAz4CwlyzdEQMtmDkktOERAzXaFPlg4REBjKZKvBDhEQDsah/pdOERAFY+LahE5RECCVmDI6jhEQKqB5nPuOERA8rioFhE5REAK8Ui8PDlEQN1e0hitOURA2a3pakA6REBGIjSCjTlEQGQdjq7SOURApMhaQ6k7RECy4ivsLzxEQLk3v2GiO0RAI028Azw7REB4J58e2zpEQPG6fsFuOkRA0hvuI7c6RECW7UPecjtEQCVens4VO0RAzeMwmL86REA+6q9XWDpEQJXZIJOMOkRAEAcJUb46REDR6A5iZzpEQCtM32sIOkRAL6hvmdM5REDY8zXLZTlEQJXXSuguOURAbOhmf6A4RECnPpC8czhEQH20OGOYN0RAXYlA9Q84REBXRE30+ThEQAKaCBueOERAPYBFfv04REDpf7kWLThEQMbBpWPON0RA3H75ZMU2REBYBP9byTZEQN3sD5TbNkRADHcujPQ2REALCRhd3jZEQG48jtUcO0RAF/WkpyM7REDHfVC8bzhEQA==\",\"dtype\":\"float64\",\"shape\":[53]},\"Longitude\":{\"__ndarray__\":\"mP4lqUwAVMBk0XR2MgBUwOrKZ3keAFTAGy/dJAYAVMCtMeiE0P9TwBSwHYzY/1PAdjHNdK//U8AcCMkCJv9TwH3p7c9F/1PAF01nJ4P/U8AF24gnu/9TwKx0d50NAFTAeuHOhZEAVMAqWONsOgBUwEoLl1XYAFTAATz9+2cAVMC+FvTeGP9TwMP3/gbt/lPAlDMUd7z9U8B5dwGCe/1TwMZvCisV/VPAH/ZCAdv8U8AWM8Lbg/xTwLtGy4Ee/FPAzhd7L777U8BCQSlauftTwCIZcmw9+1PAOsrBbAL7U8Cu7lhsk/pTwKXap+Mx+1PAiL1QwHb7U8Bm9KPhlPtTwD3QCgxZ+1PAqFFIMqv7U8CnzM03ovxTwNJY+zvb/FPALPUsCOX8U8ABT1q4rPxTwCI0go3r/FPASEvl7Qj9U8DrO78oQf1TwDShSWJJ/VPAkga3tYX+U8CW056Sc/1TwM6KqIk+/VPAexFtx9T9U8BiLNMvEf5TwHBBtixf/lPAeO3ShsP+U8B4CU59IP9TwCRR/b3z/VPAIxKFlvX9U8DiY2ZVOgJUwA==\",\"dtype\":\"float64\",\"shape\":[53]},\"Station #\":[1000,1001,1002,1003,1004,1005,1006,1007,1008,1009,1010,1011,1012,1013,1014,1015,1016,1017,1018,1019,1020,1021,1022,1023,1024,1025,1026,1027,1028,1029,1030,1031,1032,1033,1034,1035,1036,1037,1038,1039,1040,1041,1042,1043,1044,1045,1046,1047,1048,1049,1050,1061,1060],\"Station Name\":[\"Liberty Ave & Stanwix St\",\"Forbes Ave & Market Square\",\"Third Ave & Wood St\",\"First Ave & Smithfield St (Art Institute)\",\"First Ave & B St (T Station)\",\"Forbes Ave & Grant St\",\"Ross St & Sixth Ave (Steel Plaza T Station)\",\"Stevenson St & Forbes Ave\",\"Centre Ave & PPG Paints Arena\",\"12th St & Penn Ave\",\"10th St & Penn Ave (David L. Lawrence Convention Center)\",\"Fort Duquesne Blvd & 7th\",\"North Shore Trail & Ft Duquesne Bridge\",\"Isabella St & Federal St (PNC Park)\",\"Ridge Ave & Brighton Rd (CCAC)\",\"Federal St & E North Ave\",\"17th St & Penn Ave\",\"21st St & Penn Ave\",\"37th St & Butler St\",\"42nd St & Butler St\",\"42nd St & Penn Ave (Children's Hospital)\",\"Taylor St & Liberty Ave\",\"Liberty Ave & S Millvale (West Penn Hospital)\",\"Liberty Ave & Baum Blvd\",\"S Negley Ave & Baum Blvd\",\"Penn Ave & N Fairmount St\",\"Penn Ave & S Whitfield St\",\"Shady Ave & Ellsworth Ave\",\"Penn Ave & Putnam St (Bakery Square)\",\"Alder St & S Higland Ave\",\"S Euclid Ave & Centre Ave\",\"Maryland Ave & Ellsworth Ave\",\"Walnut St & College St\",\"Ivy St & Walnut St\",\"Ellsworth Ave & N Neville St\",\"Fifth Ave & S Dithridge St\",\"Schenley Dr at Schenley Plaza (Carnegie Library Main)\",\"Frew St & Schenley Dr\",\"Boulevard of the Allies & Parkview Ave\",\"Atwood St & Bates\",\"O'Hara St and University Place (Soldiers and Sailors Memorial)\",\"Fifth Ave & S Bouquet St\",\"Centre Ave & Kirkpatrick St\",\"Coltart Ave & Forbes Ave\",\"Zulema St & Coltart Ave\",\"S 27th St & Sidney St. (Southside Works)\",\"S 25th St & E Carson St\",\"S 22nd St & E Carson St\",\"S 18th St & Sidney St\",\"S 12th St & E Carson St\",\"Healthy Ride Hub\",\"33rd St and Penn Ave\",\"Open Streets West End\"],\"color\":[\"green\",\"green\",\"red\",\"green\",\"red\",\"red\",\"red\",\"red\",\"red\",\"red\",\"green\",\"green\",\"green\",\"green\",\"red\",\"green\",\"green\",\"green\",\"green\",\"green\",\"red\",\"red\",\"red\",\"red\",\"green\",\"red\",\"green\",\"red\",\"green\",\"red\",\"green\",\"green\",\"red\",\"red\",\"red\",\"red\",\"red\",\"red\",\"red\",\"red\",\"red\",\"red\",\"red\",\"red\",\"red\",\"green\",\"red\",\"green\",\"green\",\"green\",\"red\",\"red\",\"red\"],\"size\":{\"__ndarray__\":\"VEsZ7eOsMkCp+Dc1Kv47QLZgC7ZgCwZAbT7x9x5F6D8gUMj047kIQN7UTd3UTQ1A0rUVOGadBkB2e6xl6ID9P8YCvIEVcSdAqzNfPFioHkAU8Z81SefwP5nlyM8Vs+w/VVVVVVU1LkCAeRdafMgoQOM/RUmMPhRA5eCHePFM6D8Y5S5PfVEiQNSk2+406TJAs7D7fNeWKUA83yFVy8MwQMxWiYvZKjFAe/7GlDtpJ0BNaV78iYQrQLJnl4TQy+4/q2x1AcLK9j9wzm//ie4xQF1K7zSHhAdAdzkoHHrV+z+Jdekxf68dQAhQfl5UixVA2o0l9lSX0j9aKR1aKR0SQAYF1MBoKxRATHAyN17RBEDemh8WKYMQQBy/p8+AZx1ARTxn/yQKC0DA8tJmKpAAQAswwAADDChATGgvob2EIkCXk1GI6kcSQCb5O7OfChtA0ugRFWQbIkBuF8JsF8IcQFmWZVmWZfk/Pfjggw8+OEBWJDqQs4UfQOMHdPQMmuE/HnzwwQcfHECJBuMD2n4CQLwjkWfOO9I/juM4juM4FkAAAAAAAABZQA==\",\"dtype\":\"float64\",\"shape\":[53]},\"turnover\":{\"__ndarray__\":\"1fvmaXvk+j8oOHqCoycEQFg5tMh2vs+/dxgUdXJ5sT+xOZBohc3Rv5VRGZVRGdW/36vmE15I0L+7/Ej3Fz7Fv+F8DM7H4PC/UqrJ484S5r/Vop6zSle4P0+lkL7mqbQ/AAAAAADA9T9mqQadB9jxP8JR/X3eJt2/P1pNQhR/sT8Opshn3WDqP1rtrHZWO/s/bbLJJpts8j/wVfMJLyT4P6vExWyVuPi/lkaPqCDb8L9CiQZuEdDzv4vFYrFYLLa/kAZpkAZpwD+W4RtRYNL5v3aHtr/H7tA/YClQ61cKxL8vF6hCo1/lP841bhcTBt+/G3DFGnDFmj86gxU6gxXaP3oRJypPC92/ofMAO0r6zb9yHMdxHMfXv0fRT2LNK+W/UX2mrfF307/r7Iuo1tnHv1BBBRVUUPG/q6qqqqqq6r/uOmtJFFPav0QuKwZKeOO/L6G9hPYS6r+1tLS0tLTkv5IkSZIkScK/dNFFF110AUCQgJpdL7Lmv3qQu362WKk/P9T0Q00/5D8YUa2zL6LKPxqkQRqkQZq/AAAAAAAA4L8AAAAAAAAiwA==\",\"dtype\":\"float64\",\"shape\":[53]},\"x\":{\"__ndarray__\":\"1FMTBKz8YMFQbRTElfxgwSW4KsqE/GDBaMFDIHD8YMFqQhuVQvxgwd2ZmGZJ/GDB1P6JgCb8YMGAXAvFsftgwVcSUsfM+2DB0kBJ4AD8YMFCfvdvMPxgwYCAo3h2/GDBFQsagOb8YMEwDVKHnPxgwZNXCKQi/WDBx8TLOMP8YMGDFiScpvtgwX9doV+B+2DBDjF0tX76YMGFdWCKR/pgwR9ulp/w+WDB1oaxOb/5YMFEvzk2dflgwa1KTyIf+WDBKR//U834YMHN/CM5yfhgwf7/evhf+GDBLrTp3C34YMHB6NiWz/dgwX7LrCxW+GDBwIKzqJD4YMGGb6E/qvhgwS2/Y253+GDBdRlhM734YMGLrgb/jvlgwVaJkGu/+WDBND3Gvcf5YMHNV2nql/lgwYQWikfN+WDBOkSbOub5YMEshCj8FfpgwVUCZfgc+mDBxmU/oCn7YMEv4B7NQPpgwVTVM8IT+mDB5znLW5P6YMF+cLapxvpgwQPC5eUI+2DBJIeEIF77YMGkMpMUrftgwZai06et+mDBJZYlOa/6YMEE5NxKT/5gwQ==\",\"dtype\":\"float64\",\"shape\":[53]},\"y\":{\"__ndarray__\":\"N3761rrOUkFmdd1rqs5SQZn6SuJmzlJBSQlT+CPOUkEM3hf2881SQWGr5nhhzlJBpjT1aJHOUkGuYQsrNM5SQfZRH8+XzlJBPOXIDWDPUkEPdGvwNM9SQZkO6gg5z1JBPegqsF/PUkFx7xdmkM9SQT013cwN0FJBVPNMOrLQUkH/A5mL6s9SQREOmr830FJByclbBUXSUkFn7upZ29JSQaUCz1Y90lJBNXrDEMvRUkFo987nXtFSQRmI8fLl0FJBwreXvjbRUkFS4WpMCNJSQSxVWWqg0VJB6+FhLkDRUkHNE4zuzNBSQUlpgzsH0VJBZEk0wT7RUkEXGzq43dBSQTlVWbpz0FJB+rrAxTjQUkFTi6k4vs9SQUhwYveAz1JBYG4kCuLOUkG2SNMWsM5SQZCTHFO7zVJBuPkWv0DOUkFFJtXeRc9SQZXExV7fzlJB3krj0UnPUkG4kLxAYc5SQS40xJT3zVJBBjQ76M/MUkEujrJU1MxSQSPnc6jozFJBIrZJhATNUkElov7D68xSQfRbcUKo0VJB4dCM36/RUkFOwtefq85SQQ==\",\"dtype\":\"float64\",\"shape\":[53]}}},\"id\":\"03991d42-ae95-49ec-8340-ba0bfaae9eca\",\"type\":\"ColumnDataSource\"},{\"attributes\":{\"overlay\":{\"id\":\"2dcf21dd-f792-4be7-9ed7-79c3f3721303\",\"type\":\"BoxAnnotation\"}},\"id\":\"c5e078bf-ca3c-4f8a-aca2-596edc3fac10\",\"type\":\"BoxZoomTool\"},{\"attributes\":{\"source\":{\"id\":\"03991d42-ae95-49ec-8340-ba0bfaae9eca\",\"type\":\"ColumnDataSource\"}},\"id\":\"dfe8921a-c34b-4d13-8489-e1dadaf54894\",\"type\":\"CDSView\"},{\"attributes\":{\"formatter\":{\"id\":\"ec41ee8c-f26f-42f4-bdff-4be74580c348\",\"type\":\"BasicTickFormatter\"},\"plot\":{\"id\":\"c8009c64-8311-4659-9a33-c4b5b6f64947\",\"subtype\":\"Figure\",\"type\":\"Plot\"},\"ticker\":{\"id\":\"84c0dffb-256f-4612-86cd-2171d7a2b4c4\",\"type\":\"BasicTicker\"},\"visible\":false},\"id\":\"0d82d354-49a8-4b53-9970-6449f97d620e\",\"type\":\"LinearAxis\"},{\"attributes\":{\"alpha\":0.4,\"tile_source\":{\"id\":\"1707fafd-44bc-4498-bd3f-0a1e36fb013d\",\"type\":\"WMTSTileSource\"}},\"id\":\"a665a30e-00e9-4bfd-8b44-9b90710364bd\",\"type\":\"TileRenderer\"},{\"attributes\":{},\"id\":\"5985ef35-54c6-4861-874f-f5f40c1e5cc1\",\"type\":\"SaveTool\"},{\"attributes\":{\"callback\":null,\"end\":-8899586.868557883,\"start\":-8903986.868557883},\"id\":\"3d3c555e-3fc7-4781-adad-593f5d350271\",\"type\":\"Range1d\"},{\"attributes\":{},\"id\":\"527ae193-205f-40c3-b45e-5d29eddfda9a\",\"type\":\"ResetTool\"},{\"attributes\":{\"data_source\":{\"id\":\"03991d42-ae95-49ec-8340-ba0bfaae9eca\",\"type\":\"ColumnDataSource\"},\"glyph\":{\"id\":\"9e831ab5-29f5-4a5d-a699-472f789bf81b\",\"type\":\"Circle\"},\"hover_glyph\":null,\"muted_glyph\":null,\"nonselection_glyph\":{\"id\":\"6173192b-1597-442a-9575-c332f1dc461c\",\"type\":\"Circle\"},\"selection_glyph\":null,\"view\":{\"id\":\"dfe8921a-c34b-4d13-8489-e1dadaf54894\",\"type\":\"CDSView\"}},\"id\":\"5fb6c20b-0b29-495d-9bad-88fb89f46f18\",\"type\":\"GlyphRenderer\"},{\"attributes\":{\"callback\":null,\"end\":4933142.7526188465,\"start\":4928742.7526188465},\"id\":\"80c130f8-cb1a-4213-9470-8b43e3e48477\",\"type\":\"Range1d\"},{\"attributes\":{\"fill_alpha\":{\"value\":0.8},\"fill_color\":{\"field\":\"color\"},\"line_alpha\":{\"value\":0.8},\"line_color\":{\"field\":\"color\"},\"size\":{\"field\":\"size\",\"units\":\"screen\"},\"x\":{\"field\":\"x\"},\"y\":{\"field\":\"y\"}},\"id\":\"9e831ab5-29f5-4a5d-a699-472f789bf81b\",\"type\":\"Circle\"},{\"attributes\":{},\"id\":\"0bd22ab6-b42a-4edf-8327-7ce303c683da\",\"type\":\"HelpTool\"},{\"attributes\":{},\"id\":\"857fcf22-b829-4a48-8e8a-88e1b77cd6df\",\"type\":\"LinearScale\"},{\"attributes\":{\"callback\":null,\"tooltips\":[[\"Station\",\"@{Station Name}\"],[\"Turnover\",\"@turnover\"]]},\"id\":\"1ea3620e-f7af-4abf-abf3-0d1fdd4b1751\",\"type\":\"HoverTool\"},{\"attributes\":{},\"id\":\"d6057450-de3f-4279-976e-905a119d2e8f\",\"type\":\"BasicTickFormatter\"},{\"attributes\":{\"formatter\":{\"id\":\"d6057450-de3f-4279-976e-905a119d2e8f\",\"type\":\"BasicTickFormatter\"},\"plot\":{\"id\":\"c8009c64-8311-4659-9a33-c4b5b6f64947\",\"subtype\":\"Figure\",\"type\":\"Plot\"},\"ticker\":{\"id\":\"e6111a34-0a2e-4081-8463-406b39dc48cb\",\"type\":\"BasicTicker\"},\"visible\":false},\"id\":\"f5e6ebb5-6870-4b2f-871b-0fa214c4568c\",\"type\":\"LinearAxis\"},{\"attributes\":{\"attribution\":\"Map tiles by <a href=\\\"http://stamen.com\\\">Stamen Design</a>, under <a href=\\\"http://creativecommons.org/licenses/by/3.0\\\">CC BY 3.0</a>. Data by <a href=\\\"http://openstreetmap.org\\\">OpenStreetMap</a>, under <a href=\\\"http://www.openstreetmap.org/copyright\\\">ODbL</a>.\",\"url\":\"http://tile.stamen.com/toner/{Z}/{X}/{Y}.png\"},\"id\":\"1707fafd-44bc-4498-bd3f-0a1e36fb013d\",\"type\":\"WMTSTileSource\"}],\"root_ids\":[\"c8009c64-8311-4659-9a33-c4b5b6f64947\"]},\"title\":\"Bokeh Application\",\"version\":\"0.12.11\"}};\n",
       "    var render_items = [{\"docid\":\"74f9c9cb-f6eb-480e-872d-40dfb6b4800d\",\"elementid\":\"e7369580-6a19-4c02-bb12-94fc3b34d528\",\"modelid\":\"c8009c64-8311-4659-9a33-c4b5b6f64947\"}];\n",
       "    root.Bokeh.embed.embed_items(docs_json, render_items);\n",
       "  }\n",
       "  if (root.Bokeh !== undefined) {\n",
       "    embed_document(root);\n",
       "  } else {\n",
       "    var attempts = 0;\n",
       "    var timer = setInterval(function(root) {\n",
       "      if (root.Bokeh !== undefined) {\n",
       "        embed_document(root);\n",
       "        clearInterval(timer);\n",
       "      }\n",
       "      attempts++;\n",
       "      if (attempts > 100) {\n",
       "        console.log(\"Bokeh: ERROR: Unable to embed document because BokehJS library is missing\")\n",
       "        clearInterval(timer);\n",
       "      }\n",
       "    }, 10, root)\n",
       "  }\n",
       "})(window);"
      ],
      "application/vnd.bokehjs_exec.v0+json": ""
     },
     "metadata": {
      "application/vnd.bokehjs_exec.v0+json": {
       "id": "c8009c64-8311-4659-9a33-c4b5b6f64947"
      }
     },
     "output_type": "display_data"
    }
   ],
   "source": [
    "plot = figure(x_range=x_range, y_range=y_range, plot_width=700, active_scroll='wheel_zoom')\n",
    "plot.axis.visible = False\n",
    "plot.grid.visible = False\n",
    "\n",
    "source = ColumnDataSource(stations2016)\n",
    "hover = HoverTool(tooltips = [('Station','@{Station Name}'),('Turnover','@turnover')])\n",
    "\n",
    "plot.add_tile(STAMEN_TONER, alpha=0.4)\n",
    "plot.circle('x','y', color='color', size='size', alpha=0.8, source=source)\n",
    "plot.add_tools(hover)\n",
    "show(plot)"
   ]
  },
  {
   "cell_type": "markdown",
   "metadata": {},
   "source": [
    "## Ride difficulty"
   ]
  },
  {
   "cell_type": "markdown",
   "metadata": {},
   "source": [
    "We'll compute the following quantities\n",
    "* ride distance\n",
    "* elevation change\n",
    "* deviation from expected duration"
   ]
  },
  {
   "cell_type": "markdown",
   "metadata": {},
   "source": [
    "### elevation"
   ]
  },
  {
   "cell_type": "code",
   "execution_count": 24,
   "metadata": {},
   "outputs": [],
   "source": [
    "from my_secrets.keys import google_elev\n",
    "from scipy.constants import foot\n",
    "\n",
    "c_elev = googlemaps.Client(key=google_elev)\n",
    "\n",
    "pos = stations2016[['Latitude','Longitude']].values.tolist()\n",
    "elev = [d['elevation'] / foot for d in c_elev.elevation(pos)]\n",
    "\n",
    "stations2016['elevation'] = elev "
   ]
  },
  {
   "cell_type": "markdown",
   "metadata": {},
   "source": [
    "### distance"
   ]
  },
  {
   "cell_type": "markdown",
   "metadata": {},
   "source": [
    "[Read this](https://gis.stackexchange.com/questions/84885/whats-the-difference-between-vincenty-and-great-circle-distance-calculations) for a discussion of distance algorithms."
   ]
  },
  {
   "cell_type": "markdown",
   "metadata": {},
   "source": [
    "<img src='http://numba.pydata.org/_static/numba_blue_icon_rgb.png' width='20%' align='right'>\n",
    "<big><big><big><b>[Numba](http://numba.pydata.org)</b></big></big></big>\n",
    "\n",
    "Numba will compile the function to optimized C code (using the LLVM compiler), and it understands NumPy arrays natively.\n",
    "\n",
    "It will also automatically generate and compile GPU kernels."
   ]
  },
  {
   "cell_type": "code",
   "execution_count": 25,
   "metadata": {},
   "outputs": [],
   "source": [
    "from geopy.distance import EARTH_RADIUS\n",
    "from scipy.constants import mile\n",
    "import numba\n",
    "\n",
    "@numba.jit(nopython=True)\n",
    "def _haversine(origin, destination):\n",
    "    '''the haversine distance in miles'''\n",
    "    assert origin.shape[0] == destination.shape[0]\n",
    "    \n",
    "    output = np.empty(shape=origin.shape[0], dtype=origin.dtype)\n",
    "    \n",
    "    # earth radius in miles\n",
    "    constant = EARTH_RADIUS * 1000/mile * 2\n",
    "    p = np.pi / 180\n",
    "    \n",
    "    n = origin.shape[0]\n",
    "    for i in range(n):\n",
    "        lat1 = origin[i,0]\n",
    "        lon1 = origin[i,1]\n",
    "        lat2 = destination[i,0]\n",
    "        lon2 = destination[i,1]\n",
    "    \n",
    "        a = 0.5 - np.cos((lat2 - lat1) * p) / 2  \\\n",
    "           + np.cos(lat1 * p) * np.cos(lat2 * p) \\\n",
    "           * (1 - np.cos((lon2 - lon1) * p )) / 2\n",
    "        output[i] = constant * np.arcsin(np.sqrt(a))\n",
    "    \n",
    "    return output\n",
    "\n",
    "def haversine(origin, destination):\n",
    "    '''The haversine distance in miles\n",
    "    \n",
    "    Compute the distance in miles between arrays of origin\n",
    "    and destination locations.\n",
    "    \n",
    "    Parameters\n",
    "    ----------\n",
    "    origin      : Pandas DataFrame of Latitude, Longitude positions\n",
    "    destination : Pandas DataFrame of Latitude, Longitude positions\n",
    "    \n",
    "    Returns\n",
    "    -------\n",
    "    Pandas Series on the inner joined indexes.'''\n",
    "    \n",
    "    # ensure that the two dataframes are\n",
    "    # aligned by row and column.\n",
    "    left, right = origin.align(destination, join='inner')\n",
    "    \n",
    "    out = _haversine(left.values, right.values)\n",
    "    \n",
    "    return pd.Series(out, index=left.index)"
   ]
  },
  {
   "cell_type": "code",
   "execution_count": 26,
   "metadata": {},
   "outputs": [],
   "source": [
    "start = rides2016.merge(stations2016, left_on='From station id', right_index=True)\n",
    "end = rides2016.merge(stations2016, left_on='To station id', right_index=True)\n",
    "\n",
    "distances = haversine(start[['Latitude','Longitude']], end[['Latitude','Longitude']])"
   ]
  },
  {
   "cell_type": "markdown",
   "metadata": {},
   "source": [
    "### Grade"
   ]
  },
  {
   "cell_type": "code",
   "execution_count": 27,
   "metadata": {},
   "outputs": [],
   "source": [
    "elevation_change = end['elevation'] - start['elevation']"
   ]
  },
  {
   "cell_type": "code",
   "execution_count": 28,
   "metadata": {},
   "outputs": [],
   "source": [
    "rides2016['pct_grade'] = (elevation_change / distances / 5280) * 100\n",
    "pairs = rides2016.groupby(['From station name','To station name']).agg({'Trip id':'count', 'pct_grade':'first'})"
   ]
  },
  {
   "cell_type": "markdown",
   "metadata": {},
   "source": [
    "Rides of extreme grade were less popular in 2016. Could be for any number of reasons."
   ]
  },
  {
   "cell_type": "code",
   "execution_count": 29,
   "metadata": {},
   "outputs": [
    {
     "data": {
      "text/plain": [
       "<matplotlib.axes._subplots.AxesSubplot at 0x115856128>"
      ]
     },
     "execution_count": 29,
     "metadata": {},
     "output_type": "execute_result"
    },
    {
     "data": {
      "image/png": "[encoded data removed]",
      "text/plain": [
       "<matplotlib.figure.Figure at 0x10c39ed68>"
      ]
     },
     "metadata": {},
     "output_type": "display_data"
    }
   ],
   "source": [
    "%matplotlib inline\n",
    "pairs.plot.scatter(x='Trip id', y='pct_grade', figsize=(12,8))"
   ]
  },
  {
   "cell_type": "code",
   "execution_count": 30,
   "metadata": {
    "scrolled": true
   },
   "outputs": [
    {
     "data": {
      "text/html": [
       "<div>\n",
       "<style scoped>\n",
       "    .dataframe tbody tr th:only-of-type {\n",
       "        vertical-align: middle;\n",
       "    }\n",
       "\n",
       "    .dataframe tbody tr th {\n",
       "        vertical-align: top;\n",
       "    }\n",
       "\n",
       "    .dataframe thead th {\n",
       "        text-align: right;\n",
       "    }\n",
       "</style>\n",
       "<table border=\"1\" class=\"dataframe\">\n",
       "  <thead>\n",
       "    <tr style=\"text-align: right;\">\n",
       "      <th></th>\n",
       "      <th></th>\n",
       "      <th>Trip id</th>\n",
       "      <th>pct_grade</th>\n",
       "    </tr>\n",
       "    <tr>\n",
       "      <th>From station name</th>\n",
       "      <th>To station name</th>\n",
       "      <th></th>\n",
       "      <th></th>\n",
       "    </tr>\n",
       "  </thead>\n",
       "  <tbody>\n",
       "    <tr>\n",
       "      <th>Boulevard of the Allies &amp; Parkview Ave</th>\n",
       "      <th>Fifth Ave &amp; S Bouquet St</th>\n",
       "      <td>555</td>\n",
       "      <td>0.533128</td>\n",
       "    </tr>\n",
       "    <tr>\n",
       "      <th>Alder St &amp; S Highland Ave</th>\n",
       "      <th>Penn Ave &amp; Putnam St (Bakery Square)</th>\n",
       "      <td>472</td>\n",
       "      <td>0.872817</td>\n",
       "    </tr>\n",
       "    <tr>\n",
       "      <th>Fifth Ave &amp; S Bouquet St</th>\n",
       "      <th>Boulevard of the Allies &amp; Parkview Ave</th>\n",
       "      <td>467</td>\n",
       "      <td>-0.533128</td>\n",
       "    </tr>\n",
       "  </tbody>\n",
       "</table>\n",
       "</div>"
      ],
      "text/plain": [
       "                                                                               Trip id  \\\n",
       "From station name                      To station name                                   \n",
       "Boulevard of the Allies & Parkview Ave Fifth Ave & S Bouquet St                    555   \n",
       "Alder St & S Highland Ave              Penn Ave & Putnam St (Bakery Square)        472   \n",
       "Fifth Ave & S Bouquet St               Boulevard of the Allies & Parkview Ave      467   \n",
       "\n",
       "                                                                               pct_grade  \n",
       "From station name                      To station name                                    \n",
       "Boulevard of the Allies & Parkview Ave Fifth Ave & S Bouquet St                 0.533128  \n",
       "Alder St & S Highland Ave              Penn Ave & Putnam St (Bakery Square)     0.872817  \n",
       "Fifth Ave & S Bouquet St               Boulevard of the Allies & Parkview Ave  -0.533128  "
      ]
     },
     "execution_count": 30,
     "metadata": {},
     "output_type": "execute_result"
    }
   ],
   "source": [
    "pairs.dropna().nlargest(3, 'Trip id')"
   ]
  },
  {
   "cell_type": "markdown",
   "metadata": {},
   "source": [
    "## More Google APIs"
   ]
  },
  {
   "cell_type": "markdown",
   "metadata": {},
   "source": [
    "<big><big>Google Distance Matrix</big></big>\n",
    "* actual *biking* distance\n",
    "* expected time"
   ]
  },
  {
   "cell_type": "code",
   "execution_count": 31,
   "metadata": {},
   "outputs": [
    {
     "data": {
      "text/html": [
       "<div>\n",
       "<style scoped>\n",
       "    .dataframe tbody tr th:only-of-type {\n",
       "        vertical-align: middle;\n",
       "    }\n",
       "\n",
       "    .dataframe tbody tr th {\n",
       "        vertical-align: top;\n",
       "    }\n",
       "\n",
       "    .dataframe thead th {\n",
       "        text-align: right;\n",
       "    }\n",
       "</style>\n",
       "<table border=\"1\" class=\"dataframe\">\n",
       "  <thead>\n",
       "    <tr style=\"text-align: right;\">\n",
       "      <th></th>\n",
       "      <th>From station id</th>\n",
       "      <th>To station id</th>\n",
       "      <th>Gdistance (meters)</th>\n",
       "      <th>time</th>\n",
       "    </tr>\n",
       "  </thead>\n",
       "  <tbody>\n",
       "    <tr>\n",
       "      <th>0</th>\n",
       "      <td>1026</td>\n",
       "      <td>1032</td>\n",
       "      <td>1068</td>\n",
       "      <td>00:03:47</td>\n",
       "    </tr>\n",
       "    <tr>\n",
       "      <th>1</th>\n",
       "      <td>1029</td>\n",
       "      <td>1021</td>\n",
       "      <td>2868</td>\n",
       "      <td>00:12:03</td>\n",
       "    </tr>\n",
       "    <tr>\n",
       "      <th>2</th>\n",
       "      <td>1029</td>\n",
       "      <td>1028</td>\n",
       "      <td>1080</td>\n",
       "      <td>00:04:27</td>\n",
       "    </tr>\n",
       "    <tr>\n",
       "      <th>3</th>\n",
       "      <td>1041</td>\n",
       "      <td>1047</td>\n",
       "      <td>2865</td>\n",
       "      <td>00:08:36</td>\n",
       "    </tr>\n",
       "    <tr>\n",
       "      <th>...</th>\n",
       "      <td>...</td>\n",
       "      <td>...</td>\n",
       "      <td>...</td>\n",
       "      <td>...</td>\n",
       "    </tr>\n",
       "    <tr>\n",
       "      <th>2227</th>\n",
       "      <td>1010</td>\n",
       "      <td>1042</td>\n",
       "      <td>2464</td>\n",
       "      <td>00:15:58</td>\n",
       "    </tr>\n",
       "    <tr>\n",
       "      <th>2228</th>\n",
       "      <td>1061</td>\n",
       "      <td>1016</td>\n",
       "      <td>2114</td>\n",
       "      <td>00:07:01</td>\n",
       "    </tr>\n",
       "    <tr>\n",
       "      <th>2229</th>\n",
       "      <td>1005</td>\n",
       "      <td>1033</td>\n",
       "      <td>9924</td>\n",
       "      <td>00:36:03</td>\n",
       "    </tr>\n",
       "    <tr>\n",
       "      <th>2230</th>\n",
       "      <td>1022</td>\n",
       "      <td>1061</td>\n",
       "      <td>2245</td>\n",
       "      <td>00:07:09</td>\n",
       "    </tr>\n",
       "  </tbody>\n",
       "</table>\n",
       "<p>2231 rows × 4 columns</p>\n",
       "</div>"
      ],
      "text/plain": [
       "      From station id  To station id  Gdistance (meters)     time\n",
       "0                1026           1032                1068 00:03:47\n",
       "1                1029           1021                2868 00:12:03\n",
       "2                1029           1028                1080 00:04:27\n",
       "3                1041           1047                2865 00:08:36\n",
       "...               ...            ...                 ...      ...\n",
       "2227             1010           1042                2464 00:15:58\n",
       "2228             1061           1016                2114 00:07:01\n",
       "2229             1005           1033                9924 00:36:03\n",
       "2230             1022           1061                2245 00:07:09\n",
       "\n",
       "[2231 rows x 4 columns]"
      ]
     },
     "execution_count": 31,
     "metadata": {},
     "output_type": "execute_result"
    }
   ],
   "source": [
    "# cooking show version\n",
    "gmap = pd.read_csv('gmap.csv')\n",
    "gmap['time'] = pd.to_timedelta(gmap['time'])\n",
    "gmap"
   ]
  },
  {
   "cell_type": "code",
   "execution_count": 32,
   "metadata": {},
   "outputs": [
    {
     "data": {
      "text/plain": [
       "count                      2231\n",
       "mean     0 days 00:16:44.927835\n",
       "std      0 days 00:09:38.167278\n",
       "min             0 days 00:00:00\n",
       "25%             0 days 00:08:56\n",
       "50%             0 days 00:15:54\n",
       "75%             0 days 00:23:55\n",
       "max             0 days 00:45:19\n",
       "Name: time, dtype: object"
      ]
     },
     "execution_count": 32,
     "metadata": {},
     "output_type": "execute_result"
    }
   ],
   "source": [
    "gmap['time'].describe()"
   ]
  },
  {
   "cell_type": "markdown",
   "metadata": {},
   "source": [
    "### On time arrival"
   ]
  },
  {
   "cell_type": "markdown",
   "metadata": {},
   "source": [
    "I don't trust the Starttime and Stoptime columns."
   ]
  },
  {
   "cell_type": "code",
   "execution_count": 33,
   "metadata": {},
   "outputs": [],
   "source": [
    "gmap_rides = rides2016.merge(gmap)"
   ]
  },
  {
   "cell_type": "code",
   "execution_count": 34,
   "metadata": {},
   "outputs": [
    {
     "data": {
      "text/plain": [
       "count     74434.000000\n",
       "mean       2923.737338\n",
       "std        9404.711734\n",
       "min       -1403.000000\n",
       "25%          99.000000\n",
       "50%         538.000000\n",
       "75%        2749.000000\n",
       "max      168239.000000\n",
       "Name: deviation, dtype: float64"
      ]
     },
     "execution_count": 34,
     "metadata": {},
     "output_type": "execute_result"
    }
   ],
   "source": [
    "gmap_rides['deviation'] = gmap_rides['Tripduration'] - gmap_rides['time'].dt.total_seconds()\n",
    "gmap_rides['deviation'].describe()"
   ]
  },
  {
   "cell_type": "code",
   "execution_count": 35,
   "metadata": {},
   "outputs": [
    {
     "data": {
      "text/html": [
       "<div>\n",
       "<style scoped>\n",
       "    .dataframe tbody tr th:only-of-type {\n",
       "        vertical-align: middle;\n",
       "    }\n",
       "\n",
       "    .dataframe tbody tr th {\n",
       "        vertical-align: top;\n",
       "    }\n",
       "\n",
       "    .dataframe thead th {\n",
       "        text-align: right;\n",
       "    }\n",
       "</style>\n",
       "<table border=\"1\" class=\"dataframe\">\n",
       "  <thead>\n",
       "    <tr style=\"text-align: right;\">\n",
       "      <th></th>\n",
       "      <th>From station name</th>\n",
       "      <th>To station name</th>\n",
       "      <th>pct_grade</th>\n",
       "      <th>deviation</th>\n",
       "    </tr>\n",
       "  </thead>\n",
       "  <tbody>\n",
       "    <tr>\n",
       "      <th>69237</th>\n",
       "      <td>Fort Duquesne Blvd &amp; 7th St</td>\n",
       "      <td>S 27th St &amp; Sidney St. (Southside Works)</td>\n",
       "      <td>0.125395</td>\n",
       "      <td>-1403.0</td>\n",
       "    </tr>\n",
       "    <tr>\n",
       "      <th>72691</th>\n",
       "      <td>Liberty Ave &amp; Stanwix St</td>\n",
       "      <td>Coltart Ave &amp; Forbes Ave</td>\n",
       "      <td>1.391981</td>\n",
       "      <td>-1367.0</td>\n",
       "    </tr>\n",
       "    <tr>\n",
       "      <th>73942</th>\n",
       "      <td>Third Ave &amp; Wood St</td>\n",
       "      <td>Penn Ave &amp; Putnam St (Bakery Square)</td>\n",
       "      <td>0.816549</td>\n",
       "      <td>-1300.0</td>\n",
       "    </tr>\n",
       "    <tr>\n",
       "      <th>73684</th>\n",
       "      <td>Liberty Ave &amp; Stanwix St</td>\n",
       "      <td>S Negley Ave &amp; Baum Blvd</td>\n",
       "      <td>0.798640</td>\n",
       "      <td>-1257.0</td>\n",
       "    </tr>\n",
       "    <tr>\n",
       "      <th>72782</th>\n",
       "      <td>S 22nd St &amp; E Carson St</td>\n",
       "      <td>42nd &amp; Penn Ave.</td>\n",
       "      <td>1.236094</td>\n",
       "      <td>-1180.0</td>\n",
       "    </tr>\n",
       "  </tbody>\n",
       "</table>\n",
       "</div>"
      ],
      "text/plain": [
       "                 From station name                           To station name  \\\n",
       "69237  Fort Duquesne Blvd & 7th St  S 27th St & Sidney St. (Southside Works)   \n",
       "72691     Liberty Ave & Stanwix St                  Coltart Ave & Forbes Ave   \n",
       "73942          Third Ave & Wood St      Penn Ave & Putnam St (Bakery Square)   \n",
       "73684     Liberty Ave & Stanwix St                  S Negley Ave & Baum Blvd   \n",
       "72782      S 22nd St & E Carson St                          42nd & Penn Ave.   \n",
       "\n",
       "       pct_grade  deviation  \n",
       "69237   0.125395    -1403.0  \n",
       "72691   1.391981    -1367.0  \n",
       "73942   0.816549    -1300.0  \n",
       "73684   0.798640    -1257.0  \n",
       "72782   1.236094    -1180.0  "
      ]
     },
     "execution_count": 35,
     "metadata": {},
     "output_type": "execute_result"
    }
   ],
   "source": [
    "fast_rides = gmap_rides.loc[gmap_rides['deviation'] < 0]\n",
    "fast_rides[['From station name','To station name','pct_grade','deviation']].nsmallest(5, 'deviation')"
   ]
  },
  {
   "cell_type": "markdown",
   "metadata": {},
   "source": [
    "## Where can I go in 15 minutes?"
   ]
  },
  {
   "cell_type": "markdown",
   "metadata": {},
   "source": [
    "<img src='https://healthyridepgh.com/wp-content/uploads/sites/3/2017/12/Port-Authority-Digital_twt-cover-e1512414084543.png'>"
   ]
  },
  {
   "cell_type": "code",
   "execution_count": 36,
   "metadata": {},
   "outputs": [
    {
     "data": {
      "text/plain": [
       "Station Name    Isabella St & Federal St (PNC Park)\n",
       "# of Racks                                       15\n",
       "Latitude                                    40.4472\n",
       "Longitude                                  -80.0036\n",
       "                               ...                 \n",
       "color                                         green\n",
       "x                                      -8.90596e+06\n",
       "y                                       4.93114e+06\n",
       "elevation                                   734.096\n",
       "Name: 1013, Length: 10, dtype: object"
      ]
     },
     "execution_count": 36,
     "metadata": {},
     "output_type": "execute_result"
    }
   ],
   "source": [
    "my_station = 1013\n",
    "stations2016.loc[my_station]"
   ]
  },
  {
   "cell_type": "markdown",
   "metadata": {},
   "source": [
    "I've got alot of filtering to do. Let's do it in multiple steps to save time.\n",
    "\n",
    "Here's where *Google* says we can bike to in 15 minutes."
   ]
  },
  {
   "cell_type": "code",
   "execution_count": 37,
   "metadata": {},
   "outputs": [
    {
     "data": {
      "text/plain": [
       "array(['Liberty Ave & Stanwix St',\n",
       "       'First Ave & Smithfield St (Art Institute)',\n",
       "       'Forbes Ave & Market Square', 'Ridge Ave & Brighton Rd (CCAC)',\n",
       "       'Federal St & E North Ave',\n",
       "       'Ross St & Sixth Ave (Steel Plaza T Station)',\n",
       "       '10th St & Penn Ave (David L. Lawrence Convention Center)',\n",
       "       'North Shore Trail & Fort Duquesne Bridge', 'Third Ave & Wood St',\n",
       "       'Fort Duquesne Blvd & 7th St', '21st St & Penn Ave',\n",
       "       '12th St & Penn Ave', 'Centre Ave & PPG Paints Arena',\n",
       "       '17th St & Penn Ave', 'Healthy Ride Hub',\n",
       "       'First Ave & B St (T Station)', 'Forbes Ave & Grant St',\n",
       "       'Stevenson St & Forbes Ave', 'Open Streets West End'], dtype=object)"
      ]
     },
     "execution_count": 37,
     "metadata": {},
     "output_type": "execute_result"
    }
   ],
   "source": [
    "from_here = gmap_rides.loc[(gmap_rides['From station id'] == my_station) & (gmap_rides['To station id'] != my_station )].copy()\n",
    "gmap15 = from_here.loc[from_here['time'] <= pd.Timedelta(15, unit='m')]\n",
    "gmap15['To station name'].unique()"
   ]
  },
  {
   "cell_type": "code",
   "execution_count": 38,
   "metadata": {},
   "outputs": [
    {
     "name": "stdout",
     "output_type": "stream",
     "text": [
      "<class 'pandas.core.frame.DataFrame'>\n",
      "Int64Index: 1122 entries, 20291 to 73931\n",
      "Data columns (total 14 columns):\n",
      "Trip id               1122 non-null int64\n",
      "Starttime             1122 non-null datetime64[ns]\n",
      "Stoptime              1122 non-null datetime64[ns]\n",
      "Bikeid                1122 non-null int64\n",
      "Tripduration          1122 non-null int64\n",
      "From station id       1122 non-null int64\n",
      "From station name     1122 non-null object\n",
      "To station id         1122 non-null int64\n",
      "To station name       1122 non-null object\n",
      "Usertype              0 non-null float64\n",
      "pct_grade             1122 non-null float64\n",
      "Gdistance (meters)    1122 non-null int64\n",
      "time                  1122 non-null timedelta64[ns]\n",
      "deviation             1122 non-null float64\n",
      "dtypes: datetime64[ns](2), float64(3), int64(6), object(2), timedelta64[ns](1)\n",
      "memory usage: 131.5+ KB\n"
     ]
    }
   ],
   "source": [
    "gmap15.info()"
   ]
  },
  {
   "cell_type": "markdown",
   "metadata": {},
   "source": [
    "Let's trim out the really long rides. 2 hours seems reasonable."
   ]
  },
  {
   "cell_type": "code",
   "execution_count": 39,
   "metadata": {},
   "outputs": [
    {
     "data": {
      "text/plain": [
       "Timedelta('0 days 02:13:19.600000')"
      ]
     },
     "execution_count": 39,
     "metadata": {},
     "output_type": "execute_result"
    }
   ],
   "source": [
    "ninety_fifth = gmap15['Tripduration'].quantile(0.95)\n",
    "pd.Timedelta(ninety_fifth, unit='s')"
   ]
  },
  {
   "cell_type": "code",
   "execution_count": 40,
   "metadata": {},
   "outputs": [],
   "source": [
    "trimmed = gmap15.loc[gmap15['Tripduration'] < ninety_fifth]"
   ]
  },
  {
   "cell_type": "markdown",
   "metadata": {},
   "source": [
    "Here's the fastest time on record for each station.\n",
    "\n",
    "Maybe a better deal would be *first 15 minutes free*."
   ]
  },
  {
   "cell_type": "code",
   "execution_count": 41,
   "metadata": {},
   "outputs": [
    {
     "name": "stdout",
     "output_type": "stream",
     "text": [
      "                                                        min          median\n",
      "To station name                                                            \n",
      "North Shore Trail & Fort Duquesne Bridge           00:02:56        00:47:46\n",
      "Fort Duquesne Blvd & 7th St                        00:02:58        00:51:04\n",
      "Forbes Ave & Market Square                         00:03:09        00:13:45\n",
      "Liberty Ave & Stanwix St                           00:03:35        00:25:47\n",
      "12th St & Penn Ave                                 00:03:59 00:12:04.500000\n",
      "Ross St & Sixth Ave (Steel Plaza T Station)        00:04:06        00:17:32\n",
      "Federal St & E North Ave                           00:04:52 00:11:01.500000\n",
      "10th St & Penn Ave (David L. Lawrence Conventio... 00:05:15        00:15:50\n",
      "Third Ave & Wood St                                00:05:47        00:21:30\n",
      "Ridge Ave & Brighton Rd (CCAC)                     00:07:04        00:09:47\n",
      "Forbes Ave & Grant St                              00:07:14 00:08:29.500000\n",
      "21st St & Penn Ave                                 00:07:35        00:17:06\n",
      "17th St & Penn Ave                                 00:07:43        00:15:45\n",
      "First Ave & Smithfield St (Art Institute)          00:08:12        00:37:12\n",
      "First Ave & B St (T Station)                       00:08:26 00:55:14.500000\n",
      "Centre Ave & PPG Paints Arena                      00:09:26 00:55:37.500000\n",
      "Stevenson St & Forbes Ave                          00:11:44        00:18:03\n",
      "Open Streets West End                              00:20:52        00:21:51\n",
      "Healthy Ride Hub                                   00:23:59        00:26:12\n"
     ]
    }
   ],
   "source": [
    "grp = trimmed.groupby('To station name')\n",
    "times = grp['Tripduration'].agg(['min','median'])\n",
    "for c in 'min','median':\n",
    "    times[c] = pd.to_timedelta(times[c], unit='s')\n",
    "\n",
    "with pd.option_context(\"display.max_rows\",20):\n",
    "    print(times.sort_values('min'))"
   ]
  },
  {
   "cell_type": "markdown",
   "metadata": {},
   "source": [
    "## Weather analysis"
   ]
  },
  {
   "cell_type": "markdown",
   "metadata": {},
   "source": [
    "Could we use weather data to make a prediction for next year?"
   ]
  },
  {
   "cell_type": "code",
   "execution_count": 43,
   "metadata": {},
   "outputs": [
    {
     "data": {
      "text/html": [
       "<div>\n",
       "<style scoped>\n",
       "    .dataframe tbody tr th:only-of-type {\n",
       "        vertical-align: middle;\n",
       "    }\n",
       "\n",
       "    .dataframe tbody tr th {\n",
       "        vertical-align: top;\n",
       "    }\n",
       "\n",
       "    .dataframe thead th {\n",
       "        text-align: right;\n",
       "    }\n",
       "</style>\n",
       "<table border=\"1\" class=\"dataframe\">\n",
       "  <thead>\n",
       "    <tr style=\"text-align: right;\">\n",
       "      <th></th>\n",
       "      <th>Max TemperatureF</th>\n",
       "      <th>Mean TemperatureF</th>\n",
       "      <th>Min TemperatureF</th>\n",
       "      <th>Max Dew PointF</th>\n",
       "      <th>MeanDew PointF</th>\n",
       "      <th>...</th>\n",
       "      <th>Max Gust SpeedMPH</th>\n",
       "      <th>PrecipitationIn</th>\n",
       "      <th>CloudCover</th>\n",
       "      <th>Events</th>\n",
       "      <th>WindDirDegrees</th>\n",
       "    </tr>\n",
       "    <tr>\n",
       "      <th>Date</th>\n",
       "      <th></th>\n",
       "      <th></th>\n",
       "      <th></th>\n",
       "      <th></th>\n",
       "      <th></th>\n",
       "      <th></th>\n",
       "      <th></th>\n",
       "      <th></th>\n",
       "      <th></th>\n",
       "      <th></th>\n",
       "      <th></th>\n",
       "    </tr>\n",
       "  </thead>\n",
       "  <tbody>\n",
       "    <tr>\n",
       "      <th>2016-01-01</th>\n",
       "      <td>31</td>\n",
       "      <td>25</td>\n",
       "      <td>19</td>\n",
       "      <td>22</td>\n",
       "      <td>18</td>\n",
       "      <td>...</td>\n",
       "      <td>28</td>\n",
       "      <td>T</td>\n",
       "      <td>6</td>\n",
       "      <td>Snow</td>\n",
       "      <td>257</td>\n",
       "    </tr>\n",
       "    <tr>\n",
       "      <th>2016-01-02</th>\n",
       "      <td>32</td>\n",
       "      <td>26</td>\n",
       "      <td>20</td>\n",
       "      <td>23</td>\n",
       "      <td>19</td>\n",
       "      <td>...</td>\n",
       "      <td>32</td>\n",
       "      <td>0.00</td>\n",
       "      <td>2</td>\n",
       "      <td>NaN</td>\n",
       "      <td>260</td>\n",
       "    </tr>\n",
       "    <tr>\n",
       "      <th>2016-01-03</th>\n",
       "      <td>29</td>\n",
       "      <td>26</td>\n",
       "      <td>22</td>\n",
       "      <td>21</td>\n",
       "      <td>19</td>\n",
       "      <td>...</td>\n",
       "      <td>25</td>\n",
       "      <td>T</td>\n",
       "      <td>7</td>\n",
       "      <td>Snow</td>\n",
       "      <td>324</td>\n",
       "    </tr>\n",
       "    <tr>\n",
       "      <th>2016-01-04</th>\n",
       "      <td>31</td>\n",
       "      <td>27</td>\n",
       "      <td>22</td>\n",
       "      <td>24</td>\n",
       "      <td>19</td>\n",
       "      <td>...</td>\n",
       "      <td>23</td>\n",
       "      <td>T</td>\n",
       "      <td>6</td>\n",
       "      <td>Snow</td>\n",
       "      <td>355</td>\n",
       "    </tr>\n",
       "    <tr>\n",
       "      <th>...</th>\n",
       "      <td>...</td>\n",
       "      <td>...</td>\n",
       "      <td>...</td>\n",
       "      <td>...</td>\n",
       "      <td>...</td>\n",
       "      <td>...</td>\n",
       "      <td>...</td>\n",
       "      <td>...</td>\n",
       "      <td>...</td>\n",
       "      <td>...</td>\n",
       "      <td>...</td>\n",
       "    </tr>\n",
       "    <tr>\n",
       "      <th>2016-12-28</th>\n",
       "      <td>45</td>\n",
       "      <td>32</td>\n",
       "      <td>19</td>\n",
       "      <td>31</td>\n",
       "      <td>25</td>\n",
       "      <td>...</td>\n",
       "      <td>39</td>\n",
       "      <td>0.00</td>\n",
       "      <td>5</td>\n",
       "      <td>NaN</td>\n",
       "      <td>195</td>\n",
       "    </tr>\n",
       "    <tr>\n",
       "      <th>2016-12-29</th>\n",
       "      <td>35</td>\n",
       "      <td>33</td>\n",
       "      <td>30</td>\n",
       "      <td>27</td>\n",
       "      <td>23</td>\n",
       "      <td>...</td>\n",
       "      <td>35</td>\n",
       "      <td>T</td>\n",
       "      <td>6</td>\n",
       "      <td>Snow</td>\n",
       "      <td>281</td>\n",
       "    </tr>\n",
       "    <tr>\n",
       "      <th>2016-12-30</th>\n",
       "      <td>38</td>\n",
       "      <td>31</td>\n",
       "      <td>24</td>\n",
       "      <td>22</td>\n",
       "      <td>18</td>\n",
       "      <td>...</td>\n",
       "      <td>39</td>\n",
       "      <td>0.00</td>\n",
       "      <td>5</td>\n",
       "      <td>NaN</td>\n",
       "      <td>242</td>\n",
       "    </tr>\n",
       "    <tr>\n",
       "      <th>2016-12-31</th>\n",
       "      <td>40</td>\n",
       "      <td>32</td>\n",
       "      <td>23</td>\n",
       "      <td>24</td>\n",
       "      <td>21</td>\n",
       "      <td>...</td>\n",
       "      <td>36</td>\n",
       "      <td>0.00</td>\n",
       "      <td>5</td>\n",
       "      <td>NaN</td>\n",
       "      <td>256</td>\n",
       "    </tr>\n",
       "  </tbody>\n",
       "</table>\n",
       "<p>366 rows × 22 columns</p>\n",
       "</div>"
      ],
      "text/plain": [
       "            Max TemperatureF  Mean TemperatureF  Min TemperatureF  \\\n",
       "Date                                                                \n",
       "2016-01-01                31                 25                19   \n",
       "2016-01-02                32                 26                20   \n",
       "2016-01-03                29                 26                22   \n",
       "2016-01-04                31                 27                22   \n",
       "...                      ...                ...               ...   \n",
       "2016-12-28                45                 32                19   \n",
       "2016-12-29                35                 33                30   \n",
       "2016-12-30                38                 31                24   \n",
       "2016-12-31                40                 32                23   \n",
       "\n",
       "            Max Dew PointF  MeanDew PointF       ...        Max Gust SpeedMPH  \\\n",
       "Date                                             ...                            \n",
       "2016-01-01              22              18       ...                       28   \n",
       "2016-01-02              23              19       ...                       32   \n",
       "2016-01-03              21              19       ...                       25   \n",
       "2016-01-04              24              19       ...                       23   \n",
       "...                    ...             ...       ...                      ...   \n",
       "2016-12-28              31              25       ...                       39   \n",
       "2016-12-29              27              23       ...                       35   \n",
       "2016-12-30              22              18       ...                       39   \n",
       "2016-12-31              24              21       ...                       36   \n",
       "\n",
       "            PrecipitationIn  CloudCover  Events  WindDirDegrees  \n",
       "Date                                                             \n",
       "2016-01-01                T           6    Snow             257  \n",
       "2016-01-02             0.00           2     NaN             260  \n",
       "2016-01-03                T           7    Snow             324  \n",
       "2016-01-04                T           6    Snow             355  \n",
       "...                     ...         ...     ...             ...  \n",
       "2016-12-28             0.00           5     NaN             195  \n",
       "2016-12-29                T           6    Snow             281  \n",
       "2016-12-30             0.00           5     NaN             242  \n",
       "2016-12-31             0.00           5     NaN             256  \n",
       "\n",
       "[366 rows x 22 columns]"
      ]
     },
     "execution_count": 43,
     "metadata": {},
     "output_type": "execute_result"
    }
   ],
   "source": [
    "weather = pd.read_csv('../pittsburgh2016.csv', parse_dates=True, index_col='Date')\n",
    "weather.columns = weather.columns.str.strip()\n",
    "weather"
   ]
  },
  {
   "cell_type": "markdown",
   "metadata": {},
   "source": [
    "It certainly is cloudy most of the time."
   ]
  },
  {
   "cell_type": "code",
   "execution_count": 46,
   "metadata": {},
   "outputs": [
    {
     "name": "stdout",
     "output_type": "stream",
     "text": [
      "0     5\n",
      "1    21\n",
      "2    25\n",
      "3    35\n",
      "4    45\n",
      "5    52\n",
      "6    56\n",
      "7    66\n",
      "8    61\n",
      "Name: CloudCover, dtype: int64\n"
     ]
    }
   ],
   "source": [
    "with pd.option_context('display.max_rows',10):\n",
    "    cloudy = weather['CloudCover'].value_counts().sort_index()\n",
    "    print(cloudy)"
   ]
  },
  {
   "cell_type": "code",
   "execution_count": 47,
   "metadata": {},
   "outputs": [],
   "source": [
    "less_cloudy = weather['CloudCover'] <= 4"
   ]
  },
  {
   "cell_type": "code",
   "execution_count": 62,
   "metadata": {},
   "outputs": [
    {
     "data": {
      "text/html": [
       "<div>\n",
       "<style scoped>\n",
       "    .dataframe tbody tr th:only-of-type {\n",
       "        vertical-align: middle;\n",
       "    }\n",
       "\n",
       "    .dataframe tbody tr th {\n",
       "        vertical-align: top;\n",
       "    }\n",
       "\n",
       "    .dataframe thead th {\n",
       "        text-align: right;\n",
       "    }\n",
       "</style>\n",
       "<table border=\"1\" class=\"dataframe\">\n",
       "  <thead>\n",
       "    <tr style=\"text-align: right;\">\n",
       "      <th>From station id</th>\n",
       "      <th>1000</th>\n",
       "      <th>1001</th>\n",
       "      <th>1002</th>\n",
       "      <th>1003</th>\n",
       "      <th>1004</th>\n",
       "      <th>...</th>\n",
       "      <th>1048</th>\n",
       "      <th>1049</th>\n",
       "      <th>1050</th>\n",
       "      <th>1060</th>\n",
       "      <th>1061</th>\n",
       "    </tr>\n",
       "    <tr>\n",
       "      <th>Starttime</th>\n",
       "      <th></th>\n",
       "      <th></th>\n",
       "      <th></th>\n",
       "      <th></th>\n",
       "      <th></th>\n",
       "      <th></th>\n",
       "      <th></th>\n",
       "      <th></th>\n",
       "      <th></th>\n",
       "      <th></th>\n",
       "      <th></th>\n",
       "    </tr>\n",
       "  </thead>\n",
       "  <tbody>\n",
       "    <tr>\n",
       "      <th>2016-01-01</th>\n",
       "      <td>1.0</td>\n",
       "      <td>0.0</td>\n",
       "      <td>1.0</td>\n",
       "      <td>2.0</td>\n",
       "      <td>0.0</td>\n",
       "      <td>...</td>\n",
       "      <td>2.0</td>\n",
       "      <td>0.0</td>\n",
       "      <td>0.0</td>\n",
       "      <td>0.0</td>\n",
       "      <td>0.0</td>\n",
       "    </tr>\n",
       "    <tr>\n",
       "      <th>2016-01-02</th>\n",
       "      <td>2.0</td>\n",
       "      <td>2.0</td>\n",
       "      <td>0.0</td>\n",
       "      <td>0.0</td>\n",
       "      <td>0.0</td>\n",
       "      <td>...</td>\n",
       "      <td>0.0</td>\n",
       "      <td>0.0</td>\n",
       "      <td>0.0</td>\n",
       "      <td>0.0</td>\n",
       "      <td>0.0</td>\n",
       "    </tr>\n",
       "    <tr>\n",
       "      <th>2016-01-03</th>\n",
       "      <td>2.0</td>\n",
       "      <td>3.0</td>\n",
       "      <td>0.0</td>\n",
       "      <td>1.0</td>\n",
       "      <td>1.0</td>\n",
       "      <td>...</td>\n",
       "      <td>2.0</td>\n",
       "      <td>0.0</td>\n",
       "      <td>0.0</td>\n",
       "      <td>0.0</td>\n",
       "      <td>0.0</td>\n",
       "    </tr>\n",
       "    <tr>\n",
       "      <th>2016-01-04</th>\n",
       "      <td>0.0</td>\n",
       "      <td>0.0</td>\n",
       "      <td>2.0</td>\n",
       "      <td>1.0</td>\n",
       "      <td>0.0</td>\n",
       "      <td>...</td>\n",
       "      <td>0.0</td>\n",
       "      <td>2.0</td>\n",
       "      <td>0.0</td>\n",
       "      <td>0.0</td>\n",
       "      <td>0.0</td>\n",
       "    </tr>\n",
       "    <tr>\n",
       "      <th>...</th>\n",
       "      <td>...</td>\n",
       "      <td>...</td>\n",
       "      <td>...</td>\n",
       "      <td>...</td>\n",
       "      <td>...</td>\n",
       "      <td>...</td>\n",
       "      <td>...</td>\n",
       "      <td>...</td>\n",
       "      <td>...</td>\n",
       "      <td>...</td>\n",
       "      <td>...</td>\n",
       "    </tr>\n",
       "    <tr>\n",
       "      <th>2016-12-28</th>\n",
       "      <td>1.0</td>\n",
       "      <td>3.0</td>\n",
       "      <td>0.0</td>\n",
       "      <td>1.0</td>\n",
       "      <td>0.0</td>\n",
       "      <td>...</td>\n",
       "      <td>2.0</td>\n",
       "      <td>4.0</td>\n",
       "      <td>0.0</td>\n",
       "      <td>0.0</td>\n",
       "      <td>1.0</td>\n",
       "    </tr>\n",
       "    <tr>\n",
       "      <th>2016-12-29</th>\n",
       "      <td>1.0</td>\n",
       "      <td>2.0</td>\n",
       "      <td>0.0</td>\n",
       "      <td>0.0</td>\n",
       "      <td>0.0</td>\n",
       "      <td>...</td>\n",
       "      <td>0.0</td>\n",
       "      <td>2.0</td>\n",
       "      <td>0.0</td>\n",
       "      <td>0.0</td>\n",
       "      <td>0.0</td>\n",
       "    </tr>\n",
       "    <tr>\n",
       "      <th>2016-12-30</th>\n",
       "      <td>1.0</td>\n",
       "      <td>0.0</td>\n",
       "      <td>1.0</td>\n",
       "      <td>0.0</td>\n",
       "      <td>1.0</td>\n",
       "      <td>...</td>\n",
       "      <td>0.0</td>\n",
       "      <td>3.0</td>\n",
       "      <td>0.0</td>\n",
       "      <td>0.0</td>\n",
       "      <td>1.0</td>\n",
       "    </tr>\n",
       "    <tr>\n",
       "      <th>2016-12-31</th>\n",
       "      <td>0.0</td>\n",
       "      <td>1.0</td>\n",
       "      <td>0.0</td>\n",
       "      <td>0.0</td>\n",
       "      <td>0.0</td>\n",
       "      <td>...</td>\n",
       "      <td>0.0</td>\n",
       "      <td>1.0</td>\n",
       "      <td>0.0</td>\n",
       "      <td>0.0</td>\n",
       "      <td>0.0</td>\n",
       "    </tr>\n",
       "  </tbody>\n",
       "</table>\n",
       "<p>366 rows × 53 columns</p>\n",
       "</div>"
      ],
      "text/plain": [
       "From station id  1000  1001  1002  1003  1004  ...   1048  1049  1050  1060  \\\n",
       "Starttime                                      ...                            \n",
       "2016-01-01        1.0   0.0   1.0   2.0   0.0  ...    2.0   0.0   0.0   0.0   \n",
       "2016-01-02        2.0   2.0   0.0   0.0   0.0  ...    0.0   0.0   0.0   0.0   \n",
       "2016-01-03        2.0   3.0   0.0   1.0   1.0  ...    2.0   0.0   0.0   0.0   \n",
       "2016-01-04        0.0   0.0   2.0   1.0   0.0  ...    0.0   2.0   0.0   0.0   \n",
       "...               ...   ...   ...   ...   ...  ...    ...   ...   ...   ...   \n",
       "2016-12-28        1.0   3.0   0.0   1.0   0.0  ...    2.0   4.0   0.0   0.0   \n",
       "2016-12-29        1.0   2.0   0.0   0.0   0.0  ...    0.0   2.0   0.0   0.0   \n",
       "2016-12-30        1.0   0.0   1.0   0.0   1.0  ...    0.0   3.0   0.0   0.0   \n",
       "2016-12-31        0.0   1.0   0.0   0.0   0.0  ...    0.0   1.0   0.0   0.0   \n",
       "\n",
       "From station id  1061  \n",
       "Starttime              \n",
       "2016-01-01        0.0  \n",
       "2016-01-02        0.0  \n",
       "2016-01-03        0.0  \n",
       "2016-01-04        0.0  \n",
       "...               ...  \n",
       "2016-12-28        1.0  \n",
       "2016-12-29        0.0  \n",
       "2016-12-30        1.0  \n",
       "2016-12-31        0.0  \n",
       "\n",
       "[366 rows x 53 columns]"
      ]
     },
     "execution_count": 62,
     "metadata": {},
     "output_type": "execute_result"
    }
   ],
   "source": [
    "daily_rides = rides2016.pivot_table(\n",
    "                index = pd.Grouper(key='Starttime', freq='D'),\n",
    "                columns = 'From station id',\n",
    "                values = 'Trip id',\n",
    "                aggfunc = 'count'\n",
    ").fillna(0.0)\n",
    "daily_rides"
   ]
  },
  {
   "cell_type": "code",
   "execution_count": 56,
   "metadata": {},
   "outputs": [],
   "source": [
    "on_cloudy_days = daily_rides.loc[~less_cloudy]\n",
    "on_sunny_days = daily_rides.loc[less_cloudy]"
   ]
  },
  {
   "cell_type": "markdown",
   "metadata": {},
   "source": [
    "Certainly there are more rides on sunny days, right?"
   ]
  },
  {
   "cell_type": "code",
   "execution_count": 64,
   "metadata": {},
   "outputs": [
    {
     "data": {
      "text/plain": [
       "230.67938931297709"
      ]
     },
     "execution_count": 64,
     "metadata": {},
     "output_type": "execute_result"
    }
   ],
   "source": [
    "all_sunny_rides = on_sunny_days.sum(axis='columns')\n",
    "all_sunny_rides.mean()"
   ]
  },
  {
   "cell_type": "code",
   "execution_count": 65,
   "metadata": {},
   "outputs": [
    {
     "data": {
      "text/plain": [
       "188.14893617021278"
      ]
     },
     "execution_count": 65,
     "metadata": {},
     "output_type": "execute_result"
    }
   ],
   "source": [
    "all_cloudy_rides = on_cloudy_days.sum(axis='columns')\n",
    "all_cloudy_rides.mean()"
   ]
  },
  {
   "cell_type": "markdown",
   "metadata": {},
   "source": [
    "### Statistical Tests"
   ]
  },
  {
   "cell_type": "markdown",
   "metadata": {},
   "source": [
    "<img src='https://raw.githubusercontent.com/donnemartin/data-science-ipython-notebooks/master/images/scipy.png'>\n",
    "\n",
    "SciPy (pronounced “Sigh Pie”) is open-source software for mathematics, science, and engineering.\n",
    "\n",
    "http://www.scipy.org"
   ]
  },
  {
   "cell_type": "code",
   "execution_count": 69,
   "metadata": {},
   "outputs": [
    {
     "data": {
      "text/plain": [
       "2.9185219580764517"
      ]
     },
     "execution_count": 69,
     "metadata": {},
     "output_type": "execute_result"
    }
   ],
   "source": [
    "from scipy import stats\n",
    "\n",
    "statistic, critical_values, significance = stats.anderson_ksamp((all_cloudy_rides, all_sunny_rides))\n",
    "statistic"
   ]
  },
  {
   "cell_type": "markdown",
   "metadata": {},
   "source": [
    "NULL Hypothesis is ***NOT VALID*** at 97.5% confidence because statistic is greater than 2.5 critical value.\n",
    "\n",
    "<b><big><big>The two distributions are not the same</big></big></b>"
   ]
  },
  {
   "cell_type": "code",
   "execution_count": 75,
   "metadata": {},
   "outputs": [
    {
     "data": {
      "text/plain": [
       "1.0     3.752\n",
       "2.5     2.718\n",
       "5.0     1.961\n",
       "10.0    1.226\n",
       "25.0    0.325\n",
       "dtype: float64"
      ]
     },
     "execution_count": 75,
     "metadata": {},
     "output_type": "execute_result"
    }
   ],
   "source": [
    "pd.Series(dict(zip([25, 10, 5, 2.5, 1], critical_values))).sort_index()"
   ]
  },
  {
   "cell_type": "markdown",
   "metadata": {},
   "source": [
    "### Remove trends"
   ]
  },
  {
   "cell_type": "markdown",
   "metadata": {},
   "source": [
    "<img src='http://www.statsmodels.org/stable/_static/statsmodels_hybi_banner.png'>\n",
    "\n",
    "R-like stuff in Python.\n",
    "\n",
    "http://www.statsmodels.org"
   ]
  },
  {
   "cell_type": "code",
   "execution_count": 82,
   "metadata": {},
   "outputs": [],
   "source": [
    "import statsmodels.tsa.stattools as ts\n",
    "from statsmodels.tsa.seasonal import seasonal_decompose\n",
    "\n",
    "import matplotlib.pyplot as plt"
   ]
  },
  {
   "cell_type": "code",
   "execution_count": 84,
   "metadata": {},
   "outputs": [],
   "source": [
    "all_daily_rides = daily_rides.sum(axis='columns')\n",
    "\n",
    "daily_rides_decomposition = seasonal_decompose(daily_rides.sum(axis='columns'), freq=14)"
   ]
  },
  {
   "cell_type": "code",
   "execution_count": 85,
   "metadata": {},
   "outputs": [
    {
     "data": {
      "text/plain": [
       "<matplotlib.axes._subplots.AxesSubplot at 0x125cc94a8>"
      ]
     },
     "execution_count": 85,
     "metadata": {},
     "output_type": "execute_result"
    },
    {
     "data": {
      "image/png": "[encoded data removed]",
      "text/plain": [
       "<matplotlib.figure.Figure at 0x10cc39748>"
      ]
     },
     "metadata": {},
     "output_type": "display_data"
    }
   ],
   "source": [
    "fig,axes = plt.subplots(nrows=4, figsize=(17,8))\n",
    "fig.tight_layout()\n",
    "\n",
    "all_daily_rides.plot.line(ax=axes[0], label='Original', legend=True)\n",
    "daily_rides_decomposition.trend.plot.line(ax=axes[1], label='MA Trend', legend=True)\n",
    "daily_rides_decomposition.seasonal.plot.line(ax=axes[2], label='Seasonal Trend', legend=True)\n",
    "daily_rides_decomposition.resid.plot.line(ax=axes[3], label='Residual', legend=True)"
   ]
  },
  {
   "cell_type": "code",
   "execution_count": 93,
   "metadata": {},
   "outputs": [],
   "source": [
    "def z_score(s):\n",
    "    return (s - s.mean()) / s.std()\n",
    "\n",
    "z = z_score(daily_rides_decomposition.resid)\n",
    "popular_days = daily_rides.loc[z > 1.8]"
   ]
  },
  {
   "cell_type": "code",
   "execution_count": 95,
   "metadata": {},
   "outputs": [
    {
     "name": "stdout",
     "output_type": "stream",
     "text": [
      "From station id  1000  1001  ...   1060  1061\n",
      "Starttime                    ...             \n",
      "2016-02-20       18.0  33.0  ...    0.0   0.0\n",
      "2016-02-28       17.0  26.0  ...    0.0   0.0\n",
      "2016-03-09       22.0  16.0  ...    0.0   0.0\n",
      "2016-03-12       16.0  13.0  ...    0.0   0.0\n",
      "2016-03-26       19.0  12.0  ...    0.0   0.0\n",
      "2016-03-27       35.0  34.0  ...    0.0   0.0\n",
      "2016-04-16       33.0  22.0  ...    0.0   0.0\n",
      "2016-04-17       43.0  41.0  ...    0.0   0.0\n",
      "2016-05-20       40.0  33.0  ...    0.0   0.0\n",
      "2016-05-29       37.0  66.0  ...    0.0   0.0\n",
      "2016-06-26       23.0  82.0  ...    0.0   0.0\n",
      "2016-07-09       56.0  46.0  ...    0.0   0.0\n",
      "2016-07-16       29.0  23.0  ...    0.0   0.0\n",
      "2016-07-31       28.0  59.0  ...   29.0   0.0\n",
      "2016-09-25       31.0  34.0  ...    0.0   0.0\n",
      "2016-11-18       11.0  11.0  ...    0.0   2.0\n",
      "\n",
      "[16 rows x 53 columns]\n"
     ]
    }
   ],
   "source": [
    "with pd.option_context('display.max_rows',20, 'display.max_columns', 5):\n",
    "    print(popular_days)"
   ]
  },
  {
   "cell_type": "markdown",
   "metadata": {},
   "source": [
    "And keep going..."
   ]
  }
 ],
 "metadata": {
  "kernelspec": {
   "display_name": "Python 3",
   "language": "python",
   "name": "python3"
  },
  "language_info": {
   "codemirror_mode": {
    "name": "ipython",
    "version": 3
   },
   "file_extension": ".py",
   "mimetype": "text/x-python",
   "name": "python",
   "nbconvert_exporter": "python",
   "pygments_lexer": "ipython3",
   "version": "3.6.3"
  }
 },
 "nbformat": 4,
 "nbformat_minor": 2
}
