{
 "cells": [
  {
   "cell_type": "markdown",
   "metadata": {},
   "source": [
    "# Simulation of station occupancy in 2016"
   ]
  },
  {
   "cell_type": "code",
   "execution_count": 1,
   "metadata": {
    "collapsed": true
   },
   "outputs": [],
   "source": [
    "import pandas as pd\n",
    "import xarray as xr\n",
    "import numpy as np\n",
    "%matplotlib inline"
   ]
  },
  {
   "cell_type": "markdown",
   "metadata": {},
   "source": [
    "## rides"
   ]
  },
  {
   "cell_type": "markdown",
   "metadata": {},
   "source": [
    "Ignore the OpenStreets temporary station."
   ]
  },
  {
   "cell_type": "code",
   "execution_count": 2,
   "metadata": {
    "collapsed": true
   },
   "outputs": [],
   "source": [
    "rides = pd.read_csv('rides2016.csv', parse_dates=['Starttime','Stoptime'])\n",
    "\n",
    "missing = (rides['From station id'] == 1060) | (rides['To station id'] == 1060)\n",
    "rides = rides.loc[~missing].copy()"
   ]
  },
  {
   "cell_type": "markdown",
   "metadata": {},
   "source": [
    "## stations"
   ]
  },
  {
   "cell_type": "code",
   "execution_count": 4,
   "metadata": {},
   "outputs": [
    {
     "data": {
      "text/plain": [
       "<matplotlib.axes._subplots.AxesSubplot at 0x112b28da0>"
      ]
     },
     "execution_count": 4,
     "metadata": {},
     "output_type": "execute_result"
    },
    {
     "data": {
      "image/png": "[encoded data removed]",
      "text/plain": [
       "<matplotlib.figure.Figure at 0x10aec0e10>"
      ]
     },
     "metadata": {},
     "output_type": "display_data"
    }
   ],
   "source": [
    "stations = pd.read_csv('2017-Q1/HealthyRideStations2017.csv', index_col=0)\n",
    "stations['# of Racks'].plot.box()"
   ]
  },
  {
   "cell_type": "code",
   "execution_count": 18,
   "metadata": {},
   "outputs": [
    {
     "data": {
      "text/html": [
       "<div>\n",
       "<style>\n",
       "    .dataframe thead tr:only-child th {\n",
       "        text-align: right;\n",
       "    }\n",
       "\n",
       "    .dataframe thead th {\n",
       "        text-align: left;\n",
       "    }\n",
       "\n",
       "    .dataframe tbody tr th {\n",
       "        vertical-align: top;\n",
       "    }\n",
       "</style>\n",
       "<table border=\"1\" class=\"dataframe\">\n",
       "  <thead>\n",
       "    <tr style=\"text-align: right;\">\n",
       "      <th></th>\n",
       "      <th>Station Name</th>\n",
       "      <th># of Racks</th>\n",
       "      <th>Latitude</th>\n",
       "      <th>Longitude</th>\n",
       "    </tr>\n",
       "    <tr>\n",
       "      <th>Station #</th>\n",
       "      <th></th>\n",
       "      <th></th>\n",
       "      <th></th>\n",
       "      <th></th>\n",
       "    </tr>\n",
       "  </thead>\n",
       "  <tbody>\n",
       "    <tr>\n",
       "      <th>1008</th>\n",
       "      <td>Centre Ave &amp; PPG Paints Arena</td>\n",
       "      <td>35</td>\n",
       "      <td>40.440368</td>\n",
       "      <td>-79.988636</td>\n",
       "    </tr>\n",
       "    <tr>\n",
       "      <th>1012</th>\n",
       "      <td>North Shore Trail &amp; Ft Duquesne Bridge</td>\n",
       "      <td>35</td>\n",
       "      <td>40.445834</td>\n",
       "      <td>-80.008882</td>\n",
       "    </tr>\n",
       "    <tr>\n",
       "      <th>1006</th>\n",
       "      <td>Ross St &amp; Sixth Ave (Steel Plaza T Station)</td>\n",
       "      <td>21</td>\n",
       "      <td>40.440193</td>\n",
       "      <td>-79.995084</td>\n",
       "    </tr>\n",
       "    <tr>\n",
       "      <th>1018</th>\n",
       "      <td>37th St &amp; Butler St</td>\n",
       "      <td>21</td>\n",
       "      <td>40.466103</td>\n",
       "      <td>-79.964628</td>\n",
       "    </tr>\n",
       "  </tbody>\n",
       "</table>\n",
       "</div>"
      ],
      "text/plain": [
       "                                          Station Name  # of Racks   Latitude  \\\n",
       "Station #                                                                       \n",
       "1008                     Centre Ave & PPG Paints Arena          35  40.440368   \n",
       "1012            North Shore Trail & Ft Duquesne Bridge          35  40.445834   \n",
       "1006       Ross St & Sixth Ave (Steel Plaza T Station)          21  40.440193   \n",
       "1018                               37th St & Butler St          21  40.466103   \n",
       "\n",
       "           Longitude  \n",
       "Station #             \n",
       "1008      -79.988636  \n",
       "1012      -80.008882  \n",
       "1006      -79.995084  \n",
       "1018      -79.964628  "
      ]
     },
     "execution_count": 18,
     "metadata": {},
     "output_type": "execute_result"
    }
   ],
   "source": [
    "stations.nlargest(4, '# of Racks')"
   ]
  },
  {
   "cell_type": "code",
   "execution_count": 19,
   "metadata": {},
   "outputs": [
    {
     "data": {
      "text/html": [
       "<div>\n",
       "<style>\n",
       "    .dataframe thead tr:only-child th {\n",
       "        text-align: right;\n",
       "    }\n",
       "\n",
       "    .dataframe thead th {\n",
       "        text-align: left;\n",
       "    }\n",
       "\n",
       "    .dataframe tbody tr th {\n",
       "        vertical-align: top;\n",
       "    }\n",
       "</style>\n",
       "<table border=\"1\" class=\"dataframe\">\n",
       "  <thead>\n",
       "    <tr style=\"text-align: right;\">\n",
       "      <th></th>\n",
       "      <th>Station Name</th>\n",
       "      <th># of Racks</th>\n",
       "      <th>Latitude</th>\n",
       "      <th>Longitude</th>\n",
       "    </tr>\n",
       "    <tr>\n",
       "      <th>Station #</th>\n",
       "      <th></th>\n",
       "      <th></th>\n",
       "      <th></th>\n",
       "      <th></th>\n",
       "    </tr>\n",
       "  </thead>\n",
       "  <tbody>\n",
       "    <tr>\n",
       "      <th>1050</th>\n",
       "      <td>Healthy Ride Hub</td>\n",
       "      <td>2</td>\n",
       "      <td>40.461817</td>\n",
       "      <td>-79.968002</td>\n",
       "    </tr>\n",
       "    <tr>\n",
       "      <th>1061</th>\n",
       "      <td>33rd St and Penn Ave</td>\n",
       "      <td>2</td>\n",
       "      <td>40.462026</td>\n",
       "      <td>-79.968114</td>\n",
       "    </tr>\n",
       "    <tr>\n",
       "      <th>1015</th>\n",
       "      <td>Federal St &amp; E North Ave</td>\n",
       "      <td>12</td>\n",
       "      <td>40.455091</td>\n",
       "      <td>-80.006347</td>\n",
       "    </tr>\n",
       "    <tr>\n",
       "      <th>1030</th>\n",
       "      <td>S Euclid Ave &amp; Centre Ave</td>\n",
       "      <td>12</td>\n",
       "      <td>40.458933</td>\n",
       "      <td>-79.929123</td>\n",
       "    </tr>\n",
       "  </tbody>\n",
       "</table>\n",
       "</div>"
      ],
      "text/plain": [
       "                        Station Name  # of Racks   Latitude  Longitude\n",
       "Station #                                                             \n",
       "1050                Healthy Ride Hub           2  40.461817 -79.968002\n",
       "1061            33rd St and Penn Ave           2  40.462026 -79.968114\n",
       "1015        Federal St & E North Ave          12  40.455091 -80.006347\n",
       "1030       S Euclid Ave & Centre Ave          12  40.458933 -79.929123"
      ]
     },
     "execution_count": 19,
     "metadata": {},
     "output_type": "execute_result"
    }
   ],
   "source": [
    "stations.nsmallest(4, '# of Racks')"
   ]
  },
  {
   "cell_type": "markdown",
   "metadata": {},
   "source": [
    "## initial conditions"
   ]
  },
  {
   "cell_type": "markdown",
   "metadata": {},
   "source": [
    "There are a total of 500 bikes deployed by Healthy Ride. Let's distribute them amonst the stations.\n",
    "\n",
    "Each station can store a different number of bikes, so be certain not to exceed that.\n",
    "\n",
    "Let's allow stations to fill in our initial conditions."
   ]
  },
  {
   "cell_type": "code",
   "execution_count": 24,
   "metadata": {},
   "outputs": [
    {
     "name": "stdout",
     "output_type": "stream",
     "text": [
      "5 full stations\n"
     ]
    },
    {
     "data": {
      "text/plain": [
       "<matplotlib.axes._subplots.AxesSubplot at 0x112c7ce10>"
      ]
     },
     "execution_count": 24,
     "metadata": {},
     "output_type": "execute_result"
    },
    {
     "data": {
      "image/png": "[encoded data removed]",
      "text/plain": [
       "<matplotlib.figure.Figure at 0x10a5360f0>"
      ]
     },
     "metadata": {},
     "output_type": "display_data"
    }
   ],
   "source": [
    "from itertools import cycle\n",
    "import random\n",
    "\n",
    "def initial_conditions(stations, total_bikes=500):\n",
    "    init = (stations['# of Racks'] * (np.random.uniform(size=stations.shape[0]) - 0.2)).astype(np.int)\n",
    "    init.name = '# of Bikes'\n",
    "\n",
    "    total_bikes -= init.sum()\n",
    "\n",
    "    for station in cycle(np.random.permutation(init.index)):\n",
    "        n_racks = stations.loc[station, \"# of Racks\"]\n",
    "        inc = random.randint(0, 5)\n",
    "        new_count = init[station] + inc\n",
    "        if new_count > n_racks:\n",
    "            continue\n",
    "        elif total_bikes <= 5:\n",
    "            break\n",
    "        else:\n",
    "            init[station] = new_count\n",
    "            total_bikes -= inc\n",
    "    \n",
    "    return init\n",
    "\n",
    "start = initial_conditions(stations)\n",
    "print('{} full stations'.format((start == stations['# of Racks']).sum()))\n",
    "start.plot.box()"
   ]
  },
  {
   "cell_type": "markdown",
   "metadata": {},
   "source": [
    "## bike counts in time"
   ]
  },
  {
   "cell_type": "markdown",
   "metadata": {},
   "source": [
    "We'll use historic ride data to\n",
    "1. Decide a frequency over which to count (Hourly, Daily, Weekly, etc.)\n",
    "1. Count the number of bikes leaving a station as a negative number\n",
    "1. Count the number of bikes arriving at a station as a positive number\n",
    "1. The sum of the two is the change in occupancy over the frequency"
   ]
  },
  {
   "cell_type": "code",
   "execution_count": 8,
   "metadata": {
    "collapsed": true
   },
   "outputs": [],
   "source": [
    "def make_counts(rides, frequency):\n",
    "\n",
    "    outgoing = (\n",
    "        -rides.set_index('Starttime').sort_index()\n",
    "         .groupby(['From station id', pd.Grouper(freq=frequency)])['Trip id'].count()\n",
    "         .unstack('From station id')\n",
    "    )\n",
    "              \n",
    "    incoming = (\n",
    "        rides.set_index('Stoptime').sort_index()\n",
    "         .groupby(['To station id', pd.Grouper(freq=frequency)])['Trip id'].count()\n",
    "         .unstack('To station id')\n",
    "    )\n",
    "\n",
    "    delta_bikes = (outgoing + incoming).fillna(0)\n",
    "    \n",
    "    return delta_bikes"
   ]
  },
  {
   "cell_type": "markdown",
   "metadata": {},
   "source": [
    "A full simulation is\n",
    "1. Randomly distribute bikes to the stations\n",
    "1. Add the change in occupancy over time to the initial distribution\n",
    "1. Determine the stations that have exceeded their capacity at any time over the simulation\n",
    "1. Return the station ids that filled"
   ]
  },
  {
   "cell_type": "code",
   "execution_count": 12,
   "metadata": {
    "collapsed": true
   },
   "outputs": [],
   "source": [
    "def run(rides, seed=None):\n",
    "    if seed:\n",
    "        np.random.seed(seed)\n",
    "        \n",
    "    start = initial_conditions(stations)\n",
    "    \n",
    "    exceeded = rides.add(start, axis='columns').ge(stations['# of Racks'], axis='columns')\n",
    "\n",
    "    hot = stations.loc[exceeded.any(axis='rows')].reset_index()['Station #']\n",
    "    return hot"
   ]
  },
  {
   "cell_type": "markdown",
   "metadata": {},
   "source": [
    "Let's simulate daily counts in April 2016.\n",
    "\n",
    "Which stations have a high likely hood of filling up each day?"
   ]
  },
  {
   "cell_type": "code",
   "execution_count": 26,
   "metadata": {},
   "outputs": [
    {
     "data": {
      "text/html": [
       "<div>\n",
       "<style>\n",
       "    .dataframe thead tr:only-child th {\n",
       "        text-align: right;\n",
       "    }\n",
       "\n",
       "    .dataframe thead th {\n",
       "        text-align: left;\n",
       "    }\n",
       "\n",
       "    .dataframe tbody tr th {\n",
       "        vertical-align: top;\n",
       "    }\n",
       "</style>\n",
       "<table border=\"1\" class=\"dataframe\">\n",
       "  <thead>\n",
       "    <tr style=\"text-align: right;\">\n",
       "      <th></th>\n",
       "      <th>Station Name</th>\n",
       "      <th># of Racks</th>\n",
       "      <th>Latitude</th>\n",
       "      <th>Longitude</th>\n",
       "      <th>probability filled</th>\n",
       "    </tr>\n",
       "    <tr>\n",
       "      <th>Station #</th>\n",
       "      <th></th>\n",
       "      <th></th>\n",
       "      <th></th>\n",
       "      <th></th>\n",
       "      <th></th>\n",
       "    </tr>\n",
       "  </thead>\n",
       "  <tbody>\n",
       "    <tr>\n",
       "      <th>1050</th>\n",
       "      <td>Healthy Ride Hub</td>\n",
       "      <td>2</td>\n",
       "      <td>40.461817</td>\n",
       "      <td>-79.968002</td>\n",
       "      <td>1.000</td>\n",
       "    </tr>\n",
       "    <tr>\n",
       "      <th>1010</th>\n",
       "      <td>10th St &amp; Penn Ave (David L. Lawrence Conventi...</td>\n",
       "      <td>15</td>\n",
       "      <td>40.444665</td>\n",
       "      <td>-79.995798</td>\n",
       "      <td>0.873</td>\n",
       "    </tr>\n",
       "    <tr>\n",
       "      <th>1016</th>\n",
       "      <td>17th St &amp; Penn Ave</td>\n",
       "      <td>19</td>\n",
       "      <td>40.449631</td>\n",
       "      <td>-79.985893</td>\n",
       "      <td>0.725</td>\n",
       "    </tr>\n",
       "    <tr>\n",
       "      <th>1019</th>\n",
       "      <td>42nd St &amp; Butler St</td>\n",
       "      <td>17</td>\n",
       "      <td>40.470212</td>\n",
       "      <td>-79.960663</td>\n",
       "      <td>0.702</td>\n",
       "    </tr>\n",
       "    <tr>\n",
       "      <th>1000</th>\n",
       "      <td>Liberty Ave &amp; Stanwix St</td>\n",
       "      <td>16</td>\n",
       "      <td>40.441326</td>\n",
       "      <td>-80.004679</td>\n",
       "      <td>0.701</td>\n",
       "    </tr>\n",
       "    <tr>\n",
       "      <th>1026</th>\n",
       "      <td>Penn Ave &amp; S Whitfield St</td>\n",
       "      <td>13</td>\n",
       "      <td>40.461603</td>\n",
       "      <td>-79.925624</td>\n",
       "      <td>0.680</td>\n",
       "    </tr>\n",
       "    <tr>\n",
       "      <th>1017</th>\n",
       "      <td>21st St &amp; Penn Ave</td>\n",
       "      <td>18</td>\n",
       "      <td>40.451742</td>\n",
       "      <td>-79.983217</td>\n",
       "      <td>0.658</td>\n",
       "    </tr>\n",
       "    <tr>\n",
       "      <th>1001</th>\n",
       "      <td>Forbes Ave &amp; Market Square</td>\n",
       "      <td>19</td>\n",
       "      <td>40.440877</td>\n",
       "      <td>-80.003080</td>\n",
       "      <td>0.651</td>\n",
       "    </tr>\n",
       "    <tr>\n",
       "      <th>1013</th>\n",
       "      <td>Isabella St &amp; Federal St (PNC Park)</td>\n",
       "      <td>15</td>\n",
       "      <td>40.447166</td>\n",
       "      <td>-80.003566</td>\n",
       "      <td>0.639</td>\n",
       "    </tr>\n",
       "    <tr>\n",
       "      <th>1048</th>\n",
       "      <td>S 18th St &amp; Sidney St</td>\n",
       "      <td>16</td>\n",
       "      <td>40.429338</td>\n",
       "      <td>-79.980684</td>\n",
       "      <td>0.631</td>\n",
       "    </tr>\n",
       "  </tbody>\n",
       "</table>\n",
       "</div>"
      ],
      "text/plain": [
       "                                                Station Name  # of Racks  \\\n",
       "Station #                                                                  \n",
       "1050                                        Healthy Ride Hub           2   \n",
       "1010       10th St & Penn Ave (David L. Lawrence Conventi...          15   \n",
       "1016                                      17th St & Penn Ave          19   \n",
       "1019                                     42nd St & Butler St          17   \n",
       "1000                                Liberty Ave & Stanwix St          16   \n",
       "1026                               Penn Ave & S Whitfield St          13   \n",
       "1017                                      21st St & Penn Ave          18   \n",
       "1001                              Forbes Ave & Market Square          19   \n",
       "1013                     Isabella St & Federal St (PNC Park)          15   \n",
       "1048                                   S 18th St & Sidney St          16   \n",
       "\n",
       "            Latitude  Longitude  probability filled  \n",
       "Station #                                            \n",
       "1050       40.461817 -79.968002               1.000  \n",
       "1010       40.444665 -79.995798               0.873  \n",
       "1016       40.449631 -79.985893               0.725  \n",
       "1019       40.470212 -79.960663               0.702  \n",
       "1000       40.441326 -80.004679               0.701  \n",
       "1026       40.461603 -79.925624               0.680  \n",
       "1017       40.451742 -79.983217               0.658  \n",
       "1001       40.440877 -80.003080               0.651  \n",
       "1013       40.447166 -80.003566               0.639  \n",
       "1048       40.429338 -79.980684               0.631  "
      ]
     },
     "execution_count": 26,
     "metadata": {},
     "output_type": "execute_result"
    }
   ],
   "source": [
    "daily = make_counts(rides, 'D').loc['Apr 2016']\n",
    "\n",
    "hot_spots = []\n",
    "n_simulations = 1000\n",
    "for _ in range(n_simulations):\n",
    "    hot_spots.append(run(daily))\n",
    "\n",
    "hot_spots = pd.concat(hot_spots).value_counts() / n_simulations\n",
    "hot_spots.name = 'probability filled'\n",
    "stations.join(hot_spots).nlargest(10, 'probability filled')"
   ]
  }
 ],
 "metadata": {
  "kernelspec": {
   "display_name": "Python [conda env:bikes]",
   "language": "python",
   "name": "conda-env-bikes-py"
  },
  "language_info": {
   "codemirror_mode": {
    "name": "ipython",
    "version": 3
   },
   "file_extension": ".py",
   "mimetype": "text/x-python",
   "name": "python",
   "nbconvert_exporter": "python",
   "pygments_lexer": "ipython3",
   "version": "3.6.2"
  }
 },
 "nbformat": 4,
 "nbformat_minor": 2
}
