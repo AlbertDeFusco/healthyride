{
 "cells": [
  {
   "cell_type": "markdown",
   "metadata": {},
   "source": [
    "# Table of Contents\n",
    "* [Healthy Ride](#Healthy-Ride)\n",
    "\t* [Rides from 2016](#Rides-from-2016)\n",
    "\t* [Stations](#Stations)\n",
    "\t* [cleaning](#cleaning)\n",
    "\t* [Ride difficulty](#Ride-difficulty)\n",
    "\t\t* [elevation](#elevation)\n",
    "\t\t* [distance](#distance)\n",
    "\t\t* [grade](#grade)\n",
    "\t\t* [outliers](#outliers)\n",
    "\t* [Google Distance Matrix](#Google-Distance-Matrix)\n",
    "* [Datetime](#Datetime)\n"
   ]
  },
  {
   "cell_type": "markdown",
   "metadata": {},
   "source": [
    "# Healthy Ride"
   ]
  },
  {
   "cell_type": "markdown",
   "metadata": {},
   "source": [
    "## Rides from 2016"
   ]
  },
  {
   "cell_type": "code",
   "execution_count": 1,
   "metadata": {
    "collapsed": true
   },
   "outputs": [],
   "source": [
    "import numpy as np\n",
    "import pandas as pd\n",
    "import googlemaps\n",
    "from my_secrets.keys import google_dist, google_elev, google_gmap\n",
    "import matplotlib.pyplot as plt\n",
    "\n",
    "%matplotlib inline\n",
    "pd.options.display.max_rows = 5"
   ]
  },
  {
   "cell_type": "code",
   "execution_count": 2,
   "metadata": {},
   "outputs": [
    {
     "data": {
      "text/html": [
       "<div>\n",
       "<style>\n",
       "    .dataframe thead tr:only-child th {\n",
       "        text-align: right;\n",
       "    }\n",
       "\n",
       "    .dataframe thead th {\n",
       "        text-align: left;\n",
       "    }\n",
       "\n",
       "    .dataframe tbody tr th {\n",
       "        vertical-align: top;\n",
       "    }\n",
       "</style>\n",
       "<table border=\"1\" class=\"dataframe\">\n",
       "  <thead>\n",
       "    <tr style=\"text-align: right;\">\n",
       "      <th></th>\n",
       "      <th>Trip id</th>\n",
       "      <th>Starttime</th>\n",
       "      <th>Stoptime</th>\n",
       "      <th>Bikeid</th>\n",
       "      <th>Tripduration</th>\n",
       "      <th>From station id</th>\n",
       "      <th>From station name</th>\n",
       "      <th>To station id</th>\n",
       "      <th>To station name</th>\n",
       "      <th>Usertype</th>\n",
       "    </tr>\n",
       "  </thead>\n",
       "  <tbody>\n",
       "    <tr>\n",
       "      <th>0</th>\n",
       "      <td>15335599</td>\n",
       "      <td>1/1/2016 1:44</td>\n",
       "      <td>1/1/2016 2:01</td>\n",
       "      <td>70294</td>\n",
       "      <td>1068</td>\n",
       "      <td>1026</td>\n",
       "      <td>Penn Ave &amp; S Whitfield St</td>\n",
       "      <td>1032</td>\n",
       "      <td>Walnut St &amp; College St</td>\n",
       "      <td>NaN</td>\n",
       "    </tr>\n",
       "    <tr>\n",
       "      <th>1</th>\n",
       "      <td>15335629</td>\n",
       "      <td>1/1/2016 2:39</td>\n",
       "      <td>1/1/2016 2:53</td>\n",
       "      <td>70360</td>\n",
       "      <td>892</td>\n",
       "      <td>1029</td>\n",
       "      <td>Alder St &amp; S Highland Ave</td>\n",
       "      <td>1021</td>\n",
       "      <td>Taylor St &amp; Liberty Ave</td>\n",
       "      <td>NaN</td>\n",
       "    </tr>\n",
       "    <tr>\n",
       "      <th>...</th>\n",
       "      <td>...</td>\n",
       "      <td>...</td>\n",
       "      <td>...</td>\n",
       "      <td>...</td>\n",
       "      <td>...</td>\n",
       "      <td>...</td>\n",
       "      <td>...</td>\n",
       "      <td>...</td>\n",
       "      <td>...</td>\n",
       "      <td>...</td>\n",
       "    </tr>\n",
       "    <tr>\n",
       "      <th>76417</th>\n",
       "      <td>25722578</td>\n",
       "      <td>12/31/2016 16:24</td>\n",
       "      <td>12/31/2016 16:45</td>\n",
       "      <td>70116</td>\n",
       "      <td>1293</td>\n",
       "      <td>1017</td>\n",
       "      <td>21st St &amp; Penn Ave</td>\n",
       "      <td>1015</td>\n",
       "      <td>Federal St &amp; E North Ave</td>\n",
       "      <td>NaN</td>\n",
       "    </tr>\n",
       "    <tr>\n",
       "      <th>76418</th>\n",
       "      <td>25723077</td>\n",
       "      <td>12/31/2016 21:09</td>\n",
       "      <td>12/31/2016 21:46</td>\n",
       "      <td>70418</td>\n",
       "      <td>2222</td>\n",
       "      <td>1011</td>\n",
       "      <td>Fort Duquesne Blvd &amp; 7th St</td>\n",
       "      <td>1011</td>\n",
       "      <td>Fort Duquesne Blvd &amp; 7th St</td>\n",
       "      <td>NaN</td>\n",
       "    </tr>\n",
       "  </tbody>\n",
       "</table>\n",
       "<p>76419 rows × 10 columns</p>\n",
       "</div>"
      ],
      "text/plain": [
       "        Trip id         Starttime          Stoptime  Bikeid  Tripduration  \\\n",
       "0      15335599     1/1/2016 1:44     1/1/2016 2:01   70294          1068   \n",
       "1      15335629     1/1/2016 2:39     1/1/2016 2:53   70360           892   \n",
       "...         ...               ...               ...     ...           ...   \n",
       "76417  25722578  12/31/2016 16:24  12/31/2016 16:45   70116          1293   \n",
       "76418  25723077  12/31/2016 21:09  12/31/2016 21:46   70418          2222   \n",
       "\n",
       "       From station id            From station name  To station id  \\\n",
       "0                 1026    Penn Ave & S Whitfield St           1032   \n",
       "1                 1029    Alder St & S Highland Ave           1021   \n",
       "...                ...                          ...            ...   \n",
       "76417             1017           21st St & Penn Ave           1015   \n",
       "76418             1011  Fort Duquesne Blvd & 7th St           1011   \n",
       "\n",
       "                   To station name  Usertype  \n",
       "0           Walnut St & College St       NaN  \n",
       "1          Taylor St & Liberty Ave       NaN  \n",
       "...                            ...       ...  \n",
       "76417     Federal St & E North Ave       NaN  \n",
       "76418  Fort Duquesne Blvd & 7th St       NaN  \n",
       "\n",
       "[76419 rows x 10 columns]"
      ]
     },
     "execution_count": 2,
     "metadata": {},
     "output_type": "execute_result"
    }
   ],
   "source": [
    "dfs = []\n",
    "for q in 1,2,3,4:\n",
    "    df = pd.read_csv('2016-Q{0}/HealthyRide Rentals 2016 Q{0}.csv'.format(q), encoding='iso-8859-1')\n",
    "    dfs.append(df)\n",
    "\n",
    "rides = pd.concat(dfs, ignore_index=True)\n",
    "rides"
   ]
  },
  {
   "cell_type": "markdown",
   "metadata": {},
   "source": [
    "## Stations"
   ]
  },
  {
   "cell_type": "markdown",
   "metadata": {},
   "source": [
    "Positions of each station are stored separately."
   ]
  },
  {
   "cell_type": "code",
   "execution_count": 3,
   "metadata": {},
   "outputs": [
    {
     "data": {
      "text/html": [
       "<div>\n",
       "<style>\n",
       "    .dataframe thead tr:only-child th {\n",
       "        text-align: right;\n",
       "    }\n",
       "\n",
       "    .dataframe thead th {\n",
       "        text-align: left;\n",
       "    }\n",
       "\n",
       "    .dataframe tbody tr th {\n",
       "        vertical-align: top;\n",
       "    }\n",
       "</style>\n",
       "<table border=\"1\" class=\"dataframe\">\n",
       "  <thead>\n",
       "    <tr style=\"text-align: right;\">\n",
       "      <th></th>\n",
       "      <th>StationName</th>\n",
       "      <th>RackQnty</th>\n",
       "      <th>Latitude</th>\n",
       "      <th>Longitude</th>\n",
       "    </tr>\n",
       "    <tr>\n",
       "      <th>StationNum</th>\n",
       "      <th></th>\n",
       "      <th></th>\n",
       "      <th></th>\n",
       "      <th></th>\n",
       "    </tr>\n",
       "  </thead>\n",
       "  <tbody>\n",
       "    <tr>\n",
       "      <th>1000</th>\n",
       "      <td>Liberty &amp; Stanwix</td>\n",
       "      <td>16</td>\n",
       "      <td>40.441326</td>\n",
       "      <td>-80.004679</td>\n",
       "    </tr>\n",
       "    <tr>\n",
       "      <th>1001</th>\n",
       "      <td>Forbes Ave &amp; Market Sq</td>\n",
       "      <td>19</td>\n",
       "      <td>40.440877</td>\n",
       "      <td>-80.003080</td>\n",
       "    </tr>\n",
       "    <tr>\n",
       "      <th>...</th>\n",
       "      <td>...</td>\n",
       "      <td>...</td>\n",
       "      <td>...</td>\n",
       "      <td>...</td>\n",
       "    </tr>\n",
       "    <tr>\n",
       "      <th>1048</th>\n",
       "      <td>S 18th St &amp; Sidney St</td>\n",
       "      <td>16</td>\n",
       "      <td>40.429338</td>\n",
       "      <td>-79.980684</td>\n",
       "    </tr>\n",
       "    <tr>\n",
       "      <th>1049</th>\n",
       "      <td>S 12th St &amp; E Carson St</td>\n",
       "      <td>19</td>\n",
       "      <td>40.428553</td>\n",
       "      <td>-79.986369</td>\n",
       "    </tr>\n",
       "  </tbody>\n",
       "</table>\n",
       "<p>50 rows × 4 columns</p>\n",
       "</div>"
      ],
      "text/plain": [
       "                        StationName  RackQnty   Latitude  Longitude\n",
       "StationNum                                                         \n",
       "1000              Liberty & Stanwix        16  40.441326 -80.004679\n",
       "1001         Forbes Ave & Market Sq        19  40.440877 -80.003080\n",
       "...                             ...       ...        ...        ...\n",
       "1048          S 18th St & Sidney St        16  40.429338 -79.980684\n",
       "1049        S 12th St & E Carson St        19  40.428553 -79.986369\n",
       "\n",
       "[50 rows x 4 columns]"
      ]
     },
     "execution_count": 3,
     "metadata": {},
     "output_type": "execute_result"
    }
   ],
   "source": [
    "stations2016 = pd.read_csv('2016-Q1/HealthyRideStations2016.csv',encoding='iso-8859-1', index_col=0).sort_index()\n",
    "stations2016"
   ]
  },
  {
   "cell_type": "markdown",
   "metadata": {},
   "source": [
    "Let's grab the 2017 stations as well."
   ]
  },
  {
   "cell_type": "code",
   "execution_count": 4,
   "metadata": {
    "collapsed": true
   },
   "outputs": [],
   "source": [
    "stations2017 = pd.read_csv('2017-Q1/HealthyRideStations2017.csv',encoding='iso-8859-1', index_col=0).sort_index()\n",
    "stations2017.columns = stations2016.columns"
   ]
  },
  {
   "cell_type": "markdown",
   "metadata": {},
   "source": [
    "There are two new stations in 2017."
   ]
  },
  {
   "cell_type": "code",
   "execution_count": 5,
   "metadata": {},
   "outputs": [
    {
     "data": {
      "text/html": [
       "<div>\n",
       "<style>\n",
       "    .dataframe thead tr:only-child th {\n",
       "        text-align: right;\n",
       "    }\n",
       "\n",
       "    .dataframe thead th {\n",
       "        text-align: left;\n",
       "    }\n",
       "\n",
       "    .dataframe tbody tr th {\n",
       "        vertical-align: top;\n",
       "    }\n",
       "</style>\n",
       "<table border=\"1\" class=\"dataframe\">\n",
       "  <thead>\n",
       "    <tr style=\"text-align: right;\">\n",
       "      <th></th>\n",
       "      <th>StationName_2016</th>\n",
       "      <th>RackQnty_2016</th>\n",
       "      <th>Latitude_2016</th>\n",
       "      <th>Longitude_2016</th>\n",
       "      <th>StationName_2017</th>\n",
       "      <th>RackQnty_2017</th>\n",
       "      <th>Latitude_2017</th>\n",
       "      <th>Longitude_2017</th>\n",
       "    </tr>\n",
       "  </thead>\n",
       "  <tbody>\n",
       "    <tr>\n",
       "      <th>1050</th>\n",
       "      <td>NaN</td>\n",
       "      <td>NaN</td>\n",
       "      <td>NaN</td>\n",
       "      <td>NaN</td>\n",
       "      <td>Healthy Ride Hub</td>\n",
       "      <td>2</td>\n",
       "      <td>40.461817</td>\n",
       "      <td>-79.968002</td>\n",
       "    </tr>\n",
       "    <tr>\n",
       "      <th>1061</th>\n",
       "      <td>NaN</td>\n",
       "      <td>NaN</td>\n",
       "      <td>NaN</td>\n",
       "      <td>NaN</td>\n",
       "      <td>33rd St and Penn Ave</td>\n",
       "      <td>2</td>\n",
       "      <td>40.462026</td>\n",
       "      <td>-79.968114</td>\n",
       "    </tr>\n",
       "  </tbody>\n",
       "</table>\n",
       "</div>"
      ],
      "text/plain": [
       "     StationName_2016  RackQnty_2016  Latitude_2016  Longitude_2016  \\\n",
       "1050              NaN            NaN            NaN             NaN   \n",
       "1061              NaN            NaN            NaN             NaN   \n",
       "\n",
       "          StationName_2017  RackQnty_2017  Latitude_2017  Longitude_2017  \n",
       "1050      Healthy Ride Hub              2      40.461817      -79.968002  \n",
       "1061  33rd St and Penn Ave              2      40.462026      -79.968114  "
      ]
     },
     "execution_count": 5,
     "metadata": {},
     "output_type": "execute_result"
    }
   ],
   "source": [
    "all_stations = stations2016.join(stations2017, how='outer', lsuffix='_2016', rsuffix='_2017')\n",
    "all_stations.loc[all_stations.isnull().any(axis='columns')]"
   ]
  },
  {
   "cell_type": "markdown",
   "metadata": {},
   "source": [
    "We'll use the 2017 stations from now on."
   ]
  },
  {
   "cell_type": "code",
   "execution_count": 6,
   "metadata": {
    "collapsed": true
   },
   "outputs": [],
   "source": [
    "stations = stations2017"
   ]
  },
  {
   "cell_type": "markdown",
   "metadata": {},
   "source": [
    "## cleaning"
   ]
  },
  {
   "cell_type": "markdown",
   "metadata": {},
   "source": [
    "The rides file has more station IDs than are listed in the stations file."
   ]
  },
  {
   "cell_type": "code",
   "execution_count": 7,
   "metadata": {},
   "outputs": [
    {
     "data": {
      "text/plain": [
       "{1060}"
      ]
     },
     "execution_count": 7,
     "metadata": {},
     "output_type": "execute_result"
    }
   ],
   "source": [
    "missing_stations = set()\n",
    "for col in 'From station id', 'To station id':\n",
    "    extra = ~rides[col].isin(stations.index)\n",
    "    m = rides.loc[extra, col].drop_duplicates()\n",
    "    missing_stations.update(m)\n",
    "missing_stations"
   ]
  },
  {
   "cell_type": "markdown",
   "metadata": {},
   "source": [
    "Let's go get its name."
   ]
  },
  {
   "cell_type": "code",
   "execution_count": 8,
   "metadata": {},
   "outputs": [
    {
     "data": {
      "text/plain": [
       "46569    Open Streets West End\n",
       "Name: From station name, dtype: object"
      ]
     },
     "execution_count": 8,
     "metadata": {},
     "output_type": "execute_result"
    }
   ],
   "source": [
    "rides.loc[rides['From station id'].isin(missing_stations), 'From station name'].drop_duplicates()"
   ]
  },
  {
   "cell_type": "markdown",
   "metadata": {},
   "source": [
    "Open Streets West End looks like a [temporary station](http://openstreetspgh.org/schedule-july-2016/#WABASH). Let's got find it."
   ]
  },
  {
   "cell_type": "code",
   "execution_count": 9,
   "metadata": {
    "collapsed": true
   },
   "outputs": [],
   "source": [
    "c_map = googlemaps.Client(key=google_gmap)"
   ]
  },
  {
   "cell_type": "code",
   "execution_count": 10,
   "metadata": {},
   "outputs": [
    {
     "data": {
      "text/plain": [
       "{'lat': 40.4409099, 'lng': -80.0348104}"
      ]
     },
     "execution_count": 10,
     "metadata": {},
     "output_type": "execute_result"
    }
   ],
   "source": [
    "wabash_and_main = c_map.geocode('Wabash and Main St. West End Pittsburgh, PA')[0]['geometry']['location']\n",
    "wabash_and_main"
   ]
  },
  {
   "cell_type": "code",
   "execution_count": 11,
   "metadata": {
    "collapsed": true
   },
   "outputs": [],
   "source": [
    "new_station = {\n",
    "    'StationName':'Open Streets West End',\n",
    "    'RackQnty':np.nan,\n",
    "    'Latitude':wabash_and_main['lat'],\n",
    "    'Longitude':wabash_and_main['lng']\n",
    "}\n",
    "\n",
    "stations.loc[1060] = new_station"
   ]
  },
  {
   "cell_type": "code",
   "execution_count": 12,
   "metadata": {},
   "outputs": [
    {
     "data": {
      "text/html": [
       "<div>\n",
       "<style>\n",
       "    .dataframe thead tr:only-child th {\n",
       "        text-align: right;\n",
       "    }\n",
       "\n",
       "    .dataframe thead th {\n",
       "        text-align: left;\n",
       "    }\n",
       "\n",
       "    .dataframe tbody tr th {\n",
       "        vertical-align: top;\n",
       "    }\n",
       "</style>\n",
       "<table border=\"1\" class=\"dataframe\">\n",
       "  <thead>\n",
       "    <tr style=\"text-align: right;\">\n",
       "      <th></th>\n",
       "      <th>StationName</th>\n",
       "      <th>RackQnty</th>\n",
       "      <th>Latitude</th>\n",
       "      <th>Longitude</th>\n",
       "    </tr>\n",
       "    <tr>\n",
       "      <th>Station #</th>\n",
       "      <th></th>\n",
       "      <th></th>\n",
       "      <th></th>\n",
       "      <th></th>\n",
       "    </tr>\n",
       "  </thead>\n",
       "  <tbody>\n",
       "    <tr>\n",
       "      <th>1000</th>\n",
       "      <td>Liberty Ave &amp; Stanwix St</td>\n",
       "      <td>16.0</td>\n",
       "      <td>40.441326</td>\n",
       "      <td>-80.004679</td>\n",
       "    </tr>\n",
       "    <tr>\n",
       "      <th>1001</th>\n",
       "      <td>Forbes Ave &amp; Market Square</td>\n",
       "      <td>19.0</td>\n",
       "      <td>40.440877</td>\n",
       "      <td>-80.003080</td>\n",
       "    </tr>\n",
       "    <tr>\n",
       "      <th>...</th>\n",
       "      <td>...</td>\n",
       "      <td>...</td>\n",
       "      <td>...</td>\n",
       "      <td>...</td>\n",
       "    </tr>\n",
       "    <tr>\n",
       "      <th>1061</th>\n",
       "      <td>33rd St and Penn Ave</td>\n",
       "      <td>2.0</td>\n",
       "      <td>40.462026</td>\n",
       "      <td>-79.968114</td>\n",
       "    </tr>\n",
       "    <tr>\n",
       "      <th>1060</th>\n",
       "      <td>Open Streets West End</td>\n",
       "      <td>NaN</td>\n",
       "      <td>40.440910</td>\n",
       "      <td>-80.034810</td>\n",
       "    </tr>\n",
       "  </tbody>\n",
       "</table>\n",
       "<p>53 rows × 4 columns</p>\n",
       "</div>"
      ],
      "text/plain": [
       "                          StationName  RackQnty   Latitude  Longitude\n",
       "Station #                                                            \n",
       "1000         Liberty Ave & Stanwix St      16.0  40.441326 -80.004679\n",
       "1001       Forbes Ave & Market Square      19.0  40.440877 -80.003080\n",
       "...                               ...       ...        ...        ...\n",
       "1061             33rd St and Penn Ave       2.0  40.462026 -79.968114\n",
       "1060            Open Streets West End       NaN  40.440910 -80.034810\n",
       "\n",
       "[53 rows x 4 columns]"
      ]
     },
     "execution_count": 12,
     "metadata": {},
     "output_type": "execute_result"
    }
   ],
   "source": [
    "stations"
   ]
  },
  {
   "cell_type": "markdown",
   "metadata": {},
   "source": [
    "## Ride difficulty"
   ]
  },
  {
   "cell_type": "markdown",
   "metadata": {},
   "source": [
    "We'll compute the following quantities\n",
    "* ride distance\n",
    "* elevation change\n",
    "* deviation from expected duration"
   ]
  },
  {
   "cell_type": "markdown",
   "metadata": {},
   "source": [
    "### elevation"
   ]
  },
  {
   "cell_type": "code",
   "execution_count": 13,
   "metadata": {
    "collapsed": true
   },
   "outputs": [],
   "source": [
    "c_elev = googlemaps.Client(key=google_elev)"
   ]
  },
  {
   "cell_type": "code",
   "execution_count": 14,
   "metadata": {
    "collapsed": true
   },
   "outputs": [],
   "source": [
    "pos = stations[['Latitude','Longitude']].values.tolist()\n",
    "elev = [d['elevation'] for d in c_elev.elevation(pos)]\n",
    "stations['elevation'] = elev"
   ]
  },
  {
   "cell_type": "code",
   "execution_count": 15,
   "metadata": {
    "collapsed": true
   },
   "outputs": [],
   "source": [
    "def elevation_change(row, stations=stations):\n",
    "    start = row['From station id']\n",
    "    stop = row['To station id']\n",
    "    \n",
    "    e1 = stations.loc[start, 'elevation']\n",
    "    e2 = stations.loc[stop, 'elevation']\n",
    "    return e2 - e1"
   ]
  },
  {
   "cell_type": "code",
   "execution_count": 16,
   "metadata": {
    "collapsed": true
   },
   "outputs": [],
   "source": [
    "rides['elevation_change'] = 0.0\n",
    "\n",
    "one_way = rides['From station id'] != rides['To station id']\n",
    "rides.loc[one_way,'elevation_change'] = rides.loc[one_way].apply(elevation_change, axis='columns')"
   ]
  },
  {
   "cell_type": "code",
   "execution_count": 17,
   "metadata": {},
   "outputs": [
    {
     "data": {
      "text/plain": [
       "<matplotlib.axes._subplots.AxesSubplot at 0x118aba128>"
      ]
     },
     "execution_count": 17,
     "metadata": {},
     "output_type": "execute_result"
    },
    {
     "data": {
      "image/png": "[encoded data removed]",
      "text/plain": [
       "<matplotlib.figure.Figure at 0x1179f80b8>"
      ]
     },
     "metadata": {},
     "output_type": "display_data"
    }
   ],
   "source": [
    "rides.groupby(np.sign(rides['elevation_change']))['Trip id'].count().plot.bar()"
   ]
  },
  {
   "cell_type": "markdown",
   "metadata": {},
   "source": [
    "### distance"
   ]
  },
  {
   "cell_type": "markdown",
   "metadata": {},
   "source": [
    "[Read this](https://gis.stackexchange.com/questions/84885/whats-the-difference-between-vincenty-and-great-circle-distance-calculations) for a discussion of distance algorithms."
   ]
  },
  {
   "cell_type": "code",
   "execution_count": 18,
   "metadata": {
    "collapsed": true
   },
   "outputs": [],
   "source": [
    "from geopy.distance import vincenty, great_circle"
   ]
  },
  {
   "cell_type": "code",
   "execution_count": 19,
   "metadata": {
    "collapsed": true
   },
   "outputs": [],
   "source": [
    "def distance(row, dfunc=vincenty, stations=stations):\n",
    "    start = row['From station id']\n",
    "    stop = row['To station id']\n",
    "    \n",
    "    p1 = stations.loc[start, ['Latitude','Longitude']].tolist()\n",
    "    p2 = stations.loc[stop, ['Latitude','Longitude']].tolist()\n",
    "    \n",
    "    d = dfunc(p1, p2)\n",
    "    \n",
    "    return d.miles"
   ]
  },
  {
   "cell_type": "code",
   "execution_count": 20,
   "metadata": {
    "scrolled": true
   },
   "outputs": [
    {
     "name": "stdout",
     "output_type": "stream",
     "text": [
      "CPU times: user 1min 25s, sys: 131 ms, total: 1min 25s\n",
      "Wall time: 1min 25s\n"
     ]
    }
   ],
   "source": [
    "%%time\n",
    "d_circle = rides.apply(distance, dfunc=great_circle, axis='columns')"
   ]
  },
  {
   "cell_type": "markdown",
   "metadata": {},
   "source": [
    "I'll blame Pandas for most of the slowdown. I'd prefer to have a NumPy-based or C-level function."
   ]
  },
  {
   "cell_type": "code",
   "execution_count": 21,
   "metadata": {},
   "outputs": [
    {
     "name": "stdout",
     "output_type": "stream",
     "text": [
      "CPU times: user 1min 26s, sys: 118 ms, total: 1min 26s\n",
      "Wall time: 1min 26s\n"
     ]
    }
   ],
   "source": [
    "%%time\n",
    "d_vincenty = rides.apply(distance, dfunc=vincenty, axis='columns')"
   ]
  },
  {
   "cell_type": "markdown",
   "metadata": {},
   "source": [
    "Since we can assume that the vincenty distance is more accurate, great circle distances are about 0.5 mile off on average. \n",
    "\n",
    "That's rather large for this use since there can be many bike stations within 0.5 mile."
   ]
  },
  {
   "cell_type": "code",
   "execution_count": 22,
   "metadata": {
    "scrolled": true
   },
   "outputs": [
    {
     "data": {
      "text/plain": [
       "0.53558351298622842"
      ]
     },
     "execution_count": 22,
     "metadata": {},
     "output_type": "execute_result"
    }
   ],
   "source": [
    "np.sqrt( ((d_circle - d_vincenty)**2).sum()  )"
   ]
  },
  {
   "cell_type": "markdown",
   "metadata": {},
   "source": [
    "For fun, let's use [Numba](http://numba.pydata.org/) to write a fast haversine implementation.\n",
    "\n",
    "Numba will compile the function to optimized C code (using the LLVM compiler), and it understands NumPy arrays natively."
   ]
  },
  {
   "cell_type": "code",
   "execution_count": 24,
   "metadata": {},
   "outputs": [],
   "source": [
    "from geopy.distance import EARTH_RADIUS\n",
    "from scipy.constants import mile\n",
    "import numba\n",
    "\n",
    "@numba.guvectorize(['(float64[:,:], float64[:,:], float64[:])'], '(n,m),(n,m)->(n)', nopython=True)\n",
    "def haversine(origin, destination, output):\n",
    "    '''the haversine distance in miles'''\n",
    "    assert origin.shape[0] == destination.shape[0]\n",
    "    \n",
    "    # earth radius in miles\n",
    "    constant = EARTH_RADIUS * 1000/mile * 2\n",
    "    p = np.pi / 180\n",
    "    \n",
    "    n = origin.shape[0]\n",
    "    for i in range(n):\n",
    "        lat1 = origin[i,0]\n",
    "        lon1 = origin[i,1]\n",
    "        lat2 = destination[i,0]\n",
    "        lon2 = destination[i,1]\n",
    "    \n",
    "    \n",
    "        a = 0.5 - np.cos((lat2 - lat1) * p) / 2  \\\n",
    "           + np.cos(lat1 * p) * np.cos(lat2 * p) \\\n",
    "           * (1 - np.cos((lon2 - lon1) * p )) / 2\n",
    "        output[i] = constant * np.arcsin(np.sqrt(a))"
   ]
  },
  {
   "cell_type": "code",
   "execution_count": 25,
   "metadata": {},
   "outputs": [
    {
     "name": "stdout",
     "output_type": "stream",
     "text": [
      "CPU times: user 39.9 ms, sys: 11.9 ms, total: 51.8 ms\n",
      "Wall time: 52.2 ms\n"
     ]
    }
   ],
   "source": [
    "%%time\n",
    "p0 = rides.join(stations, on='From station id')[['Latitude','Longitude']].values\n",
    "p1 = rides.join(stations, on='To station id')[['Latitude', 'Longitude']].values\n",
    "d_haversine = np.empty(shape=p0.shape[0], dtype=np.float64)\n",
    "\n",
    "haversine(p0, p1, d_haversine)"
   ]
  },
  {
   "cell_type": "markdown",
   "metadata": {},
   "source": [
    "This function gives the same results as the slow `great_cirle()` from `geopy`."
   ]
  },
  {
   "cell_type": "code",
   "execution_count": 26,
   "metadata": {},
   "outputs": [
    {
     "data": {
      "text/plain": [
       "True"
      ]
     },
     "execution_count": 26,
     "metadata": {},
     "output_type": "execute_result"
    }
   ],
   "source": [
    "np.allclose(d_circle, d_haversine)"
   ]
  },
  {
   "cell_type": "markdown",
   "metadata": {},
   "source": [
    "### grade"
   ]
  },
  {
   "cell_type": "markdown",
   "metadata": {},
   "source": [
    "Ride difficulty will be defined as [percent grade](https://en.wikipedia.org/wiki/Grade_(slope)), which is dimensionless.\n",
    "\n",
    "Bikes returned to the same station have `NaN` grade."
   ]
  },
  {
   "cell_type": "code",
   "execution_count": 27,
   "metadata": {
    "collapsed": true
   },
   "outputs": [],
   "source": [
    "rides['distance (miles)'] = d_vincenty"
   ]
  },
  {
   "cell_type": "code",
   "execution_count": 28,
   "metadata": {
    "collapsed": true
   },
   "outputs": [],
   "source": [
    "rides['grade'] = rides['elevation_change'] / (rides['distance (miles)']*5280) * 100"
   ]
  },
  {
   "cell_type": "code",
   "execution_count": 29,
   "metadata": {},
   "outputs": [
    {
     "name": "stdout",
     "output_type": "stream",
     "text": [
      "count    56245.000000\n",
      "mean        -0.053069\n",
      "std          0.322528\n",
      "min         -2.672255\n",
      "25%         -0.150023\n",
      "50%         -0.017170\n",
      "75%          0.067557\n",
      "max          2.672255\n",
      "Name: grade, dtype: float64\n"
     ]
    }
   ],
   "source": [
    "with pd.option_context('display.max_rows',15):\n",
    "    print(rides['grade'].describe())"
   ]
  },
  {
   "cell_type": "markdown",
   "metadata": {},
   "source": [
    "Fit a simple normal distribution."
   ]
  },
  {
   "cell_type": "code",
   "execution_count": 30,
   "metadata": {
    "collapsed": true
   },
   "outputs": [],
   "source": [
    "mu = rides['grade'].mean()\n",
    "sigma = rides['grade'].std()\n",
    "from scipy.stats import norm\n",
    "rv = norm(loc=mu, scale=sigma)"
   ]
  },
  {
   "cell_type": "markdown",
   "metadata": {},
   "source": [
    "Rides taken are centered near zero-grade trips. All rides, even those that are returned to the same station are included.\n",
    "\n",
    "They almost follow a normal distribution."
   ]
  },
  {
   "cell_type": "code",
   "execution_count": 31,
   "metadata": {},
   "outputs": [
    {
     "data": {
      "text/plain": [
       "<matplotlib.text.Text at 0x11bc2f828>"
      ]
     },
     "execution_count": 31,
     "metadata": {},
     "output_type": "execute_result"
    },
    {
     "data": {
      "image/png": "[encoded data removed]",
      "text/plain": [
       "<matplotlib.figure.Figure at 0x118ab88d0>"
      ]
     },
     "metadata": {},
     "output_type": "display_data"
    }
   ],
   "source": [
    "ax = rides['grade'].plot.hist(normed=True, cumulative=True, histtype='step', bins=100, figsize=(15,8))\n",
    "\n",
    "x = np.linspace(-3, 3, 1000)\n",
    "ax.plot(x, rv.cdf(x))\n",
    "\n",
    "plt.xlabel('% Grade')"
   ]
  },
  {
   "cell_type": "code",
   "execution_count": 32,
   "metadata": {
    "collapsed": true
   },
   "outputs": [],
   "source": [
    "by_ride = rides.loc[one_way].groupby(['From station id','To station id'])\n",
    "\n",
    "popularity = by_ride['Trip id'].count()\n",
    "popularity.name = 'rides'\n",
    "difficulty = by_ride['grade'].first()"
   ]
  },
  {
   "cell_type": "code",
   "execution_count": 33,
   "metadata": {
    "scrolled": true
   },
   "outputs": [
    {
     "data": {
      "text/plain": [
       "<matplotlib.text.Text at 0x1187802e8>"
      ]
     },
     "execution_count": 33,
     "metadata": {},
     "output_type": "execute_result"
    },
    {
     "data": {
      "image/png": "[encoded data removed]",
      "text/plain": [
       "<matplotlib.figure.Figure at 0x118bf99b0>"
      ]
     },
     "metadata": {},
     "output_type": "display_data"
    }
   ],
   "source": [
    "plt.scatter(popularity, difficulty, alpha=0.5)\n",
    "plt.xlabel('number of rides in 2016')\n",
    "plt.ylabel('% Grade')"
   ]
  },
  {
   "cell_type": "markdown",
   "metadata": {},
   "source": [
    "### outliers"
   ]
  },
  {
   "cell_type": "code",
   "execution_count": 34,
   "metadata": {
    "collapsed": true
   },
   "outputs": [],
   "source": [
    "from sklearn.ensemble import IsolationForest"
   ]
  },
  {
   "cell_type": "code",
   "execution_count": 35,
   "metadata": {
    "collapsed": true
   },
   "outputs": [],
   "source": [
    "X = pd.concat([popularity,difficulty], axis='columns')"
   ]
  },
  {
   "cell_type": "code",
   "execution_count": 36,
   "metadata": {},
   "outputs": [
    {
     "data": {
      "text/plain": [
       "44"
      ]
     },
     "execution_count": 36,
     "metadata": {},
     "output_type": "execute_result"
    }
   ],
   "source": [
    "iso = IsolationForest(contamination=0.02)\n",
    "iso.fit(X)\n",
    "labels = iso.predict(X)\n",
    "(labels==-1).sum()"
   ]
  },
  {
   "cell_type": "code",
   "execution_count": 37,
   "metadata": {},
   "outputs": [
    {
     "data": {
      "text/plain": [
       "<matplotlib.text.Text at 0x11fe15fd0>"
      ]
     },
     "execution_count": 37,
     "metadata": {},
     "output_type": "execute_result"
    },
    {
     "data": {
      "image/png": "[encoded data removed]",
      "text/plain": [
       "<matplotlib.figure.Figure at 0x11fdf9320>"
      ]
     },
     "metadata": {},
     "output_type": "display_data"
    }
   ],
   "source": [
    "colors = np.where(labels==-1, 'red', 'blue')\n",
    "\n",
    "plt.scatter(popularity, difficulty, alpha=0.5, c=colors)\n",
    "plt.xlabel('number of rides in 2016')\n",
    "plt.ylabel('% Grade')"
   ]
  },
  {
   "cell_type": "code",
   "execution_count": 38,
   "metadata": {
    "collapsed": true
   },
   "outputs": [],
   "source": [
    "outliers = (\n",
    "    X.loc[labels==-1]\n",
    "    .reset_index()\n",
    "    .join(stations['StationName'], on='From station id')\n",
    "    .join(stations['StationName'], on='To station id', lsuffix='_from', rsuffix='_to')\n",
    ")    "
   ]
  },
  {
   "cell_type": "markdown",
   "metadata": {},
   "source": [
    "These are the outlier trips. They fall into two categories\n",
    "1. Extremely popular rides\n",
    "2. Rides with extreme grade"
   ]
  },
  {
   "cell_type": "code",
   "execution_count": 39,
   "metadata": {
    "scrolled": false
   },
   "outputs": [
    {
     "data": {
      "text/html": [
       "<div>\n",
       "<style>\n",
       "    .dataframe thead tr:only-child th {\n",
       "        text-align: right;\n",
       "    }\n",
       "\n",
       "    .dataframe thead th {\n",
       "        text-align: left;\n",
       "    }\n",
       "\n",
       "    .dataframe tbody tr th {\n",
       "        vertical-align: top;\n",
       "    }\n",
       "</style>\n",
       "<table border=\"1\" class=\"dataframe\">\n",
       "  <thead>\n",
       "    <tr style=\"text-align: right;\">\n",
       "      <th></th>\n",
       "      <th>From station id</th>\n",
       "      <th>To station id</th>\n",
       "      <th>rides</th>\n",
       "      <th>grade</th>\n",
       "      <th>StationName_from</th>\n",
       "      <th>StationName_to</th>\n",
       "    </tr>\n",
       "  </thead>\n",
       "  <tbody>\n",
       "    <tr>\n",
       "      <th>39</th>\n",
       "      <td>1042</td>\n",
       "      <td>1016</td>\n",
       "      <td>1</td>\n",
       "      <td>-2.672255</td>\n",
       "      <td>Centre Ave &amp; Kirkpatrick St</td>\n",
       "      <td>17th St &amp; Penn Ave</td>\n",
       "    </tr>\n",
       "    <tr>\n",
       "      <th>19</th>\n",
       "      <td>1020</td>\n",
       "      <td>1019</td>\n",
       "      <td>71</td>\n",
       "      <td>-2.162540</td>\n",
       "      <td>42nd St &amp; Penn Ave (Children's Hospital)</td>\n",
       "      <td>42nd St &amp; Butler St</td>\n",
       "    </tr>\n",
       "    <tr>\n",
       "      <th>18</th>\n",
       "      <td>1020</td>\n",
       "      <td>1018</td>\n",
       "      <td>15</td>\n",
       "      <td>-1.878647</td>\n",
       "      <td>42nd St &amp; Penn Ave (Children's Hospital)</td>\n",
       "      <td>37th St &amp; Butler St</td>\n",
       "    </tr>\n",
       "    <tr>\n",
       "      <th>37</th>\n",
       "      <td>1042</td>\n",
       "      <td>1009</td>\n",
       "      <td>7</td>\n",
       "      <td>-1.824594</td>\n",
       "      <td>Centre Ave &amp; Kirkpatrick St</td>\n",
       "      <td>12th St &amp; Penn Ave</td>\n",
       "    </tr>\n",
       "    <tr>\n",
       "      <th>38</th>\n",
       "      <td>1042</td>\n",
       "      <td>1010</td>\n",
       "      <td>7</td>\n",
       "      <td>-1.514441</td>\n",
       "      <td>Centre Ave &amp; Kirkpatrick St</td>\n",
       "      <td>10th St &amp; Penn Ave (David L. Lawrence Conventi...</td>\n",
       "    </tr>\n",
       "    <tr>\n",
       "      <th>7</th>\n",
       "      <td>1008</td>\n",
       "      <td>1009</td>\n",
       "      <td>8</td>\n",
       "      <td>-1.464843</td>\n",
       "      <td>Centre Ave &amp; PPG Paints Arena</td>\n",
       "      <td>12th St &amp; Penn Ave</td>\n",
       "    </tr>\n",
       "    <tr>\n",
       "      <th>21</th>\n",
       "      <td>1020</td>\n",
       "      <td>1061</td>\n",
       "      <td>1</td>\n",
       "      <td>-1.459064</td>\n",
       "      <td>42nd St &amp; Penn Ave (Children's Hospital)</td>\n",
       "      <td>33rd St and Penn Ave</td>\n",
       "    </tr>\n",
       "    <tr>\n",
       "      <th>20</th>\n",
       "      <td>1020</td>\n",
       "      <td>1050</td>\n",
       "      <td>28</td>\n",
       "      <td>-1.450973</td>\n",
       "      <td>42nd St &amp; Penn Ave (Children's Hospital)</td>\n",
       "      <td>Healthy Ride Hub</td>\n",
       "    </tr>\n",
       "    <tr>\n",
       "      <th>22</th>\n",
       "      <td>1021</td>\n",
       "      <td>1018</td>\n",
       "      <td>35</td>\n",
       "      <td>-1.367609</td>\n",
       "      <td>Taylor St &amp; Liberty Ave</td>\n",
       "      <td>37th St &amp; Butler St</td>\n",
       "    </tr>\n",
       "    <tr>\n",
       "      <th>23</th>\n",
       "      <td>1021</td>\n",
       "      <td>1019</td>\n",
       "      <td>56</td>\n",
       "      <td>-1.358789</td>\n",
       "      <td>Taylor St &amp; Liberty Ave</td>\n",
       "      <td>42nd St &amp; Butler St</td>\n",
       "    </tr>\n",
       "    <tr>\n",
       "      <th>24</th>\n",
       "      <td>1021</td>\n",
       "      <td>1050</td>\n",
       "      <td>98</td>\n",
       "      <td>-1.264910</td>\n",
       "      <td>Taylor St &amp; Liberty Ave</td>\n",
       "      <td>Healthy Ride Hub</td>\n",
       "    </tr>\n",
       "    <tr>\n",
       "      <th>6</th>\n",
       "      <td>1008</td>\n",
       "      <td>1006</td>\n",
       "      <td>131</td>\n",
       "      <td>-1.099970</td>\n",
       "      <td>Centre Ave &amp; PPG Paints Arena</td>\n",
       "      <td>Ross St &amp; Sixth Ave (Steel Plaza T Station)</td>\n",
       "    </tr>\n",
       "    <tr>\n",
       "      <th>34</th>\n",
       "      <td>1039</td>\n",
       "      <td>1045</td>\n",
       "      <td>81</td>\n",
       "      <td>-0.999818</td>\n",
       "      <td>Atwood St &amp; Bates</td>\n",
       "      <td>S 27th St &amp; Sidney St. (Southside Works)</td>\n",
       "    </tr>\n",
       "    <tr>\n",
       "      <th>41</th>\n",
       "      <td>1044</td>\n",
       "      <td>1045</td>\n",
       "      <td>106</td>\n",
       "      <td>-0.954702</td>\n",
       "      <td>Zulema St &amp; Coltart Ave</td>\n",
       "      <td>S 27th St &amp; Sidney St. (Southside Works)</td>\n",
       "    </tr>\n",
       "    <tr>\n",
       "      <th>25</th>\n",
       "      <td>1025</td>\n",
       "      <td>1026</td>\n",
       "      <td>129</td>\n",
       "      <td>-0.814789</td>\n",
       "      <td>Penn Ave &amp; N Fairmount St</td>\n",
       "      <td>Penn Ave &amp; S Whitfield St</td>\n",
       "    </tr>\n",
       "    <tr>\n",
       "      <th>40</th>\n",
       "      <td>1043</td>\n",
       "      <td>1044</td>\n",
       "      <td>134</td>\n",
       "      <td>-0.686964</td>\n",
       "      <td>Coltart Ave &amp; Forbes Ave</td>\n",
       "      <td>Zulema St &amp; Coltart Ave</td>\n",
       "    </tr>\n",
       "    <tr>\n",
       "      <th>2</th>\n",
       "      <td>1001</td>\n",
       "      <td>1000</td>\n",
       "      <td>208</td>\n",
       "      <td>-0.470983</td>\n",
       "      <td>Forbes Ave &amp; Market Square</td>\n",
       "      <td>Liberty Ave &amp; Stanwix St</td>\n",
       "    </tr>\n",
       "    <tr>\n",
       "      <th>26</th>\n",
       "      <td>1028</td>\n",
       "      <td>1029</td>\n",
       "      <td>276</td>\n",
       "      <td>-0.267520</td>\n",
       "      <td>Penn Ave &amp; Putnam St (Bakery Square)</td>\n",
       "      <td>Alder St &amp; S Higland Ave</td>\n",
       "    </tr>\n",
       "    <tr>\n",
       "      <th>30</th>\n",
       "      <td>1038</td>\n",
       "      <td>1036</td>\n",
       "      <td>233</td>\n",
       "      <td>-0.202781</td>\n",
       "      <td>Boulevard of the Allies &amp; Parkview Ave</td>\n",
       "      <td>Schenley Dr at Schenley Plaza (Carnegie Librar...</td>\n",
       "    </tr>\n",
       "    <tr>\n",
       "      <th>36</th>\n",
       "      <td>1041</td>\n",
       "      <td>1039</td>\n",
       "      <td>205</td>\n",
       "      <td>-0.197445</td>\n",
       "      <td>Fifth Ave &amp; S Bouquet St</td>\n",
       "      <td>Atwood St &amp; Bates</td>\n",
       "    </tr>\n",
       "    <tr>\n",
       "      <th>35</th>\n",
       "      <td>1041</td>\n",
       "      <td>1038</td>\n",
       "      <td>467</td>\n",
       "      <td>-0.162620</td>\n",
       "      <td>Fifth Ave &amp; S Bouquet St</td>\n",
       "      <td>Boulevard of the Allies &amp; Parkview Ave</td>\n",
       "    </tr>\n",
       "    <tr>\n",
       "      <th>3</th>\n",
       "      <td>1001</td>\n",
       "      <td>1012</td>\n",
       "      <td>222</td>\n",
       "      <td>-0.100864</td>\n",
       "      <td>Forbes Ave &amp; Market Square</td>\n",
       "      <td>North Shore Trail &amp; Ft Duquesne Bridge</td>\n",
       "    </tr>\n",
       "    <tr>\n",
       "      <th>31</th>\n",
       "      <td>1038</td>\n",
       "      <td>1037</td>\n",
       "      <td>430</td>\n",
       "      <td>-0.035469</td>\n",
       "      <td>Boulevard of the Allies &amp; Parkview Ave</td>\n",
       "      <td>Frew St &amp; Schenley Dr</td>\n",
       "    </tr>\n",
       "    <tr>\n",
       "      <th>12</th>\n",
       "      <td>1017</td>\n",
       "      <td>1000</td>\n",
       "      <td>342</td>\n",
       "      <td>-0.033151</td>\n",
       "      <td>21st St &amp; Penn Ave</td>\n",
       "      <td>Liberty Ave &amp; Stanwix St</td>\n",
       "    </tr>\n",
       "    <tr>\n",
       "      <th>14</th>\n",
       "      <td>1017</td>\n",
       "      <td>1010</td>\n",
       "      <td>315</td>\n",
       "      <td>-0.027773</td>\n",
       "      <td>21st St &amp; Penn Ave</td>\n",
       "      <td>10th St &amp; Penn Ave (David L. Lawrence Conventi...</td>\n",
       "    </tr>\n",
       "    <tr>\n",
       "      <th>43</th>\n",
       "      <td>1048</td>\n",
       "      <td>1045</td>\n",
       "      <td>258</td>\n",
       "      <td>-0.021979</td>\n",
       "      <td>S 18th St &amp; Sidney St</td>\n",
       "      <td>S 27th St &amp; Sidney St. (Southside Works)</td>\n",
       "    </tr>\n",
       "    <tr>\n",
       "      <th>10</th>\n",
       "      <td>1016</td>\n",
       "      <td>1010</td>\n",
       "      <td>382</td>\n",
       "      <td>-0.010418</td>\n",
       "      <td>17th St &amp; Penn Ave</td>\n",
       "      <td>10th St &amp; Penn Ave (David L. Lawrence Conventi...</td>\n",
       "    </tr>\n",
       "    <tr>\n",
       "      <th>13</th>\n",
       "      <td>1017</td>\n",
       "      <td>1001</td>\n",
       "      <td>293</td>\n",
       "      <td>-0.001657</td>\n",
       "      <td>21st St &amp; Penn Ave</td>\n",
       "      <td>Forbes Ave &amp; Market Square</td>\n",
       "    </tr>\n",
       "    <tr>\n",
       "      <th>4</th>\n",
       "      <td>1001</td>\n",
       "      <td>1017</td>\n",
       "      <td>316</td>\n",
       "      <td>0.001657</td>\n",
       "      <td>Forbes Ave &amp; Market Square</td>\n",
       "      <td>21st St &amp; Penn Ave</td>\n",
       "    </tr>\n",
       "    <tr>\n",
       "      <th>8</th>\n",
       "      <td>1010</td>\n",
       "      <td>1016</td>\n",
       "      <td>342</td>\n",
       "      <td>0.010418</td>\n",
       "      <td>10th St &amp; Penn Ave (David L. Lawrence Conventi...</td>\n",
       "      <td>17th St &amp; Penn Ave</td>\n",
       "    </tr>\n",
       "    <tr>\n",
       "      <th>42</th>\n",
       "      <td>1045</td>\n",
       "      <td>1049</td>\n",
       "      <td>248</td>\n",
       "      <td>0.027313</td>\n",
       "      <td>S 27th St &amp; Sidney St. (Southside Works)</td>\n",
       "      <td>S 12th St &amp; E Carson St</td>\n",
       "    </tr>\n",
       "    <tr>\n",
       "      <th>9</th>\n",
       "      <td>1010</td>\n",
       "      <td>1017</td>\n",
       "      <td>449</td>\n",
       "      <td>0.027773</td>\n",
       "      <td>10th St &amp; Penn Ave (David L. Lawrence Conventi...</td>\n",
       "      <td>21st St &amp; Penn Ave</td>\n",
       "    </tr>\n",
       "    <tr>\n",
       "      <th>1</th>\n",
       "      <td>1000</td>\n",
       "      <td>1017</td>\n",
       "      <td>289</td>\n",
       "      <td>0.033151</td>\n",
       "      <td>Liberty Ave &amp; Stanwix St</td>\n",
       "      <td>21st St &amp; Penn Ave</td>\n",
       "    </tr>\n",
       "    <tr>\n",
       "      <th>29</th>\n",
       "      <td>1037</td>\n",
       "      <td>1038</td>\n",
       "      <td>396</td>\n",
       "      <td>0.035469</td>\n",
       "      <td>Frew St &amp; Schenley Dr</td>\n",
       "      <td>Boulevard of the Allies &amp; Parkview Ave</td>\n",
       "    </tr>\n",
       "    <tr>\n",
       "      <th>32</th>\n",
       "      <td>1038</td>\n",
       "      <td>1041</td>\n",
       "      <td>555</td>\n",
       "      <td>0.162620</td>\n",
       "      <td>Boulevard of the Allies &amp; Parkview Ave</td>\n",
       "      <td>Fifth Ave &amp; S Bouquet St</td>\n",
       "    </tr>\n",
       "    <tr>\n",
       "      <th>33</th>\n",
       "      <td>1039</td>\n",
       "      <td>1041</td>\n",
       "      <td>249</td>\n",
       "      <td>0.197445</td>\n",
       "      <td>Atwood St &amp; Bates</td>\n",
       "      <td>Fifth Ave &amp; S Bouquet St</td>\n",
       "    </tr>\n",
       "    <tr>\n",
       "      <th>28</th>\n",
       "      <td>1036</td>\n",
       "      <td>1038</td>\n",
       "      <td>234</td>\n",
       "      <td>0.202781</td>\n",
       "      <td>Schenley Dr at Schenley Plaza (Carnegie Librar...</td>\n",
       "      <td>Boulevard of the Allies &amp; Parkview Ave</td>\n",
       "    </tr>\n",
       "    <tr>\n",
       "      <th>27</th>\n",
       "      <td>1029</td>\n",
       "      <td>1028</td>\n",
       "      <td>472</td>\n",
       "      <td>0.267520</td>\n",
       "      <td>Alder St &amp; S Higland Ave</td>\n",
       "      <td>Penn Ave &amp; Putnam St (Bakery Square)</td>\n",
       "    </tr>\n",
       "    <tr>\n",
       "      <th>0</th>\n",
       "      <td>1000</td>\n",
       "      <td>1001</td>\n",
       "      <td>184</td>\n",
       "      <td>0.470983</td>\n",
       "      <td>Liberty Ave &amp; Stanwix St</td>\n",
       "      <td>Forbes Ave &amp; Market Square</td>\n",
       "    </tr>\n",
       "    <tr>\n",
       "      <th>5</th>\n",
       "      <td>1006</td>\n",
       "      <td>1008</td>\n",
       "      <td>75</td>\n",
       "      <td>1.099970</td>\n",
       "      <td>Ross St &amp; Sixth Ave (Steel Plaza T Station)</td>\n",
       "      <td>Centre Ave &amp; PPG Paints Arena</td>\n",
       "    </tr>\n",
       "    <tr>\n",
       "      <th>16</th>\n",
       "      <td>1018</td>\n",
       "      <td>1020</td>\n",
       "      <td>11</td>\n",
       "      <td>1.878647</td>\n",
       "      <td>37th St &amp; Butler St</td>\n",
       "      <td>42nd St &amp; Penn Ave (Children's Hospital)</td>\n",
       "    </tr>\n",
       "    <tr>\n",
       "      <th>17</th>\n",
       "      <td>1019</td>\n",
       "      <td>1020</td>\n",
       "      <td>13</td>\n",
       "      <td>2.162540</td>\n",
       "      <td>42nd St &amp; Butler St</td>\n",
       "      <td>42nd St &amp; Penn Ave (Children's Hospital)</td>\n",
       "    </tr>\n",
       "    <tr>\n",
       "      <th>15</th>\n",
       "      <td>1017</td>\n",
       "      <td>1042</td>\n",
       "      <td>1</td>\n",
       "      <td>2.660560</td>\n",
       "      <td>21st St &amp; Penn Ave</td>\n",
       "      <td>Centre Ave &amp; Kirkpatrick St</td>\n",
       "    </tr>\n",
       "    <tr>\n",
       "      <th>11</th>\n",
       "      <td>1016</td>\n",
       "      <td>1042</td>\n",
       "      <td>1</td>\n",
       "      <td>2.672255</td>\n",
       "      <td>17th St &amp; Penn Ave</td>\n",
       "      <td>Centre Ave &amp; Kirkpatrick St</td>\n",
       "    </tr>\n",
       "  </tbody>\n",
       "</table>\n",
       "</div>"
      ],
      "text/plain": [
       "    From station id  To station id  rides     grade  \\\n",
       "39             1042           1016      1 -2.672255   \n",
       "19             1020           1019     71 -2.162540   \n",
       "18             1020           1018     15 -1.878647   \n",
       "37             1042           1009      7 -1.824594   \n",
       "38             1042           1010      7 -1.514441   \n",
       "7              1008           1009      8 -1.464843   \n",
       "21             1020           1061      1 -1.459064   \n",
       "20             1020           1050     28 -1.450973   \n",
       "22             1021           1018     35 -1.367609   \n",
       "23             1021           1019     56 -1.358789   \n",
       "24             1021           1050     98 -1.264910   \n",
       "6              1008           1006    131 -1.099970   \n",
       "34             1039           1045     81 -0.999818   \n",
       "41             1044           1045    106 -0.954702   \n",
       "25             1025           1026    129 -0.814789   \n",
       "40             1043           1044    134 -0.686964   \n",
       "2              1001           1000    208 -0.470983   \n",
       "26             1028           1029    276 -0.267520   \n",
       "30             1038           1036    233 -0.202781   \n",
       "36             1041           1039    205 -0.197445   \n",
       "35             1041           1038    467 -0.162620   \n",
       "3              1001           1012    222 -0.100864   \n",
       "31             1038           1037    430 -0.035469   \n",
       "12             1017           1000    342 -0.033151   \n",
       "14             1017           1010    315 -0.027773   \n",
       "43             1048           1045    258 -0.021979   \n",
       "10             1016           1010    382 -0.010418   \n",
       "13             1017           1001    293 -0.001657   \n",
       "4              1001           1017    316  0.001657   \n",
       "8              1010           1016    342  0.010418   \n",
       "42             1045           1049    248  0.027313   \n",
       "9              1010           1017    449  0.027773   \n",
       "1              1000           1017    289  0.033151   \n",
       "29             1037           1038    396  0.035469   \n",
       "32             1038           1041    555  0.162620   \n",
       "33             1039           1041    249  0.197445   \n",
       "28             1036           1038    234  0.202781   \n",
       "27             1029           1028    472  0.267520   \n",
       "0              1000           1001    184  0.470983   \n",
       "5              1006           1008     75  1.099970   \n",
       "16             1018           1020     11  1.878647   \n",
       "17             1019           1020     13  2.162540   \n",
       "15             1017           1042      1  2.660560   \n",
       "11             1016           1042      1  2.672255   \n",
       "\n",
       "                                     StationName_from  \\\n",
       "39                        Centre Ave & Kirkpatrick St   \n",
       "19           42nd St & Penn Ave (Children's Hospital)   \n",
       "18           42nd St & Penn Ave (Children's Hospital)   \n",
       "37                        Centre Ave & Kirkpatrick St   \n",
       "38                        Centre Ave & Kirkpatrick St   \n",
       "7                       Centre Ave & PPG Paints Arena   \n",
       "21           42nd St & Penn Ave (Children's Hospital)   \n",
       "20           42nd St & Penn Ave (Children's Hospital)   \n",
       "22                            Taylor St & Liberty Ave   \n",
       "23                            Taylor St & Liberty Ave   \n",
       "24                            Taylor St & Liberty Ave   \n",
       "6                       Centre Ave & PPG Paints Arena   \n",
       "34                                  Atwood St & Bates   \n",
       "41                            Zulema St & Coltart Ave   \n",
       "25                          Penn Ave & N Fairmount St   \n",
       "40                           Coltart Ave & Forbes Ave   \n",
       "2                          Forbes Ave & Market Square   \n",
       "26               Penn Ave & Putnam St (Bakery Square)   \n",
       "30             Boulevard of the Allies & Parkview Ave   \n",
       "36                           Fifth Ave & S Bouquet St   \n",
       "35                           Fifth Ave & S Bouquet St   \n",
       "3                          Forbes Ave & Market Square   \n",
       "31             Boulevard of the Allies & Parkview Ave   \n",
       "12                                 21st St & Penn Ave   \n",
       "14                                 21st St & Penn Ave   \n",
       "43                              S 18th St & Sidney St   \n",
       "10                                 17th St & Penn Ave   \n",
       "13                                 21st St & Penn Ave   \n",
       "4                          Forbes Ave & Market Square   \n",
       "8   10th St & Penn Ave (David L. Lawrence Conventi...   \n",
       "42           S 27th St & Sidney St. (Southside Works)   \n",
       "9   10th St & Penn Ave (David L. Lawrence Conventi...   \n",
       "1                            Liberty Ave & Stanwix St   \n",
       "29                              Frew St & Schenley Dr   \n",
       "32             Boulevard of the Allies & Parkview Ave   \n",
       "33                                  Atwood St & Bates   \n",
       "28  Schenley Dr at Schenley Plaza (Carnegie Librar...   \n",
       "27                           Alder St & S Higland Ave   \n",
       "0                            Liberty Ave & Stanwix St   \n",
       "5         Ross St & Sixth Ave (Steel Plaza T Station)   \n",
       "16                                37th St & Butler St   \n",
       "17                                42nd St & Butler St   \n",
       "15                                 21st St & Penn Ave   \n",
       "11                                 17th St & Penn Ave   \n",
       "\n",
       "                                       StationName_to  \n",
       "39                                 17th St & Penn Ave  \n",
       "19                                42nd St & Butler St  \n",
       "18                                37th St & Butler St  \n",
       "37                                 12th St & Penn Ave  \n",
       "38  10th St & Penn Ave (David L. Lawrence Conventi...  \n",
       "7                                  12th St & Penn Ave  \n",
       "21                               33rd St and Penn Ave  \n",
       "20                                   Healthy Ride Hub  \n",
       "22                                37th St & Butler St  \n",
       "23                                42nd St & Butler St  \n",
       "24                                   Healthy Ride Hub  \n",
       "6         Ross St & Sixth Ave (Steel Plaza T Station)  \n",
       "34           S 27th St & Sidney St. (Southside Works)  \n",
       "41           S 27th St & Sidney St. (Southside Works)  \n",
       "25                          Penn Ave & S Whitfield St  \n",
       "40                            Zulema St & Coltart Ave  \n",
       "2                            Liberty Ave & Stanwix St  \n",
       "26                           Alder St & S Higland Ave  \n",
       "30  Schenley Dr at Schenley Plaza (Carnegie Librar...  \n",
       "36                                  Atwood St & Bates  \n",
       "35             Boulevard of the Allies & Parkview Ave  \n",
       "3              North Shore Trail & Ft Duquesne Bridge  \n",
       "31                              Frew St & Schenley Dr  \n",
       "12                           Liberty Ave & Stanwix St  \n",
       "14  10th St & Penn Ave (David L. Lawrence Conventi...  \n",
       "43           S 27th St & Sidney St. (Southside Works)  \n",
       "10  10th St & Penn Ave (David L. Lawrence Conventi...  \n",
       "13                         Forbes Ave & Market Square  \n",
       "4                                  21st St & Penn Ave  \n",
       "8                                  17th St & Penn Ave  \n",
       "42                            S 12th St & E Carson St  \n",
       "9                                  21st St & Penn Ave  \n",
       "1                                  21st St & Penn Ave  \n",
       "29             Boulevard of the Allies & Parkview Ave  \n",
       "32                           Fifth Ave & S Bouquet St  \n",
       "33                           Fifth Ave & S Bouquet St  \n",
       "28             Boulevard of the Allies & Parkview Ave  \n",
       "27               Penn Ave & Putnam St (Bakery Square)  \n",
       "0                          Forbes Ave & Market Square  \n",
       "5                       Centre Ave & PPG Paints Arena  \n",
       "16           42nd St & Penn Ave (Children's Hospital)  \n",
       "17           42nd St & Penn Ave (Children's Hospital)  \n",
       "15                        Centre Ave & Kirkpatrick St  \n",
       "11                        Centre Ave & Kirkpatrick St  "
      ]
     },
     "execution_count": 39,
     "metadata": {},
     "output_type": "execute_result"
    }
   ],
   "source": [
    "pd.options.display.max_rows = 100\n",
    "outliers.sort_values(['grade','rides'])"
   ]
  },
  {
   "cell_type": "markdown",
   "metadata": {},
   "source": [
    "## Google Distance Matrix"
   ]
  },
  {
   "cell_type": "markdown",
   "metadata": {},
   "source": [
    "Let's use the Google Maps Distance Matrix to get *actual* distance along the journey.\n",
    "\n",
    "This assumes that the rider kept to Google Map's recommended route."
   ]
  },
  {
   "cell_type": "code",
   "execution_count": 40,
   "metadata": {
    "collapsed": true
   },
   "outputs": [],
   "source": [
    "c_dist = googlemaps.Client(key=google_dist)"
   ]
  },
  {
   "cell_type": "code",
   "execution_count": 41,
   "metadata": {
    "collapsed": true
   },
   "outputs": [],
   "source": [
    "origin = (\n",
    "    rides[['From station id']]\n",
    "    .merge(stations[['Latitude','Longitude']], left_on='From station id', right_index=True)\n",
    ")\n",
    "\n",
    "destination = (\n",
    "    rides[['To station id']]\n",
    "    .merge(stations[['Latitude','Longitude']], left_on='To station id', right_index=True)\n",
    ")\n",
    "\n",
    "unique_pairs = origin.join(destination, lsuffix='_origin', rsuffix='_dest').drop_duplicates()"
   ]
  },
  {
   "cell_type": "code",
   "execution_count": 42,
   "metadata": {
    "scrolled": true
   },
   "outputs": [
    {
     "data": {
      "text/html": [
       "<div>\n",
       "<style>\n",
       "    .dataframe thead tr:only-child th {\n",
       "        text-align: right;\n",
       "    }\n",
       "\n",
       "    .dataframe thead th {\n",
       "        text-align: left;\n",
       "    }\n",
       "\n",
       "    .dataframe tbody tr th {\n",
       "        vertical-align: top;\n",
       "    }\n",
       "</style>\n",
       "<table border=\"1\" class=\"dataframe\">\n",
       "  <thead>\n",
       "    <tr style=\"text-align: right;\">\n",
       "      <th></th>\n",
       "      <th>From station id</th>\n",
       "      <th>Latitude_origin</th>\n",
       "      <th>Longitude_origin</th>\n",
       "      <th>To station id</th>\n",
       "      <th>Latitude_dest</th>\n",
       "      <th>Longitude_dest</th>\n",
       "    </tr>\n",
       "  </thead>\n",
       "  <tbody>\n",
       "    <tr>\n",
       "      <th>0</th>\n",
       "      <td>1026</td>\n",
       "      <td>40.461603</td>\n",
       "      <td>-79.925624</td>\n",
       "      <td>1032</td>\n",
       "      <td>40.453382</td>\n",
       "      <td>-79.927310</td>\n",
       "    </tr>\n",
       "    <tr>\n",
       "      <th>298</th>\n",
       "      <td>1026</td>\n",
       "      <td>40.461603</td>\n",
       "      <td>-79.925624</td>\n",
       "      <td>1037</td>\n",
       "      <td>40.441032</td>\n",
       "      <td>-79.948042</td>\n",
       "    </tr>\n",
       "    <tr>\n",
       "      <th>333</th>\n",
       "      <td>1026</td>\n",
       "      <td>40.461603</td>\n",
       "      <td>-79.925624</td>\n",
       "      <td>1033</td>\n",
       "      <td>40.451770</td>\n",
       "      <td>-79.932324</td>\n",
       "    </tr>\n",
       "    <tr>\n",
       "      <th>519</th>\n",
       "      <td>1026</td>\n",
       "      <td>40.461603</td>\n",
       "      <td>-79.925624</td>\n",
       "      <td>1024</td>\n",
       "      <td>40.458714</td>\n",
       "      <td>-79.933483</td>\n",
       "    </tr>\n",
       "    <tr>\n",
       "      <th>988</th>\n",
       "      <td>1026</td>\n",
       "      <td>40.461603</td>\n",
       "      <td>-79.925624</td>\n",
       "      <td>1020</td>\n",
       "      <td>40.465893</td>\n",
       "      <td>-79.954417</td>\n",
       "    </tr>\n",
       "  </tbody>\n",
       "</table>\n",
       "</div>"
      ],
      "text/plain": [
       "     From station id  Latitude_origin  Longitude_origin  To station id  \\\n",
       "0               1026        40.461603        -79.925624           1032   \n",
       "298             1026        40.461603        -79.925624           1037   \n",
       "333             1026        40.461603        -79.925624           1033   \n",
       "519             1026        40.461603        -79.925624           1024   \n",
       "988             1026        40.461603        -79.925624           1020   \n",
       "\n",
       "     Latitude_dest  Longitude_dest  \n",
       "0        40.453382      -79.927310  \n",
       "298      40.441032      -79.948042  \n",
       "333      40.451770      -79.932324  \n",
       "519      40.458714      -79.933483  \n",
       "988      40.465893      -79.954417  "
      ]
     },
     "execution_count": 42,
     "metadata": {},
     "output_type": "execute_result"
    }
   ],
   "source": [
    "unique_pairs.head()"
   ]
  },
  {
   "cell_type": "code",
   "execution_count": 43,
   "metadata": {
    "collapsed": true
   },
   "outputs": [],
   "source": [
    "def g_dist_time(df):\n",
    "    origins = df[['Latitude_origin','Longitude_origin']].to_frame().T.to_records(index=False)\n",
    "    destinations = df[['Latitude_dest','Longitude_dest']].to_frame().T.to_records(index=False)\n",
    "    \n",
    "    json = c_dist.distance_matrix(origins, destinations, units='imperial', mode='bicycling')\n",
    "    \n",
    "    rows = [r['elements'][0] for r in json['rows']]\n",
    "    # units don't matter; ['distance']['value'] is _always_ in meters\n",
    "    values = {'distance (meters)':rows[0]['distance']['value'],\n",
    "                  'time':pd.to_timedelta(rows[0]['duration']['value'], unit='s')}\n",
    "    return pd.Series(values)"
   ]
  },
  {
   "cell_type": "markdown",
   "metadata": {},
   "source": [
    "In order to comply with the [Distance Matrix API usage limits](https://developers.google.com/maps/documentation/distance-matrix/usage-limits) let's run the apply every 10 rows and wait a few seconds in between. "
   ]
  },
  {
   "cell_type": "code",
   "execution_count": 54,
   "metadata": {},
   "outputs": [],
   "source": [
    "import time\n",
    "\n",
    "results = []\n",
    "for chunk in np.array_split(unique_pairs, 200)[10:]:\n",
    "    time.sleep(10)\n",
    "    result = chunk.apply(g_dist_time, axis='columns')\n",
    "    results.append(result)"
   ]
  },
  {
   "cell_type": "code",
   "execution_count": 58,
   "metadata": {},
   "outputs": [
    {
     "data": {
      "text/html": [
       "<div>\n",
       "<style>\n",
       "    .dataframe thead tr:only-child th {\n",
       "        text-align: right;\n",
       "    }\n",
       "\n",
       "    .dataframe thead th {\n",
       "        text-align: left;\n",
       "    }\n",
       "\n",
       "    .dataframe tbody tr th {\n",
       "        vertical-align: top;\n",
       "    }\n",
       "</style>\n",
       "<table border=\"1\" class=\"dataframe\">\n",
       "  <thead>\n",
       "    <tr style=\"text-align: right;\">\n",
       "      <th></th>\n",
       "      <th>distance (meters)</th>\n",
       "      <th>time</th>\n",
       "    </tr>\n",
       "  </thead>\n",
       "  <tbody>\n",
       "    <tr>\n",
       "      <th>0</th>\n",
       "      <td>1068</td>\n",
       "      <td>00:03:47</td>\n",
       "    </tr>\n",
       "    <tr>\n",
       "      <th>298</th>\n",
       "      <td>3735</td>\n",
       "      <td>00:14:12</td>\n",
       "    </tr>\n",
       "    <tr>\n",
       "      <th>333</th>\n",
       "      <td>1686</td>\n",
       "      <td>00:06:26</td>\n",
       "    </tr>\n",
       "    <tr>\n",
       "      <th>519</th>\n",
       "      <td>954</td>\n",
       "      <td>00:03:33</td>\n",
       "    </tr>\n",
       "    <tr>\n",
       "      <th>988</th>\n",
       "      <td>2543</td>\n",
       "      <td>00:10:16</td>\n",
       "    </tr>\n",
       "  </tbody>\n",
       "</table>\n",
       "</div>"
      ],
      "text/plain": [
       "     distance (meters)     time\n",
       "0                 1068 00:03:47\n",
       "298               3735 00:14:12\n",
       "333               1686 00:06:26\n",
       "519                954 00:03:33\n",
       "988               2543 00:10:16"
      ]
     },
     "execution_count": 58,
     "metadata": {},
     "output_type": "execute_result"
    }
   ],
   "source": [
    "gmap = pd.concat(results)\n",
    "gmap.to_csv('distances.csv')\n",
    "gmap.head()"
   ]
  },
  {
   "cell_type": "code",
   "execution_count": 63,
   "metadata": {
    "scrolled": false
   },
   "outputs": [],
   "source": [
    "gmap_pairs = unique_pairs.join(gmap).rename(columns={'distance (meters)':'Gdistance (meters)'})"
   ]
  },
  {
   "cell_type": "code",
   "execution_count": 68,
   "metadata": {},
   "outputs": [],
   "source": [
    "rides_complete = rides.merge(gmap_pairs)\n",
    "rides_complete.to_csv('rides2016.csv', index=False)"
   ]
  },
  {
   "cell_type": "markdown",
   "metadata": {},
   "source": [
    "# Datetime"
   ]
  },
  {
   "cell_type": "code",
   "execution_count": null,
   "metadata": {
    "collapsed": true
   },
   "outputs": [],
   "source": [
    "for c in 'Starttime','Stoptime':\n",
    "    rides_complete[c] = pd.to_datetime(rides_complete[c])"
   ]
  },
  {
   "cell_type": "markdown",
   "metadata": {},
   "source": [
    "The tripduration is claimed to be in seconds, but many of these just look wrong."
   ]
  },
  {
   "cell_type": "code",
   "execution_count": 87,
   "metadata": {},
   "outputs": [],
   "source": [
    "rides_complete['Tripduration'] = pd.to_timedelta(rides_complete['Tripduration'], unit='s')"
   ]
  },
  {
   "cell_type": "markdown",
   "metadata": {},
   "source": [
    "The starttime should not be after the stoptime!"
   ]
  },
  {
   "cell_type": "code",
   "execution_count": 88,
   "metadata": {},
   "outputs": [
    {
     "data": {
      "text/html": [
       "<div>\n",
       "<style>\n",
       "    .dataframe thead tr:only-child th {\n",
       "        text-align: right;\n",
       "    }\n",
       "\n",
       "    .dataframe thead th {\n",
       "        text-align: left;\n",
       "    }\n",
       "\n",
       "    .dataframe tbody tr th {\n",
       "        vertical-align: top;\n",
       "    }\n",
       "</style>\n",
       "<table border=\"1\" class=\"dataframe\">\n",
       "  <thead>\n",
       "    <tr style=\"text-align: right;\">\n",
       "      <th></th>\n",
       "      <th>Trip id</th>\n",
       "      <th>Starttime</th>\n",
       "      <th>Stoptime</th>\n",
       "      <th>Bikeid</th>\n",
       "      <th>Tripduration</th>\n",
       "      <th>From station id</th>\n",
       "      <th>From station name</th>\n",
       "      <th>To station id</th>\n",
       "      <th>To station name</th>\n",
       "      <th>Usertype</th>\n",
       "      <th>elevation_change</th>\n",
       "      <th>distance (miles)</th>\n",
       "      <th>grade</th>\n",
       "      <th>Latitude_origin</th>\n",
       "      <th>Longitude_origin</th>\n",
       "      <th>Latitude_dest</th>\n",
       "      <th>Longitude_dest</th>\n",
       "      <th>Gdistance (meters)</th>\n",
       "      <th>time</th>\n",
       "    </tr>\n",
       "  </thead>\n",
       "  <tbody>\n",
       "    <tr>\n",
       "      <th>6565</th>\n",
       "      <td>25067606</td>\n",
       "      <td>2016-10-29 20:57:00</td>\n",
       "      <td>2016-10-29 20:06:00</td>\n",
       "      <td>70171</td>\n",
       "      <td>09:11:00</td>\n",
       "      <td>1045</td>\n",
       "      <td>S 27th St &amp; Sidney St. (Southside Works)</td>\n",
       "      <td>1048</td>\n",
       "      <td>S 18th St &amp; Sidney St</td>\n",
       "      <td>NaN</td>\n",
       "      <td>0.899063</td>\n",
       "      <td>0.774742</td>\n",
       "      <td>0.021979</td>\n",
       "      <td>40.427899</td>\n",
       "      <td>-79.966112</td>\n",
       "      <td>40.429338</td>\n",
       "      <td>-79.980684</td>\n",
       "      <td>1498</td>\n",
       "      <td>00:04:44</td>\n",
       "    </tr>\n",
       "    <tr>\n",
       "      <th>6566</th>\n",
       "      <td>25067607</td>\n",
       "      <td>2016-10-29 20:57:00</td>\n",
       "      <td>2016-10-29 20:14:00</td>\n",
       "      <td>70307</td>\n",
       "      <td>17:09:00</td>\n",
       "      <td>1045</td>\n",
       "      <td>S 27th St &amp; Sidney St. (Southside Works)</td>\n",
       "      <td>1048</td>\n",
       "      <td>S 18th St &amp; Sidney St</td>\n",
       "      <td>NaN</td>\n",
       "      <td>0.899063</td>\n",
       "      <td>0.774742</td>\n",
       "      <td>0.021979</td>\n",
       "      <td>40.427899</td>\n",
       "      <td>-79.966112</td>\n",
       "      <td>40.429338</td>\n",
       "      <td>-79.980684</td>\n",
       "      <td>1498</td>\n",
       "      <td>00:04:44</td>\n",
       "    </tr>\n",
       "  </tbody>\n",
       "</table>\n",
       "</div>"
      ],
      "text/plain": [
       "       Trip id           Starttime            Stoptime  Bikeid Tripduration  \\\n",
       "6565  25067606 2016-10-29 20:57:00 2016-10-29 20:06:00   70171     09:11:00   \n",
       "6566  25067607 2016-10-29 20:57:00 2016-10-29 20:14:00   70307     17:09:00   \n",
       "\n",
       "      From station id                         From station name  \\\n",
       "6565             1045  S 27th St & Sidney St. (Southside Works)   \n",
       "6566             1045  S 27th St & Sidney St. (Southside Works)   \n",
       "\n",
       "      To station id        To station name  Usertype  elevation_change  \\\n",
       "6565           1048  S 18th St & Sidney St       NaN          0.899063   \n",
       "6566           1048  S 18th St & Sidney St       NaN          0.899063   \n",
       "\n",
       "      distance (miles)     grade  Latitude_origin  Longitude_origin  \\\n",
       "6565          0.774742  0.021979        40.427899        -79.966112   \n",
       "6566          0.774742  0.021979        40.427899        -79.966112   \n",
       "\n",
       "      Latitude_dest  Longitude_dest  Gdistance (meters)     time  \n",
       "6565      40.429338      -79.980684                1498 00:04:44  \n",
       "6566      40.429338      -79.980684                1498 00:04:44  "
      ]
     },
     "execution_count": 88,
     "metadata": {},
     "output_type": "execute_result"
    }
   ],
   "source": [
    "wierd = rides_complete['Starttime'] > rides_complete['Stoptime']\n",
    "rides_complete.loc[wierd]"
   ]
  },
  {
   "cell_type": "markdown",
   "metadata": {},
   "source": [
    "According to Google the longest ride between any two stations is 45 minutes."
   ]
  },
  {
   "cell_type": "code",
   "execution_count": 95,
   "metadata": {},
   "outputs": [
    {
     "data": {
      "text/plain": [
       "count                     76419\n",
       "mean     0 days 00:08:00.625276\n",
       "std      0 days 00:07:38.314351\n",
       "min             0 days 00:00:00\n",
       "25%             0 days 00:00:00\n",
       "50%             0 days 00:06:31\n",
       "75%             0 days 00:12:13\n",
       "max             0 days 00:45:19\n",
       "Name: time, dtype: object"
      ]
     },
     "execution_count": 95,
     "metadata": {},
     "output_type": "execute_result"
    }
   ],
   "source": [
    "rides_complete['time'].describe()"
   ]
  },
  {
   "cell_type": "markdown",
   "metadata": {},
   "source": [
    "Let's ignore rides longer than 2 hours. It's likely that the bike sat stationary somewhere along the way."
   ]
  },
  {
   "cell_type": "code",
   "execution_count": 107,
   "metadata": {},
   "outputs": [
    {
     "data": {
      "text/plain": [
       "5550"
      ]
     },
     "execution_count": 107,
     "metadata": {},
     "output_type": "execute_result"
    }
   ],
   "source": [
    "diff = (rides_complete['Stoptime'] - rides_complete['Starttime'])\n",
    "\n",
    "extreme = diff > pd.to_timedelta(2, unit='h')\n",
    "extreme.sum()"
   ]
  },
  {
   "cell_type": "code",
   "execution_count": 108,
   "metadata": {
    "collapsed": true
   },
   "outputs": [],
   "source": [
    "one_way = rides_complete['From station id'] != rides_complete['To station id']\n",
    "\n",
    "clean = ~wierd & ~extreme & one_way"
   ]
  },
  {
   "cell_type": "code",
   "execution_count": 109,
   "metadata": {},
   "outputs": [
    {
     "data": {
      "text/plain": [
       "count                     53609\n",
       "mean     0 days 00:23:02.301106\n",
       "std      0 days 00:21:35.451164\n",
       "min             0 days 00:01:00\n",
       "25%             0 days 00:09:00\n",
       "50%             0 days 00:16:00\n",
       "75%             0 days 00:28:00\n",
       "max             0 days 02:00:00\n",
       "dtype: object"
      ]
     },
     "execution_count": 109,
     "metadata": {},
     "output_type": "execute_result"
    }
   ],
   "source": [
    "diff.loc[clean].describe()"
   ]
  },
  {
   "cell_type": "code",
   "execution_count": 141,
   "metadata": {},
   "outputs": [],
   "source": [
    "deviation = (diff.loc[clean] - rides_complete.loc[clean, 'time']).dt.total_seconds() / 60\n",
    "rides_complete['time deviation (min)'] = deviation"
   ]
  },
  {
   "cell_type": "code",
   "execution_count": 142,
   "metadata": {},
   "outputs": [
    {
     "data": {
      "text/plain": [
       "count    53609.000000\n",
       "mean        12.173457\n",
       "std         20.730310\n",
       "min        -23.033333\n",
       "25%          0.733333\n",
       "50%          3.766667\n",
       "75%         13.350000\n",
       "max        119.066667\n",
       "dtype: float64"
      ]
     },
     "execution_count": 142,
     "metadata": {},
     "output_type": "execute_result"
    }
   ],
   "source": [
    "deviation.describe()"
   ]
  },
  {
   "cell_type": "code",
   "execution_count": 143,
   "metadata": {
    "collapsed": true
   },
   "outputs": [],
   "source": [
    "times = pd.cut(deviation, bins=[-30, 0, 10, 60, 120], labels=['early', 'on_time', 'late', 'very_late'])"
   ]
  },
  {
   "cell_type": "markdown",
   "metadata": {},
   "source": [
    "A majority of our rides are on time!"
   ]
  },
  {
   "cell_type": "code",
   "execution_count": 147,
   "metadata": {},
   "outputs": [
    {
     "data": {
      "text/plain": [
       "<matplotlib.axes._subplots.AxesSubplot at 0x124e160b8>"
      ]
     },
     "execution_count": 147,
     "metadata": {},
     "output_type": "execute_result"
    },
    {
     "data": {
      "image/png": "[encoded data removed]",
      "text/plain": [
       "<matplotlib.figure.Figure at 0x11fba4470>"
      ]
     },
     "metadata": {},
     "output_type": "display_data"
    }
   ],
   "source": [
    "by_time = rides_complete.loc[clean].groupby(times)\n",
    "by_time['Trip id'].count().plot.bar()"
   ]
  },
  {
   "cell_type": "markdown",
   "metadata": {},
   "source": [
    "There may not be much correlation between the deviation from the Google Map time and the grade."
   ]
  },
  {
   "cell_type": "code",
   "execution_count": 164,
   "metadata": {},
   "outputs": [
    {
     "data": {
      "text/plain": [
       "<matplotlib.axes._subplots.AxesSubplot at 0x12b898470>"
      ]
     },
     "execution_count": 164,
     "metadata": {},
     "output_type": "execute_result"
    },
    {
     "data": {
      "image/png": "[encoded data removed]",
      "text/plain": [
       "<matplotlib.figure.Figure at 0x12b4865f8>"
      ]
     },
     "metadata": {},
     "output_type": "display_data"
    }
   ],
   "source": [
    "rides_complete.plot.scatter(x='grade', y='time deviation (min)', figsize=(12,8), alpha=0.4)"
   ]
  },
  {
   "cell_type": "markdown",
   "metadata": {},
   "source": [
    "Here are some of the longest rides."
   ]
  },
  {
   "cell_type": "code",
   "execution_count": 159,
   "metadata": {},
   "outputs": [
    {
     "data": {
      "text/html": [
       "<div>\n",
       "<style>\n",
       "    .dataframe thead tr:only-child th {\n",
       "        text-align: right;\n",
       "    }\n",
       "\n",
       "    .dataframe thead th {\n",
       "        text-align: left;\n",
       "    }\n",
       "\n",
       "    .dataframe tbody tr th {\n",
       "        vertical-align: top;\n",
       "    }\n",
       "</style>\n",
       "<table border=\"1\" class=\"dataframe\">\n",
       "  <thead>\n",
       "    <tr style=\"text-align: right;\">\n",
       "      <th></th>\n",
       "      <th>From station name</th>\n",
       "      <th>To station name</th>\n",
       "      <th>time deviation (min)</th>\n",
       "      <th>grade</th>\n",
       "    </tr>\n",
       "  </thead>\n",
       "  <tbody>\n",
       "    <tr>\n",
       "      <th>0</th>\n",
       "      <td>Stevenson St &amp; Forbes Ave</td>\n",
       "      <td>Centre Ave &amp; PPG Paints Arena</td>\n",
       "      <td>104.850000</td>\n",
       "      <td>1.226560</td>\n",
       "    </tr>\n",
       "    <tr>\n",
       "      <th>3</th>\n",
       "      <td>Liberty Ave &amp; Baum Blvd</td>\n",
       "      <td>Healthy Ride Hub</td>\n",
       "      <td>103.083333</td>\n",
       "      <td>-0.591066</td>\n",
       "    </tr>\n",
       "    <tr>\n",
       "      <th>4</th>\n",
       "      <td>Third Ave &amp; Wood St</td>\n",
       "      <td>Ross St &amp; Sixth Ave (Steel Plaza T Station)</td>\n",
       "      <td>102.966667</td>\n",
       "      <td>0.744398</td>\n",
       "    </tr>\n",
       "    <tr>\n",
       "      <th>11</th>\n",
       "      <td>Open Streets West End</td>\n",
       "      <td>Ridge Ave &amp; Brighton Rd (CCAC)</td>\n",
       "      <td>100.350000</td>\n",
       "      <td>0.175440</td>\n",
       "    </tr>\n",
       "    <tr>\n",
       "      <th>12</th>\n",
       "      <td>Schenley Dr at Schenley Plaza (Carnegie Librar...</td>\n",
       "      <td>37th St &amp; Butler St</td>\n",
       "      <td>95.183333</td>\n",
       "      <td>-0.426116</td>\n",
       "    </tr>\n",
       "    <tr>\n",
       "      <th>14</th>\n",
       "      <td>S Negley Ave &amp; Baum Blvd</td>\n",
       "      <td>S 25th St &amp; E Carson St</td>\n",
       "      <td>93.650000</td>\n",
       "      <td>-0.295472</td>\n",
       "    </tr>\n",
       "    <tr>\n",
       "      <th>15</th>\n",
       "      <td>17th St &amp; Penn Ave</td>\n",
       "      <td>Centre Ave &amp; Kirkpatrick St</td>\n",
       "      <td>93.133333</td>\n",
       "      <td>2.672255</td>\n",
       "    </tr>\n",
       "    <tr>\n",
       "      <th>16</th>\n",
       "      <td>Isabella St &amp; Federal St (PNC Park)</td>\n",
       "      <td>Centre Ave &amp; Kirkpatrick St</td>\n",
       "      <td>92.650000</td>\n",
       "      <td>1.073001</td>\n",
       "    </tr>\n",
       "    <tr>\n",
       "      <th>18</th>\n",
       "      <td>Centre Ave &amp; Kirkpatrick St</td>\n",
       "      <td>S 22nd St &amp; E Carson St</td>\n",
       "      <td>91.666667</td>\n",
       "      <td>-1.213578</td>\n",
       "    </tr>\n",
       "    <tr>\n",
       "      <th>21</th>\n",
       "      <td>Forbes Ave &amp; Grant St</td>\n",
       "      <td>Third Ave &amp; Wood St</td>\n",
       "      <td>90.866667</td>\n",
       "      <td>-0.837623</td>\n",
       "    </tr>\n",
       "    <tr>\n",
       "      <th>29</th>\n",
       "      <td>S 27th St &amp; Sidney St. (Southside Works)</td>\n",
       "      <td>Liberty Ave &amp; S Millvale Ave (West Penn Hospital)</td>\n",
       "      <td>90.150000</td>\n",
       "      <td>0.440876</td>\n",
       "    </tr>\n",
       "    <tr>\n",
       "      <th>34</th>\n",
       "      <td>10th St &amp; Penn Ave (David L. Lawrence Conventi...</td>\n",
       "      <td>Atwood St &amp; Bates St</td>\n",
       "      <td>88.683333</td>\n",
       "      <td>0.460808</td>\n",
       "    </tr>\n",
       "    <tr>\n",
       "      <th>36</th>\n",
       "      <td>Centre Ave &amp; PPG Paints Arena</td>\n",
       "      <td>Stevenson St &amp; Forbes Ave</td>\n",
       "      <td>87.233333</td>\n",
       "      <td>-1.226560</td>\n",
       "    </tr>\n",
       "    <tr>\n",
       "      <th>40</th>\n",
       "      <td>21st St &amp; Penn Ave</td>\n",
       "      <td>Centre Ave &amp; Kirkpatrick St</td>\n",
       "      <td>86.366667</td>\n",
       "      <td>2.660560</td>\n",
       "    </tr>\n",
       "    <tr>\n",
       "      <th>41</th>\n",
       "      <td>S Negley Ave &amp; Baum Blvd</td>\n",
       "      <td>Ridge Ave &amp; Brighton Rd (CCAC)</td>\n",
       "      <td>85.266667</td>\n",
       "      <td>-0.160281</td>\n",
       "    </tr>\n",
       "  </tbody>\n",
       "</table>\n",
       "</div>"
      ],
      "text/plain": [
       "                                    From station name  \\\n",
       "0                           Stevenson St & Forbes Ave   \n",
       "3                             Liberty Ave & Baum Blvd   \n",
       "4                                 Third Ave & Wood St   \n",
       "11                              Open Streets West End   \n",
       "12  Schenley Dr at Schenley Plaza (Carnegie Librar...   \n",
       "14                           S Negley Ave & Baum Blvd   \n",
       "15                                 17th St & Penn Ave   \n",
       "16                Isabella St & Federal St (PNC Park)   \n",
       "18                        Centre Ave & Kirkpatrick St   \n",
       "21                              Forbes Ave & Grant St   \n",
       "29           S 27th St & Sidney St. (Southside Works)   \n",
       "34  10th St & Penn Ave (David L. Lawrence Conventi...   \n",
       "36                      Centre Ave & PPG Paints Arena   \n",
       "40                                 21st St & Penn Ave   \n",
       "41                           S Negley Ave & Baum Blvd   \n",
       "\n",
       "                                      To station name  time deviation (min)  \\\n",
       "0                       Centre Ave & PPG Paints Arena            104.850000   \n",
       "3                                    Healthy Ride Hub            103.083333   \n",
       "4         Ross St & Sixth Ave (Steel Plaza T Station)            102.966667   \n",
       "11                     Ridge Ave & Brighton Rd (CCAC)            100.350000   \n",
       "12                                37th St & Butler St             95.183333   \n",
       "14                            S 25th St & E Carson St             93.650000   \n",
       "15                        Centre Ave & Kirkpatrick St             93.133333   \n",
       "16                        Centre Ave & Kirkpatrick St             92.650000   \n",
       "18                            S 22nd St & E Carson St             91.666667   \n",
       "21                                Third Ave & Wood St             90.866667   \n",
       "29  Liberty Ave & S Millvale Ave (West Penn Hospital)             90.150000   \n",
       "34                               Atwood St & Bates St             88.683333   \n",
       "36                          Stevenson St & Forbes Ave             87.233333   \n",
       "40                        Centre Ave & Kirkpatrick St             86.366667   \n",
       "41                     Ridge Ave & Brighton Rd (CCAC)             85.266667   \n",
       "\n",
       "       grade  \n",
       "0   1.226560  \n",
       "3  -0.591066  \n",
       "4   0.744398  \n",
       "11  0.175440  \n",
       "12 -0.426116  \n",
       "14 -0.295472  \n",
       "15  2.672255  \n",
       "16  1.073001  \n",
       "18 -1.213578  \n",
       "21 -0.837623  \n",
       "29  0.440876  \n",
       "34  0.460808  \n",
       "36 -1.226560  \n",
       "40  2.660560  \n",
       "41 -0.160281  "
      ]
     },
     "execution_count": 159,
     "metadata": {},
     "output_type": "execute_result"
    }
   ],
   "source": [
    "large_deviation = (\n",
    "   rides_complete.loc[clean]\n",
    "  .groupby(['From station name','To station name'])['time deviation (min)']\n",
    "  .median()\n",
    "  .nlargest(15)\n",
    ")                   \n",
    "\n",
    "large_deviation = large_deviation.reset_index().merge(rides_complete[['From station name','To station name','grade']])\n",
    "large_deviation.drop_duplicates(subset=['From station name','To station name'])"
   ]
  }
 ],
 "metadata": {
  "kernelspec": {
   "display_name": "Python [conda env:bikes]",
   "language": "python",
   "name": "conda-env-bikes-py"
  },
  "language_info": {
   "codemirror_mode": {
    "name": "ipython",
    "version": 3
   },
   "file_extension": ".py",
   "mimetype": "text/x-python",
   "name": "python",
   "nbconvert_exporter": "python",
   "pygments_lexer": "ipython3",
   "version": "3.6.2"
  }
 },
 "nbformat": 4,
 "nbformat_minor": 2
}
